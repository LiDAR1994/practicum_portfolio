{
 "cells": [
  {
   "cell_type": "markdown",
   "id": "a3bc7dee",
   "metadata": {},
   "source": [
    "# Исследовательский анализ и проверка гипотез для сервиса аренды самокатов GoFast"
   ]
  },
  {
   "cell_type": "markdown",
   "id": "f1b0847f",
   "metadata": {},
   "source": [
    "Анализ данных о некоторых пользователях популярного сервиса аренды самокатов GoFast из нескольких городов, а также об их поездках, и проверка гипотез."
   ]
  },
  {
   "cell_type": "markdown",
   "id": "c42cbe00",
   "metadata": {},
   "source": [
    "## Загрузка библиотек и данных"
   ]
  },
  {
   "cell_type": "code",
   "execution_count": 1,
   "id": "72576667",
   "metadata": {},
   "outputs": [],
   "source": [
    "import pandas as pd\n",
    "import matplotlib.pyplot as plt\n",
    "import numpy as np\n",
    "from math import sqrt\n",
    "from scipy.stats import binom, norm\n",
    "from scipy import stats as st"
   ]
  },
  {
   "cell_type": "code",
   "execution_count": 2,
   "id": "eff9f206",
   "metadata": {},
   "outputs": [
    {
     "data": {
      "text/html": [
       "<div>\n",
       "<style scoped>\n",
       "    .dataframe tbody tr th:only-of-type {\n",
       "        vertical-align: middle;\n",
       "    }\n",
       "\n",
       "    .dataframe tbody tr th {\n",
       "        vertical-align: top;\n",
       "    }\n",
       "\n",
       "    .dataframe thead th {\n",
       "        text-align: right;\n",
       "    }\n",
       "</style>\n",
       "<table border=\"1\" class=\"dataframe\">\n",
       "  <thead>\n",
       "    <tr style=\"text-align: right;\">\n",
       "      <th></th>\n",
       "      <th>user_id</th>\n",
       "      <th>name</th>\n",
       "      <th>age</th>\n",
       "      <th>city</th>\n",
       "      <th>subscription_type</th>\n",
       "    </tr>\n",
       "  </thead>\n",
       "  <tbody>\n",
       "    <tr>\n",
       "      <th>0</th>\n",
       "      <td>1</td>\n",
       "      <td>Кира</td>\n",
       "      <td>22</td>\n",
       "      <td>Тюмень</td>\n",
       "      <td>ultra</td>\n",
       "    </tr>\n",
       "    <tr>\n",
       "      <th>1</th>\n",
       "      <td>2</td>\n",
       "      <td>Станислав</td>\n",
       "      <td>31</td>\n",
       "      <td>Омск</td>\n",
       "      <td>ultra</td>\n",
       "    </tr>\n",
       "    <tr>\n",
       "      <th>2</th>\n",
       "      <td>3</td>\n",
       "      <td>Алексей</td>\n",
       "      <td>20</td>\n",
       "      <td>Москва</td>\n",
       "      <td>ultra</td>\n",
       "    </tr>\n",
       "    <tr>\n",
       "      <th>3</th>\n",
       "      <td>4</td>\n",
       "      <td>Константин</td>\n",
       "      <td>26</td>\n",
       "      <td>Ростов-на-Дону</td>\n",
       "      <td>ultra</td>\n",
       "    </tr>\n",
       "    <tr>\n",
       "      <th>4</th>\n",
       "      <td>5</td>\n",
       "      <td>Адель</td>\n",
       "      <td>28</td>\n",
       "      <td>Омск</td>\n",
       "      <td>ultra</td>\n",
       "    </tr>\n",
       "  </tbody>\n",
       "</table>\n",
       "</div>"
      ],
      "text/plain": [
       "   user_id        name  age            city subscription_type\n",
       "0        1        Кира   22          Тюмень             ultra\n",
       "1        2   Станислав   31            Омск             ultra\n",
       "2        3     Алексей   20          Москва             ultra\n",
       "3        4  Константин   26  Ростов-на-Дону             ultra\n",
       "4        5       Адель   28            Омск             ultra"
      ]
     },
     "metadata": {},
     "output_type": "display_data"
    },
    {
     "name": "stdout",
     "output_type": "stream",
     "text": [
      "<class 'pandas.core.frame.DataFrame'>\n",
      "RangeIndex: 1565 entries, 0 to 1564\n",
      "Data columns (total 5 columns):\n",
      " #   Column             Non-Null Count  Dtype \n",
      "---  ------             --------------  ----- \n",
      " 0   user_id            1565 non-null   int64 \n",
      " 1   name               1565 non-null   object\n",
      " 2   age                1565 non-null   int64 \n",
      " 3   city               1565 non-null   object\n",
      " 4   subscription_type  1565 non-null   object\n",
      "dtypes: int64(2), object(3)\n",
      "memory usage: 61.3+ KB\n"
     ]
    },
    {
     "data": {
      "text/plain": [
       "None"
      ]
     },
     "metadata": {},
     "output_type": "display_data"
    }
   ],
   "source": [
    "# Импорт и общие сведения о датасете пользователей\n",
    "data1 = pd.read_csv('/datasets/users_go.csv')\n",
    "display(data1.head())\n",
    "display(data1.info())\n",
    "\n"
   ]
  },
  {
   "cell_type": "code",
   "execution_count": 3,
   "id": "896d0ea2",
   "metadata": {},
   "outputs": [
    {
     "data": {
      "text/html": [
       "<div>\n",
       "<style scoped>\n",
       "    .dataframe tbody tr th:only-of-type {\n",
       "        vertical-align: middle;\n",
       "    }\n",
       "\n",
       "    .dataframe tbody tr th {\n",
       "        vertical-align: top;\n",
       "    }\n",
       "\n",
       "    .dataframe thead th {\n",
       "        text-align: right;\n",
       "    }\n",
       "</style>\n",
       "<table border=\"1\" class=\"dataframe\">\n",
       "  <thead>\n",
       "    <tr style=\"text-align: right;\">\n",
       "      <th></th>\n",
       "      <th>user_id</th>\n",
       "      <th>distance</th>\n",
       "      <th>duration</th>\n",
       "      <th>date</th>\n",
       "    </tr>\n",
       "  </thead>\n",
       "  <tbody>\n",
       "    <tr>\n",
       "      <th>0</th>\n",
       "      <td>1</td>\n",
       "      <td>4409.919140</td>\n",
       "      <td>25.599769</td>\n",
       "      <td>2021-01-01</td>\n",
       "    </tr>\n",
       "    <tr>\n",
       "      <th>1</th>\n",
       "      <td>1</td>\n",
       "      <td>2617.592153</td>\n",
       "      <td>15.816871</td>\n",
       "      <td>2021-01-18</td>\n",
       "    </tr>\n",
       "    <tr>\n",
       "      <th>2</th>\n",
       "      <td>1</td>\n",
       "      <td>754.159807</td>\n",
       "      <td>6.232113</td>\n",
       "      <td>2021-04-20</td>\n",
       "    </tr>\n",
       "    <tr>\n",
       "      <th>3</th>\n",
       "      <td>1</td>\n",
       "      <td>2694.783254</td>\n",
       "      <td>18.511000</td>\n",
       "      <td>2021-08-11</td>\n",
       "    </tr>\n",
       "    <tr>\n",
       "      <th>4</th>\n",
       "      <td>1</td>\n",
       "      <td>4028.687306</td>\n",
       "      <td>26.265803</td>\n",
       "      <td>2021-08-28</td>\n",
       "    </tr>\n",
       "  </tbody>\n",
       "</table>\n",
       "</div>"
      ],
      "text/plain": [
       "   user_id     distance   duration        date\n",
       "0        1  4409.919140  25.599769  2021-01-01\n",
       "1        1  2617.592153  15.816871  2021-01-18\n",
       "2        1   754.159807   6.232113  2021-04-20\n",
       "3        1  2694.783254  18.511000  2021-08-11\n",
       "4        1  4028.687306  26.265803  2021-08-28"
      ]
     },
     "metadata": {},
     "output_type": "display_data"
    },
    {
     "name": "stdout",
     "output_type": "stream",
     "text": [
      "<class 'pandas.core.frame.DataFrame'>\n",
      "RangeIndex: 18068 entries, 0 to 18067\n",
      "Data columns (total 4 columns):\n",
      " #   Column    Non-Null Count  Dtype  \n",
      "---  ------    --------------  -----  \n",
      " 0   user_id   18068 non-null  int64  \n",
      " 1   distance  18068 non-null  float64\n",
      " 2   duration  18068 non-null  float64\n",
      " 3   date      18068 non-null  object \n",
      "dtypes: float64(2), int64(1), object(1)\n",
      "memory usage: 564.8+ KB\n"
     ]
    },
    {
     "data": {
      "text/plain": [
       "None"
      ]
     },
     "metadata": {},
     "output_type": "display_data"
    }
   ],
   "source": [
    "# Импорт и общие сведения о датасете поездок\n",
    "data2 = pd.read_csv('/datasets/rides_go.csv')\n",
    "display(data2.head())\n",
    "display(data2.info())\n"
   ]
  },
  {
   "cell_type": "code",
   "execution_count": 4,
   "id": "345f2a5d",
   "metadata": {},
   "outputs": [
    {
     "data": {
      "text/html": [
       "<div>\n",
       "<style scoped>\n",
       "    .dataframe tbody tr th:only-of-type {\n",
       "        vertical-align: middle;\n",
       "    }\n",
       "\n",
       "    .dataframe tbody tr th {\n",
       "        vertical-align: top;\n",
       "    }\n",
       "\n",
       "    .dataframe thead th {\n",
       "        text-align: right;\n",
       "    }\n",
       "</style>\n",
       "<table border=\"1\" class=\"dataframe\">\n",
       "  <thead>\n",
       "    <tr style=\"text-align: right;\">\n",
       "      <th></th>\n",
       "      <th>subscription_type</th>\n",
       "      <th>minute_price</th>\n",
       "      <th>start_ride_price</th>\n",
       "      <th>subscription_fee</th>\n",
       "    </tr>\n",
       "  </thead>\n",
       "  <tbody>\n",
       "    <tr>\n",
       "      <th>0</th>\n",
       "      <td>free</td>\n",
       "      <td>8</td>\n",
       "      <td>50</td>\n",
       "      <td>0</td>\n",
       "    </tr>\n",
       "    <tr>\n",
       "      <th>1</th>\n",
       "      <td>ultra</td>\n",
       "      <td>6</td>\n",
       "      <td>0</td>\n",
       "      <td>199</td>\n",
       "    </tr>\n",
       "  </tbody>\n",
       "</table>\n",
       "</div>"
      ],
      "text/plain": [
       "  subscription_type  minute_price  start_ride_price  subscription_fee\n",
       "0              free             8                50                 0\n",
       "1             ultra             6                 0               199"
      ]
     },
     "metadata": {},
     "output_type": "display_data"
    },
    {
     "name": "stdout",
     "output_type": "stream",
     "text": [
      "<class 'pandas.core.frame.DataFrame'>\n",
      "RangeIndex: 2 entries, 0 to 1\n",
      "Data columns (total 4 columns):\n",
      " #   Column             Non-Null Count  Dtype \n",
      "---  ------             --------------  ----- \n",
      " 0   subscription_type  2 non-null      object\n",
      " 1   minute_price       2 non-null      int64 \n",
      " 2   start_ride_price   2 non-null      int64 \n",
      " 3   subscription_fee   2 non-null      int64 \n",
      "dtypes: int64(3), object(1)\n",
      "memory usage: 192.0+ bytes\n"
     ]
    },
    {
     "data": {
      "text/plain": [
       "None"
      ]
     },
     "metadata": {},
     "output_type": "display_data"
    }
   ],
   "source": [
    "# Импорт и общие сведения о датасете подписок\n",
    "data3 = pd.read_csv('/datasets/subscriptions_go.csv')\n",
    "display(data3.head())\n",
    "display(data3.info())\n",
    "\n"
   ]
  },
  {
   "cell_type": "markdown",
   "id": "b79675d5",
   "metadata": {},
   "source": [
    "Три датасета импортировано: Пользователи, Поездки, Подписки. \n",
    "\n",
    "Датасет Пользователи содержит 1565 записей о пользователях: user_id, имя, возраст, город, тип подписки. \n",
    "\n",
    "Датасет Поездки содержит 18068 записей о поездках: user_id, дистанция, длительность, дата.  \n",
    "\n",
    "Датасет Подписки содержит 2 записи о двух типах подписок (free, ultra): стоимость минуты, стоимость начала поездки, стоимость подписки. \n",
    "\n",
    "Пропусков не обнаружено. "
   ]
  },
  {
   "cell_type": "markdown",
   "id": "e95ebca7",
   "metadata": {},
   "source": [
    "## Предобработка данных"
   ]
  },
  {
   "cell_type": "code",
   "execution_count": 5,
   "id": "af6d202c",
   "metadata": {},
   "outputs": [
    {
     "data": {
      "text/plain": [
       "user_id              int64\n",
       "distance           float64\n",
       "duration           float64\n",
       "date        datetime64[ns]\n",
       "dtype: object"
      ]
     },
     "metadata": {},
     "output_type": "display_data"
    },
    {
     "data": {
      "text/html": [
       "<div>\n",
       "<style scoped>\n",
       "    .dataframe tbody tr th:only-of-type {\n",
       "        vertical-align: middle;\n",
       "    }\n",
       "\n",
       "    .dataframe tbody tr th {\n",
       "        vertical-align: top;\n",
       "    }\n",
       "\n",
       "    .dataframe thead th {\n",
       "        text-align: right;\n",
       "    }\n",
       "</style>\n",
       "<table border=\"1\" class=\"dataframe\">\n",
       "  <thead>\n",
       "    <tr style=\"text-align: right;\">\n",
       "      <th></th>\n",
       "      <th>user_id</th>\n",
       "      <th>distance</th>\n",
       "      <th>duration</th>\n",
       "      <th>date</th>\n",
       "      <th>month</th>\n",
       "    </tr>\n",
       "  </thead>\n",
       "  <tbody>\n",
       "    <tr>\n",
       "      <th>0</th>\n",
       "      <td>1</td>\n",
       "      <td>4409.919140</td>\n",
       "      <td>25.599769</td>\n",
       "      <td>2021-01-01</td>\n",
       "      <td>1</td>\n",
       "    </tr>\n",
       "    <tr>\n",
       "      <th>1</th>\n",
       "      <td>1</td>\n",
       "      <td>2617.592153</td>\n",
       "      <td>15.816871</td>\n",
       "      <td>2021-01-18</td>\n",
       "      <td>1</td>\n",
       "    </tr>\n",
       "    <tr>\n",
       "      <th>2</th>\n",
       "      <td>1</td>\n",
       "      <td>754.159807</td>\n",
       "      <td>6.232113</td>\n",
       "      <td>2021-04-20</td>\n",
       "      <td>4</td>\n",
       "    </tr>\n",
       "    <tr>\n",
       "      <th>3</th>\n",
       "      <td>1</td>\n",
       "      <td>2694.783254</td>\n",
       "      <td>18.511000</td>\n",
       "      <td>2021-08-11</td>\n",
       "      <td>8</td>\n",
       "    </tr>\n",
       "    <tr>\n",
       "      <th>4</th>\n",
       "      <td>1</td>\n",
       "      <td>4028.687306</td>\n",
       "      <td>26.265803</td>\n",
       "      <td>2021-08-28</td>\n",
       "      <td>8</td>\n",
       "    </tr>\n",
       "  </tbody>\n",
       "</table>\n",
       "</div>"
      ],
      "text/plain": [
       "   user_id     distance   duration       date  month\n",
       "0        1  4409.919140  25.599769 2021-01-01      1\n",
       "1        1  2617.592153  15.816871 2021-01-18      1\n",
       "2        1   754.159807   6.232113 2021-04-20      4\n",
       "3        1  2694.783254  18.511000 2021-08-11      8\n",
       "4        1  4028.687306  26.265803 2021-08-28      8"
      ]
     },
     "metadata": {},
     "output_type": "display_data"
    }
   ],
   "source": [
    "# Создание столбца с датой поездки и создание столбца с порядковым номером месяца\n",
    "data2['date'] = pd.to_datetime(data2['date'])\n",
    "display(data2.dtypes)\n",
    "data2['month'] = data2['date'].dt.month\n",
    "display(data2.head())\n"
   ]
  },
  {
   "cell_type": "code",
   "execution_count": 6,
   "id": "4be11b40",
   "metadata": {},
   "outputs": [
    {
     "data": {
      "text/html": [
       "<div>\n",
       "<style scoped>\n",
       "    .dataframe tbody tr th:only-of-type {\n",
       "        vertical-align: middle;\n",
       "    }\n",
       "\n",
       "    .dataframe tbody tr th {\n",
       "        vertical-align: top;\n",
       "    }\n",
       "\n",
       "    .dataframe thead th {\n",
       "        text-align: right;\n",
       "    }\n",
       "</style>\n",
       "<table border=\"1\" class=\"dataframe\">\n",
       "  <thead>\n",
       "    <tr style=\"text-align: right;\">\n",
       "      <th></th>\n",
       "      <th>user_id</th>\n",
       "      <th>name</th>\n",
       "      <th>age</th>\n",
       "      <th>city</th>\n",
       "      <th>subscription_type</th>\n",
       "    </tr>\n",
       "  </thead>\n",
       "  <tbody>\n",
       "    <tr>\n",
       "      <th>1534</th>\n",
       "      <td>293</td>\n",
       "      <td>Агата</td>\n",
       "      <td>26</td>\n",
       "      <td>Краснодар</td>\n",
       "      <td>ultra</td>\n",
       "    </tr>\n",
       "    <tr>\n",
       "      <th>1535</th>\n",
       "      <td>16</td>\n",
       "      <td>Амалия</td>\n",
       "      <td>27</td>\n",
       "      <td>Краснодар</td>\n",
       "      <td>ultra</td>\n",
       "    </tr>\n",
       "    <tr>\n",
       "      <th>1536</th>\n",
       "      <td>909</td>\n",
       "      <td>Константин</td>\n",
       "      <td>20</td>\n",
       "      <td>Екатеринбург</td>\n",
       "      <td>free</td>\n",
       "    </tr>\n",
       "    <tr>\n",
       "      <th>1537</th>\n",
       "      <td>403</td>\n",
       "      <td>Полина</td>\n",
       "      <td>19</td>\n",
       "      <td>Сочи</td>\n",
       "      <td>ultra</td>\n",
       "    </tr>\n",
       "    <tr>\n",
       "      <th>1538</th>\n",
       "      <td>908</td>\n",
       "      <td>Рустам</td>\n",
       "      <td>30</td>\n",
       "      <td>Тюмень</td>\n",
       "      <td>free</td>\n",
       "    </tr>\n",
       "    <tr>\n",
       "      <th>1539</th>\n",
       "      <td>43</td>\n",
       "      <td>Стефания</td>\n",
       "      <td>22</td>\n",
       "      <td>Омск</td>\n",
       "      <td>ultra</td>\n",
       "    </tr>\n",
       "    <tr>\n",
       "      <th>1540</th>\n",
       "      <td>127</td>\n",
       "      <td>Павел</td>\n",
       "      <td>25</td>\n",
       "      <td>Пятигорск</td>\n",
       "      <td>ultra</td>\n",
       "    </tr>\n",
       "    <tr>\n",
       "      <th>1541</th>\n",
       "      <td>659</td>\n",
       "      <td>Злата</td>\n",
       "      <td>27</td>\n",
       "      <td>Ростов-на-Дону</td>\n",
       "      <td>ultra</td>\n",
       "    </tr>\n",
       "    <tr>\n",
       "      <th>1542</th>\n",
       "      <td>204</td>\n",
       "      <td>Руслан</td>\n",
       "      <td>30</td>\n",
       "      <td>Пятигорск</td>\n",
       "      <td>ultra</td>\n",
       "    </tr>\n",
       "    <tr>\n",
       "      <th>1543</th>\n",
       "      <td>153</td>\n",
       "      <td>Герман</td>\n",
       "      <td>23</td>\n",
       "      <td>Москва</td>\n",
       "      <td>ultra</td>\n",
       "    </tr>\n",
       "    <tr>\n",
       "      <th>1544</th>\n",
       "      <td>1245</td>\n",
       "      <td>Регина</td>\n",
       "      <td>27</td>\n",
       "      <td>Пятигорск</td>\n",
       "      <td>free</td>\n",
       "    </tr>\n",
       "    <tr>\n",
       "      <th>1545</th>\n",
       "      <td>807</td>\n",
       "      <td>Александр</td>\n",
       "      <td>28</td>\n",
       "      <td>Екатеринбург</td>\n",
       "      <td>free</td>\n",
       "    </tr>\n",
       "    <tr>\n",
       "      <th>1546</th>\n",
       "      <td>924</td>\n",
       "      <td>Мария</td>\n",
       "      <td>23</td>\n",
       "      <td>Пятигорск</td>\n",
       "      <td>free</td>\n",
       "    </tr>\n",
       "    <tr>\n",
       "      <th>1547</th>\n",
       "      <td>635</td>\n",
       "      <td>Герман</td>\n",
       "      <td>21</td>\n",
       "      <td>Москва</td>\n",
       "      <td>ultra</td>\n",
       "    </tr>\n",
       "    <tr>\n",
       "      <th>1548</th>\n",
       "      <td>136</td>\n",
       "      <td>Марсель</td>\n",
       "      <td>25</td>\n",
       "      <td>Тюмень</td>\n",
       "      <td>ultra</td>\n",
       "    </tr>\n",
       "    <tr>\n",
       "      <th>1549</th>\n",
       "      <td>108</td>\n",
       "      <td>Влада</td>\n",
       "      <td>29</td>\n",
       "      <td>Тюмень</td>\n",
       "      <td>ultra</td>\n",
       "    </tr>\n",
       "    <tr>\n",
       "      <th>1550</th>\n",
       "      <td>737</td>\n",
       "      <td>Мелания</td>\n",
       "      <td>27</td>\n",
       "      <td>Ростов-на-Дону</td>\n",
       "      <td>free</td>\n",
       "    </tr>\n",
       "    <tr>\n",
       "      <th>1551</th>\n",
       "      <td>666</td>\n",
       "      <td>Зарина</td>\n",
       "      <td>29</td>\n",
       "      <td>Москва</td>\n",
       "      <td>ultra</td>\n",
       "    </tr>\n",
       "    <tr>\n",
       "      <th>1552</th>\n",
       "      <td>297</td>\n",
       "      <td>Егор</td>\n",
       "      <td>33</td>\n",
       "      <td>Пятигорск</td>\n",
       "      <td>ultra</td>\n",
       "    </tr>\n",
       "    <tr>\n",
       "      <th>1553</th>\n",
       "      <td>121</td>\n",
       "      <td>Алина</td>\n",
       "      <td>25</td>\n",
       "      <td>Пятигорск</td>\n",
       "      <td>ultra</td>\n",
       "    </tr>\n",
       "    <tr>\n",
       "      <th>1554</th>\n",
       "      <td>1198</td>\n",
       "      <td>Демид</td>\n",
       "      <td>29</td>\n",
       "      <td>Ростов-на-Дону</td>\n",
       "      <td>free</td>\n",
       "    </tr>\n",
       "    <tr>\n",
       "      <th>1555</th>\n",
       "      <td>72</td>\n",
       "      <td>Никита</td>\n",
       "      <td>25</td>\n",
       "      <td>Москва</td>\n",
       "      <td>ultra</td>\n",
       "    </tr>\n",
       "    <tr>\n",
       "      <th>1556</th>\n",
       "      <td>422</td>\n",
       "      <td>Кирилл</td>\n",
       "      <td>27</td>\n",
       "      <td>Сочи</td>\n",
       "      <td>ultra</td>\n",
       "    </tr>\n",
       "    <tr>\n",
       "      <th>1557</th>\n",
       "      <td>611</td>\n",
       "      <td>Владимир</td>\n",
       "      <td>28</td>\n",
       "      <td>Омск</td>\n",
       "      <td>ultra</td>\n",
       "    </tr>\n",
       "    <tr>\n",
       "      <th>1558</th>\n",
       "      <td>1237</td>\n",
       "      <td>Евгения</td>\n",
       "      <td>23</td>\n",
       "      <td>Тюмень</td>\n",
       "      <td>free</td>\n",
       "    </tr>\n",
       "    <tr>\n",
       "      <th>1559</th>\n",
       "      <td>209</td>\n",
       "      <td>Андрей</td>\n",
       "      <td>23</td>\n",
       "      <td>Омск</td>\n",
       "      <td>ultra</td>\n",
       "    </tr>\n",
       "    <tr>\n",
       "      <th>1560</th>\n",
       "      <td>829</td>\n",
       "      <td>Федор</td>\n",
       "      <td>29</td>\n",
       "      <td>Пятигорск</td>\n",
       "      <td>free</td>\n",
       "    </tr>\n",
       "    <tr>\n",
       "      <th>1561</th>\n",
       "      <td>809</td>\n",
       "      <td>Юрий</td>\n",
       "      <td>26</td>\n",
       "      <td>Сочи</td>\n",
       "      <td>free</td>\n",
       "    </tr>\n",
       "    <tr>\n",
       "      <th>1562</th>\n",
       "      <td>307</td>\n",
       "      <td>Ясмина</td>\n",
       "      <td>19</td>\n",
       "      <td>Краснодар</td>\n",
       "      <td>ultra</td>\n",
       "    </tr>\n",
       "    <tr>\n",
       "      <th>1563</th>\n",
       "      <td>47</td>\n",
       "      <td>Юрий</td>\n",
       "      <td>28</td>\n",
       "      <td>Тюмень</td>\n",
       "      <td>ultra</td>\n",
       "    </tr>\n",
       "    <tr>\n",
       "      <th>1564</th>\n",
       "      <td>1045</td>\n",
       "      <td>Артемий</td>\n",
       "      <td>28</td>\n",
       "      <td>Ростов-на-Дону</td>\n",
       "      <td>free</td>\n",
       "    </tr>\n",
       "  </tbody>\n",
       "</table>\n",
       "</div>"
      ],
      "text/plain": [
       "      user_id        name  age            city subscription_type\n",
       "1534      293       Агата   26       Краснодар             ultra\n",
       "1535       16      Амалия   27       Краснодар             ultra\n",
       "1536      909  Константин   20    Екатеринбург              free\n",
       "1537      403      Полина   19            Сочи             ultra\n",
       "1538      908      Рустам   30          Тюмень              free\n",
       "1539       43    Стефания   22            Омск             ultra\n",
       "1540      127       Павел   25       Пятигорск             ultra\n",
       "1541      659       Злата   27  Ростов-на-Дону             ultra\n",
       "1542      204      Руслан   30       Пятигорск             ultra\n",
       "1543      153      Герман   23          Москва             ultra\n",
       "1544     1245      Регина   27       Пятигорск              free\n",
       "1545      807   Александр   28    Екатеринбург              free\n",
       "1546      924       Мария   23       Пятигорск              free\n",
       "1547      635      Герман   21          Москва             ultra\n",
       "1548      136     Марсель   25          Тюмень             ultra\n",
       "1549      108       Влада   29          Тюмень             ultra\n",
       "1550      737     Мелания   27  Ростов-на-Дону              free\n",
       "1551      666      Зарина   29          Москва             ultra\n",
       "1552      297        Егор   33       Пятигорск             ultra\n",
       "1553      121       Алина   25       Пятигорск             ultra\n",
       "1554     1198       Демид   29  Ростов-на-Дону              free\n",
       "1555       72      Никита   25          Москва             ultra\n",
       "1556      422      Кирилл   27            Сочи             ultra\n",
       "1557      611    Владимир   28            Омск             ultra\n",
       "1558     1237     Евгения   23          Тюмень              free\n",
       "1559      209      Андрей   23            Омск             ultra\n",
       "1560      829       Федор   29       Пятигорск              free\n",
       "1561      809        Юрий   26            Сочи              free\n",
       "1562      307      Ясмина   19       Краснодар             ultra\n",
       "1563       47        Юрий   28          Тюмень             ultra\n",
       "1564     1045     Артемий   28  Ростов-на-Дону              free"
      ]
     },
     "metadata": {},
     "output_type": "display_data"
    }
   ],
   "source": [
    "# Поиск и устранение явных дубликатов в датасете о пользователях\n",
    "display(data1[data1.duplicated()])\n",
    "data1 = data1.drop_duplicates()"
   ]
  },
  {
   "cell_type": "code",
   "execution_count": 7,
   "id": "3e3349cc",
   "metadata": {},
   "outputs": [
    {
     "data": {
      "text/html": [
       "<div>\n",
       "<style scoped>\n",
       "    .dataframe tbody tr th:only-of-type {\n",
       "        vertical-align: middle;\n",
       "    }\n",
       "\n",
       "    .dataframe tbody tr th {\n",
       "        vertical-align: top;\n",
       "    }\n",
       "\n",
       "    .dataframe thead th {\n",
       "        text-align: right;\n",
       "    }\n",
       "</style>\n",
       "<table border=\"1\" class=\"dataframe\">\n",
       "  <thead>\n",
       "    <tr style=\"text-align: right;\">\n",
       "      <th></th>\n",
       "      <th>user_id</th>\n",
       "      <th>distance</th>\n",
       "      <th>duration</th>\n",
       "      <th>date</th>\n",
       "      <th>month</th>\n",
       "    </tr>\n",
       "  </thead>\n",
       "  <tbody>\n",
       "  </tbody>\n",
       "</table>\n",
       "</div>"
      ],
      "text/plain": [
       "Empty DataFrame\n",
       "Columns: [user_id, distance, duration, date, month]\n",
       "Index: []"
      ]
     },
     "metadata": {},
     "output_type": "display_data"
    }
   ],
   "source": [
    "# Поиск и устранение явных дубликатов в датасете о поездках\n",
    "display(data2[data2.duplicated()])"
   ]
  },
  {
   "cell_type": "markdown",
   "id": "a72f9fc1",
   "metadata": {},
   "source": [
    "Каждой поездке добавлен порядковый номер месяц, извлеченный из даты поездки. \n",
    "\n",
    "Явные дубликаты пользователей удалены.\n",
    "\n",
    "Пропусков не обнаружено. "
   ]
  },
  {
   "cell_type": "markdown",
   "id": "212593c7",
   "metadata": {},
   "source": [
    "## Исследовательский анализ данных"
   ]
  },
  {
   "cell_type": "code",
   "execution_count": 8,
   "id": "8ffeca5b",
   "metadata": {},
   "outputs": [
    {
     "data": {
      "image/png": "[encoded data removed]",
      "text/plain": [
       "<Figure size 1152x360 with 1 Axes>"
      ]
     },
     "metadata": {
      "needs_background": "light"
     },
     "output_type": "display_data"
    },
    {
     "data": {
      "text/html": [
       "<div>\n",
       "<style scoped>\n",
       "    .dataframe tbody tr th:only-of-type {\n",
       "        vertical-align: middle;\n",
       "    }\n",
       "\n",
       "    .dataframe tbody tr th {\n",
       "        vertical-align: top;\n",
       "    }\n",
       "\n",
       "    .dataframe thead th {\n",
       "        text-align: right;\n",
       "    }\n",
       "</style>\n",
       "<table border=\"1\" class=\"dataframe\">\n",
       "  <thead>\n",
       "    <tr style=\"text-align: right;\">\n",
       "      <th></th>\n",
       "      <th>count</th>\n",
       "    </tr>\n",
       "    <tr>\n",
       "      <th>city</th>\n",
       "      <th></th>\n",
       "    </tr>\n",
       "  </thead>\n",
       "  <tbody>\n",
       "    <tr>\n",
       "      <th>Екатеринбург</th>\n",
       "      <td>204</td>\n",
       "    </tr>\n",
       "    <tr>\n",
       "      <th>Краснодар</th>\n",
       "      <td>193</td>\n",
       "    </tr>\n",
       "    <tr>\n",
       "      <th>Москва</th>\n",
       "      <td>168</td>\n",
       "    </tr>\n",
       "    <tr>\n",
       "      <th>Омск</th>\n",
       "      <td>183</td>\n",
       "    </tr>\n",
       "    <tr>\n",
       "      <th>Пятигорск</th>\n",
       "      <td>219</td>\n",
       "    </tr>\n",
       "    <tr>\n",
       "      <th>Ростов-на-Дону</th>\n",
       "      <td>198</td>\n",
       "    </tr>\n",
       "    <tr>\n",
       "      <th>Сочи</th>\n",
       "      <td>189</td>\n",
       "    </tr>\n",
       "    <tr>\n",
       "      <th>Тюмень</th>\n",
       "      <td>180</td>\n",
       "    </tr>\n",
       "  </tbody>\n",
       "</table>\n",
       "</div>"
      ],
      "text/plain": [
       "                count\n",
       "city                 \n",
       "Екатеринбург      204\n",
       "Краснодар         193\n",
       "Москва            168\n",
       "Омск              183\n",
       "Пятигорск         219\n",
       "Ростов-на-Дону    198\n",
       "Сочи              189\n",
       "Тюмень            180"
      ]
     },
     "metadata": {},
     "output_type": "display_data"
    },
    {
     "data": {
      "text/plain": [
       "count          1534\n",
       "unique            8\n",
       "top       Пятигорск\n",
       "freq            219\n",
       "Name: city, dtype: object"
      ]
     },
     "execution_count": 8,
     "metadata": {},
     "output_type": "execute_result"
    }
   ],
   "source": [
    "# Общая информация о городах пользователей\n",
    "plt.figure(figsize=(16, 5))\n",
    "plt.hist(data1['city'], align='mid', bins = len(data1['city'].unique()))\n",
    "plt.xlabel('City')\n",
    "plt.ylabel('Frequency')\n",
    "plt.title('Cities hist')\n",
    "plt.show()\n",
    "\n",
    "pivot = pd.pivot_table(data1, values = 'user_id', index = 'city', aggfunc = 'count')\n",
    "pivot.columns = ['count']\n",
    "display(pivot)\n",
    "\n",
    "\n",
    "data1['city'].describe()"
   ]
  },
  {
   "cell_type": "markdown",
   "id": "32bd4334",
   "metadata": {},
   "source": [
    "1534 пользователя расположены равномерно в 8 городах. Наибольшее число пользователей в Пятигорске - 219 пользователей. "
   ]
  },
  {
   "cell_type": "code",
   "execution_count": 9,
   "id": "3c8df68f",
   "metadata": {},
   "outputs": [
    {
     "data": {
      "image/png": "[encoded data removed]",
      "text/plain": [
       "<Figure size 1152x360 with 1 Axes>"
      ]
     },
     "metadata": {
      "needs_background": "light"
     },
     "output_type": "display_data"
    },
    {
     "data": {
      "image/png": "[encoded data removed]",
      "text/plain": [
       "<Figure size 432x432 with 1 Axes>"
      ]
     },
     "metadata": {},
     "output_type": "display_data"
    },
    {
     "data": {
      "text/plain": [
       "count     1534\n",
       "unique       2\n",
       "top       free\n",
       "freq       835\n",
       "Name: subscription_type, dtype: object"
      ]
     },
     "metadata": {},
     "output_type": "display_data"
    },
    {
     "name": "stdout",
     "output_type": "stream",
     "text": [
      "Процент пользователей с платной подпиской: 45.56714471968709\n"
     ]
    }
   ],
   "source": [
    "# Общая информация о подписках пользователей\n",
    "plt.figure(figsize=(16, 5))\n",
    "plt.hist(data1['subscription_type'], align='mid', bins = len(data1['subscription_type'].unique()))\n",
    "plt.xlabel('Subscription')\n",
    "plt.ylabel('Frequency')\n",
    "plt.title('Subscription hist')\n",
    "plt.show()\n",
    "\n",
    "plt.figure(figsize=(6, 6))  # Set the figure size (optional)\n",
    "plt.pie(round(data1['subscription_type'].value_counts()/len(data1['subscription_type'])*100, 2), labels=['Free', 'Ultra'], autopct='%1.1f%%', startangle=90)\n",
    "plt.title('Subscription ratio')\n",
    "plt.axis('equal')  \n",
    "plt.show()\n",
    "\n",
    "display(data1['subscription_type'].describe())\n",
    "\n",
    "print('Процент пользователей с платной подпиской:', data1[data1['subscription_type'] == 'ultra']['user_id'].count() / len(data1) * 100)\n"
   ]
  },
  {
   "cell_type": "markdown",
   "id": "077c5242",
   "metadata": {},
   "source": [
    "Из 1534 пользователей чуть меньше половины (45.56%) владеют платной подпиской. "
   ]
  },
  {
   "cell_type": "code",
   "execution_count": 10,
   "id": "825a368c",
   "metadata": {},
   "outputs": [
    {
     "data": {
      "image/png": "[encoded data removed]",
      "text/plain": [
       "<Figure size 1152x360 with 1 Axes>"
      ]
     },
     "metadata": {
      "needs_background": "light"
     },
     "output_type": "display_data"
    },
    {
     "data": {
      "text/plain": [
       "count    1534.000000\n",
       "mean       24.903520\n",
       "std         4.572367\n",
       "min        12.000000\n",
       "25%        22.000000\n",
       "50%        25.000000\n",
       "75%        28.000000\n",
       "max        43.000000\n",
       "Name: age, dtype: float64"
      ]
     },
     "execution_count": 10,
     "metadata": {},
     "output_type": "execute_result"
    }
   ],
   "source": [
    "# Общая информация о возрасте пользователей\n",
    "plt.figure(figsize=(16, 5))\n",
    "plt.hist(data1['age'], align='mid', bins = len(data1['age'].unique()))\n",
    "plt.xlabel('Age')\n",
    "plt.ylabel('Frequency')\n",
    "plt.title('Age hist')\n",
    "plt.show()\n",
    "\n",
    "data1['age'].describe()\n"
   ]
  },
  {
   "cell_type": "markdown",
   "id": "ea4d00e3",
   "metadata": {},
   "source": [
    "Существуют пользователи от 12 до 43 лет. \n",
    "\n",
    "Средний и медианный возраст около 25 лет. \n",
    "\n",
    "Большинство пользователей (75%) не старше 28 лет. "
   ]
  },
  {
   "cell_type": "code",
   "execution_count": 11,
   "id": "8c0dcb8d",
   "metadata": {},
   "outputs": [
    {
     "data": {
      "image/png": "[encoded data removed]",
      "text/plain": [
       "<Figure size 1152x360 with 1 Axes>"
      ]
     },
     "metadata": {
      "needs_background": "light"
     },
     "output_type": "display_data"
    },
    {
     "data": {
      "image/png": "[encoded data removed]",
      "text/plain": [
       "<Figure size 1152x360 with 1 Axes>"
      ]
     },
     "metadata": {
      "needs_background": "light"
     },
     "output_type": "display_data"
    },
    {
     "data": {
      "image/png": "[encoded data removed]",
      "text/plain": [
       "<Figure size 1152x360 with 1 Axes>"
      ]
     },
     "metadata": {
      "needs_background": "light"
     },
     "output_type": "display_data"
    },
    {
     "data": {
      "text/plain": [
       "count    18068.000000\n",
       "mean      3070.659976\n",
       "std       1116.831209\n",
       "min          0.855683\n",
       "25%       2543.226360\n",
       "50%       3133.609994\n",
       "75%       3776.222735\n",
       "max       7211.007745\n",
       "Name: distance, dtype: float64"
      ]
     },
     "execution_count": 11,
     "metadata": {},
     "output_type": "execute_result"
    }
   ],
   "source": [
    "# Общая информация о дистанциях поездок\n",
    "plt.figure(figsize=(16, 5))\n",
    "plt.hist(data2['distance'], align='mid', bins = 150)\n",
    "plt.xlabel('Distance')\n",
    "plt.ylabel('Frequency')\n",
    "plt.title('Distance hist')\n",
    "plt.show()\n",
    "\n",
    "plt.figure(figsize=(16, 5))\n",
    "plt.hist(data2['distance'], align='mid', bins = 150, range = (1500, 5000))\n",
    "plt.xlabel('Distance')\n",
    "plt.ylabel('Frequency')\n",
    "plt.title('Distance hist')\n",
    "plt.show()\n",
    "\n",
    "plt.figure(figsize=(16, 5))\n",
    "plt.hist(data2['distance'], align='mid', bins = 150, range = (0, 1500))\n",
    "plt.xlabel('Distance')\n",
    "plt.ylabel('Frequency')\n",
    "plt.title('Distance hist')\n",
    "plt.show()\n",
    "\n",
    "data2['distance'].describe()\n",
    "\n"
   ]
  },
  {
   "cell_type": "markdown",
   "id": "fee82d64",
   "metadata": {},
   "source": [
    "Совершаются поездки от 0.85 метров до 7211 метров. \n",
    "\n",
    "Среднее и медианное значение около 3071 и 3133 метров соответственно. Распределение двухмодальное - наиболее частые поездки около 3100 метров, также часто совершают поездки около 700 метров.  \n",
    "\n",
    "Большинство поездок (75%) не более 3776 метров. "
   ]
  },
  {
   "cell_type": "code",
   "execution_count": 12,
   "id": "0cc73b2f",
   "metadata": {},
   "outputs": [
    {
     "data": {
      "image/png": "[encoded data removed]",
      "text/plain": [
       "<Figure size 1152x360 with 1 Axes>"
      ]
     },
     "metadata": {
      "needs_background": "light"
     },
     "output_type": "display_data"
    },
    {
     "data": {
      "image/png": "[encoded data removed]",
      "text/plain": [
       "<Figure size 1152x360 with 1 Axes>"
      ]
     },
     "metadata": {
      "needs_background": "light"
     },
     "output_type": "display_data"
    },
    {
     "data": {
      "text/plain": [
       "count    18068.000000\n",
       "mean        17.805011\n",
       "std          6.091051\n",
       "min          0.500000\n",
       "25%         13.597563\n",
       "50%         17.678395\n",
       "75%         21.724800\n",
       "max         40.823963\n",
       "Name: duration, dtype: float64"
      ]
     },
     "execution_count": 12,
     "metadata": {},
     "output_type": "execute_result"
    }
   ],
   "source": [
    "# Общая информация о длительности поездок\n",
    "plt.figure(figsize=(16, 5))\n",
    "plt.hist(data2['duration'], align='mid', bins = 150)\n",
    "plt.xlabel('Duration')\n",
    "plt.ylabel('Frequency')\n",
    "plt.title('Duration hist')\n",
    "plt.show()\n",
    "\n",
    "plt.figure(figsize=(16, 5))\n",
    "plt.hist(data2['duration'], align='mid', bins = 60, range = (0, 1))\n",
    "plt.xlabel('Duration')\n",
    "plt.ylabel('Frequency')\n",
    "plt.title('Duration hist')\n",
    "plt.show()\n",
    "\n",
    "data2['duration'].describe()"
   ]
  },
  {
   "cell_type": "markdown",
   "id": "64fed1b6",
   "metadata": {},
   "source": [
    "Совершаются поездки от 0.5 до 41 минуты.\n",
    "\n",
    "Среднее и медианное значение около 18 минут. Также присутствуют частые поездки по 0.5 минуты - вероятнее всего, это округление очень коротких поездок.   \n",
    "\n",
    "Большинство поездок (75%) не дольше 22 минут."
   ]
  },
  {
   "cell_type": "markdown",
   "id": "36c062bb",
   "metadata": {},
   "source": [
    "### Резюме исследовательского анализа данных\n",
    "\n",
    "1534 пользователя расположены равномерно в 8 городах. Наибольшее число пользователей в Пятигорске - 219 пользователей.\n",
    "\n",
    "Чуть меньше половины пользователей (45.56%) владеют платной подпиской.\n",
    "\n",
    "Существуют пользователи от 12 до 43 лет. Средний и медианный возраст около 25 лет. Большинство пользователей (75%) не старше 28 лет.\n",
    "\n",
    "Совершаются поездки от 0.85 метров до 7211 метров.\n",
    "Среднее и медианное значение около 3071 и 3133 метров соответственно. Распределение двухмодальное - наиболее частые поездки около 3100 метров, также часто совершают поездки около 700 метров. Большинство поездок (75%) не более 3776 метров.\n",
    "\n",
    "\n",
    "Совершаются поездки от 0.5 до 41 минуты. Среднее и медианное значение около 18 минут. Также присутствуют частые поездки по 0.5 минуты - вероятнее всего, это округление очень коротких поездок. Большинство поездок (75%) не дольше 22 минут.\n"
   ]
  },
  {
   "cell_type": "markdown",
   "id": "4ef51331",
   "metadata": {},
   "source": [
    "## Объединение данных"
   ]
  },
  {
   "cell_type": "code",
   "execution_count": 13,
   "id": "6bf288b5",
   "metadata": {},
   "outputs": [
    {
     "data": {
      "text/html": [
       "<div>\n",
       "<style scoped>\n",
       "    .dataframe tbody tr th:only-of-type {\n",
       "        vertical-align: middle;\n",
       "    }\n",
       "\n",
       "    .dataframe tbody tr th {\n",
       "        vertical-align: top;\n",
       "    }\n",
       "\n",
       "    .dataframe thead th {\n",
       "        text-align: right;\n",
       "    }\n",
       "</style>\n",
       "<table border=\"1\" class=\"dataframe\">\n",
       "  <thead>\n",
       "    <tr style=\"text-align: right;\">\n",
       "      <th></th>\n",
       "      <th>user_id</th>\n",
       "      <th>name</th>\n",
       "      <th>age</th>\n",
       "      <th>city</th>\n",
       "      <th>subscription_type</th>\n",
       "      <th>distance</th>\n",
       "      <th>duration</th>\n",
       "      <th>date</th>\n",
       "      <th>month</th>\n",
       "    </tr>\n",
       "  </thead>\n",
       "  <tbody>\n",
       "    <tr>\n",
       "      <th>0</th>\n",
       "      <td>1</td>\n",
       "      <td>Кира</td>\n",
       "      <td>22</td>\n",
       "      <td>Тюмень</td>\n",
       "      <td>ultra</td>\n",
       "      <td>4409.919140</td>\n",
       "      <td>25.599769</td>\n",
       "      <td>2021-01-01</td>\n",
       "      <td>1</td>\n",
       "    </tr>\n",
       "    <tr>\n",
       "      <th>1</th>\n",
       "      <td>1</td>\n",
       "      <td>Кира</td>\n",
       "      <td>22</td>\n",
       "      <td>Тюмень</td>\n",
       "      <td>ultra</td>\n",
       "      <td>2617.592153</td>\n",
       "      <td>15.816871</td>\n",
       "      <td>2021-01-18</td>\n",
       "      <td>1</td>\n",
       "    </tr>\n",
       "    <tr>\n",
       "      <th>2</th>\n",
       "      <td>1</td>\n",
       "      <td>Кира</td>\n",
       "      <td>22</td>\n",
       "      <td>Тюмень</td>\n",
       "      <td>ultra</td>\n",
       "      <td>754.159807</td>\n",
       "      <td>6.232113</td>\n",
       "      <td>2021-04-20</td>\n",
       "      <td>4</td>\n",
       "    </tr>\n",
       "    <tr>\n",
       "      <th>3</th>\n",
       "      <td>1</td>\n",
       "      <td>Кира</td>\n",
       "      <td>22</td>\n",
       "      <td>Тюмень</td>\n",
       "      <td>ultra</td>\n",
       "      <td>2694.783254</td>\n",
       "      <td>18.511000</td>\n",
       "      <td>2021-08-11</td>\n",
       "      <td>8</td>\n",
       "    </tr>\n",
       "    <tr>\n",
       "      <th>4</th>\n",
       "      <td>1</td>\n",
       "      <td>Кира</td>\n",
       "      <td>22</td>\n",
       "      <td>Тюмень</td>\n",
       "      <td>ultra</td>\n",
       "      <td>4028.687306</td>\n",
       "      <td>26.265803</td>\n",
       "      <td>2021-08-28</td>\n",
       "      <td>8</td>\n",
       "    </tr>\n",
       "  </tbody>\n",
       "</table>\n",
       "</div>"
      ],
      "text/plain": [
       "   user_id  name  age    city subscription_type     distance   duration  \\\n",
       "0        1  Кира   22  Тюмень             ultra  4409.919140  25.599769   \n",
       "1        1  Кира   22  Тюмень             ultra  2617.592153  15.816871   \n",
       "2        1  Кира   22  Тюмень             ultra   754.159807   6.232113   \n",
       "3        1  Кира   22  Тюмень             ultra  2694.783254  18.511000   \n",
       "4        1  Кира   22  Тюмень             ultra  4028.687306  26.265803   \n",
       "\n",
       "        date  month  \n",
       "0 2021-01-01      1  \n",
       "1 2021-01-18      1  \n",
       "2 2021-04-20      4  \n",
       "3 2021-08-11      8  \n",
       "4 2021-08-28      8  "
      ]
     },
     "metadata": {},
     "output_type": "display_data"
    },
    {
     "name": "stdout",
     "output_type": "stream",
     "text": [
      "<class 'pandas.core.frame.DataFrame'>\n",
      "Int64Index: 18068 entries, 0 to 18067\n",
      "Data columns (total 9 columns):\n",
      " #   Column             Non-Null Count  Dtype         \n",
      "---  ------             --------------  -----         \n",
      " 0   user_id            18068 non-null  int64         \n",
      " 1   name               18068 non-null  object        \n",
      " 2   age                18068 non-null  int64         \n",
      " 3   city               18068 non-null  object        \n",
      " 4   subscription_type  18068 non-null  object        \n",
      " 5   distance           18068 non-null  float64       \n",
      " 6   duration           18068 non-null  float64       \n",
      " 7   date               18068 non-null  datetime64[ns]\n",
      " 8   month              18068 non-null  int64         \n",
      "dtypes: datetime64[ns](1), float64(2), int64(3), object(3)\n",
      "memory usage: 1.4+ MB\n"
     ]
    },
    {
     "data": {
      "text/plain": [
       "None"
      ]
     },
     "metadata": {},
     "output_type": "display_data"
    }
   ],
   "source": [
    "# Объединение данных о пользователях и поездках\n",
    "data = pd.merge(data1, data2, on = 'user_id')\n",
    "display(data.head())\n",
    "display(data.info())"
   ]
  },
  {
   "cell_type": "code",
   "execution_count": 14,
   "id": "386c187a",
   "metadata": {},
   "outputs": [
    {
     "data": {
      "text/html": [
       "<div>\n",
       "<style scoped>\n",
       "    .dataframe tbody tr th:only-of-type {\n",
       "        vertical-align: middle;\n",
       "    }\n",
       "\n",
       "    .dataframe tbody tr th {\n",
       "        vertical-align: top;\n",
       "    }\n",
       "\n",
       "    .dataframe thead th {\n",
       "        text-align: right;\n",
       "    }\n",
       "</style>\n",
       "<table border=\"1\" class=\"dataframe\">\n",
       "  <thead>\n",
       "    <tr style=\"text-align: right;\">\n",
       "      <th></th>\n",
       "      <th>user_id</th>\n",
       "      <th>name</th>\n",
       "      <th>age</th>\n",
       "      <th>city</th>\n",
       "      <th>subscription_type</th>\n",
       "      <th>distance</th>\n",
       "      <th>duration</th>\n",
       "      <th>date</th>\n",
       "      <th>month</th>\n",
       "      <th>minute_price</th>\n",
       "      <th>start_ride_price</th>\n",
       "      <th>subscription_fee</th>\n",
       "    </tr>\n",
       "  </thead>\n",
       "  <tbody>\n",
       "    <tr>\n",
       "      <th>0</th>\n",
       "      <td>1</td>\n",
       "      <td>Кира</td>\n",
       "      <td>22</td>\n",
       "      <td>Тюмень</td>\n",
       "      <td>ultra</td>\n",
       "      <td>4409.919140</td>\n",
       "      <td>25.599769</td>\n",
       "      <td>2021-01-01</td>\n",
       "      <td>1</td>\n",
       "      <td>6</td>\n",
       "      <td>0</td>\n",
       "      <td>199</td>\n",
       "    </tr>\n",
       "    <tr>\n",
       "      <th>1</th>\n",
       "      <td>1</td>\n",
       "      <td>Кира</td>\n",
       "      <td>22</td>\n",
       "      <td>Тюмень</td>\n",
       "      <td>ultra</td>\n",
       "      <td>2617.592153</td>\n",
       "      <td>15.816871</td>\n",
       "      <td>2021-01-18</td>\n",
       "      <td>1</td>\n",
       "      <td>6</td>\n",
       "      <td>0</td>\n",
       "      <td>199</td>\n",
       "    </tr>\n",
       "    <tr>\n",
       "      <th>2</th>\n",
       "      <td>1</td>\n",
       "      <td>Кира</td>\n",
       "      <td>22</td>\n",
       "      <td>Тюмень</td>\n",
       "      <td>ultra</td>\n",
       "      <td>754.159807</td>\n",
       "      <td>6.232113</td>\n",
       "      <td>2021-04-20</td>\n",
       "      <td>4</td>\n",
       "      <td>6</td>\n",
       "      <td>0</td>\n",
       "      <td>199</td>\n",
       "    </tr>\n",
       "    <tr>\n",
       "      <th>3</th>\n",
       "      <td>1</td>\n",
       "      <td>Кира</td>\n",
       "      <td>22</td>\n",
       "      <td>Тюмень</td>\n",
       "      <td>ultra</td>\n",
       "      <td>2694.783254</td>\n",
       "      <td>18.511000</td>\n",
       "      <td>2021-08-11</td>\n",
       "      <td>8</td>\n",
       "      <td>6</td>\n",
       "      <td>0</td>\n",
       "      <td>199</td>\n",
       "    </tr>\n",
       "    <tr>\n",
       "      <th>4</th>\n",
       "      <td>1</td>\n",
       "      <td>Кира</td>\n",
       "      <td>22</td>\n",
       "      <td>Тюмень</td>\n",
       "      <td>ultra</td>\n",
       "      <td>4028.687306</td>\n",
       "      <td>26.265803</td>\n",
       "      <td>2021-08-28</td>\n",
       "      <td>8</td>\n",
       "      <td>6</td>\n",
       "      <td>0</td>\n",
       "      <td>199</td>\n",
       "    </tr>\n",
       "  </tbody>\n",
       "</table>\n",
       "</div>"
      ],
      "text/plain": [
       "   user_id  name  age    city subscription_type     distance   duration  \\\n",
       "0        1  Кира   22  Тюмень             ultra  4409.919140  25.599769   \n",
       "1        1  Кира   22  Тюмень             ultra  2617.592153  15.816871   \n",
       "2        1  Кира   22  Тюмень             ultra   754.159807   6.232113   \n",
       "3        1  Кира   22  Тюмень             ultra  2694.783254  18.511000   \n",
       "4        1  Кира   22  Тюмень             ultra  4028.687306  26.265803   \n",
       "\n",
       "        date  month  minute_price  start_ride_price  subscription_fee  \n",
       "0 2021-01-01      1             6                 0               199  \n",
       "1 2021-01-18      1             6                 0               199  \n",
       "2 2021-04-20      4             6                 0               199  \n",
       "3 2021-08-11      8             6                 0               199  \n",
       "4 2021-08-28      8             6                 0               199  "
      ]
     },
     "metadata": {},
     "output_type": "display_data"
    },
    {
     "name": "stdout",
     "output_type": "stream",
     "text": [
      "<class 'pandas.core.frame.DataFrame'>\n",
      "Int64Index: 18068 entries, 0 to 18067\n",
      "Data columns (total 12 columns):\n",
      " #   Column             Non-Null Count  Dtype         \n",
      "---  ------             --------------  -----         \n",
      " 0   user_id            18068 non-null  int64         \n",
      " 1   name               18068 non-null  object        \n",
      " 2   age                18068 non-null  int64         \n",
      " 3   city               18068 non-null  object        \n",
      " 4   subscription_type  18068 non-null  object        \n",
      " 5   distance           18068 non-null  float64       \n",
      " 6   duration           18068 non-null  float64       \n",
      " 7   date               18068 non-null  datetime64[ns]\n",
      " 8   month              18068 non-null  int64         \n",
      " 9   minute_price       18068 non-null  int64         \n",
      " 10  start_ride_price   18068 non-null  int64         \n",
      " 11  subscription_fee   18068 non-null  int64         \n",
      "dtypes: datetime64[ns](1), float64(2), int64(6), object(3)\n",
      "memory usage: 1.8+ MB\n"
     ]
    },
    {
     "data": {
      "text/plain": [
       "None"
      ]
     },
     "metadata": {},
     "output_type": "display_data"
    }
   ],
   "source": [
    "# Добавление данных о подписках\n",
    "data = pd.merge(data, data3, on = 'subscription_type')\n",
    "display(data.head())\n",
    "display(data.info())"
   ]
  },
  {
   "cell_type": "code",
   "execution_count": 15,
   "id": "f4a1f7c7",
   "metadata": {},
   "outputs": [
    {
     "data": {
      "text/html": [
       "<div>\n",
       "<style scoped>\n",
       "    .dataframe tbody tr th:only-of-type {\n",
       "        vertical-align: middle;\n",
       "    }\n",
       "\n",
       "    .dataframe tbody tr th {\n",
       "        vertical-align: top;\n",
       "    }\n",
       "\n",
       "    .dataframe thead th {\n",
       "        text-align: right;\n",
       "    }\n",
       "</style>\n",
       "<table border=\"1\" class=\"dataframe\">\n",
       "  <thead>\n",
       "    <tr style=\"text-align: right;\">\n",
       "      <th></th>\n",
       "      <th>user_id</th>\n",
       "      <th>name</th>\n",
       "      <th>age</th>\n",
       "      <th>city</th>\n",
       "      <th>subscription_type</th>\n",
       "      <th>distance</th>\n",
       "      <th>duration</th>\n",
       "      <th>date</th>\n",
       "      <th>month</th>\n",
       "      <th>minute_price</th>\n",
       "      <th>start_ride_price</th>\n",
       "      <th>subscription_fee</th>\n",
       "    </tr>\n",
       "  </thead>\n",
       "  <tbody>\n",
       "    <tr>\n",
       "      <th>0</th>\n",
       "      <td>1</td>\n",
       "      <td>Кира</td>\n",
       "      <td>22</td>\n",
       "      <td>Тюмень</td>\n",
       "      <td>ultra</td>\n",
       "      <td>4409.919140</td>\n",
       "      <td>25.599769</td>\n",
       "      <td>2021-01-01</td>\n",
       "      <td>1</td>\n",
       "      <td>6</td>\n",
       "      <td>0</td>\n",
       "      <td>199</td>\n",
       "    </tr>\n",
       "    <tr>\n",
       "      <th>1</th>\n",
       "      <td>1</td>\n",
       "      <td>Кира</td>\n",
       "      <td>22</td>\n",
       "      <td>Тюмень</td>\n",
       "      <td>ultra</td>\n",
       "      <td>2617.592153</td>\n",
       "      <td>15.816871</td>\n",
       "      <td>2021-01-18</td>\n",
       "      <td>1</td>\n",
       "      <td>6</td>\n",
       "      <td>0</td>\n",
       "      <td>199</td>\n",
       "    </tr>\n",
       "    <tr>\n",
       "      <th>2</th>\n",
       "      <td>1</td>\n",
       "      <td>Кира</td>\n",
       "      <td>22</td>\n",
       "      <td>Тюмень</td>\n",
       "      <td>ultra</td>\n",
       "      <td>754.159807</td>\n",
       "      <td>6.232113</td>\n",
       "      <td>2021-04-20</td>\n",
       "      <td>4</td>\n",
       "      <td>6</td>\n",
       "      <td>0</td>\n",
       "      <td>199</td>\n",
       "    </tr>\n",
       "    <tr>\n",
       "      <th>3</th>\n",
       "      <td>1</td>\n",
       "      <td>Кира</td>\n",
       "      <td>22</td>\n",
       "      <td>Тюмень</td>\n",
       "      <td>ultra</td>\n",
       "      <td>2694.783254</td>\n",
       "      <td>18.511000</td>\n",
       "      <td>2021-08-11</td>\n",
       "      <td>8</td>\n",
       "      <td>6</td>\n",
       "      <td>0</td>\n",
       "      <td>199</td>\n",
       "    </tr>\n",
       "    <tr>\n",
       "      <th>4</th>\n",
       "      <td>1</td>\n",
       "      <td>Кира</td>\n",
       "      <td>22</td>\n",
       "      <td>Тюмень</td>\n",
       "      <td>ultra</td>\n",
       "      <td>4028.687306</td>\n",
       "      <td>26.265803</td>\n",
       "      <td>2021-08-28</td>\n",
       "      <td>8</td>\n",
       "      <td>6</td>\n",
       "      <td>0</td>\n",
       "      <td>199</td>\n",
       "    </tr>\n",
       "  </tbody>\n",
       "</table>\n",
       "</div>"
      ],
      "text/plain": [
       "   user_id  name  age    city subscription_type     distance   duration  \\\n",
       "0        1  Кира   22  Тюмень             ultra  4409.919140  25.599769   \n",
       "1        1  Кира   22  Тюмень             ultra  2617.592153  15.816871   \n",
       "2        1  Кира   22  Тюмень             ultra   754.159807   6.232113   \n",
       "3        1  Кира   22  Тюмень             ultra  2694.783254  18.511000   \n",
       "4        1  Кира   22  Тюмень             ultra  4028.687306  26.265803   \n",
       "\n",
       "        date  month  minute_price  start_ride_price  subscription_fee  \n",
       "0 2021-01-01      1             6                 0               199  \n",
       "1 2021-01-18      1             6                 0               199  \n",
       "2 2021-04-20      4             6                 0               199  \n",
       "3 2021-08-11      8             6                 0               199  \n",
       "4 2021-08-28      8             6                 0               199  "
      ]
     },
     "metadata": {},
     "output_type": "display_data"
    },
    {
     "name": "stdout",
     "output_type": "stream",
     "text": [
      "<class 'pandas.core.frame.DataFrame'>\n",
      "Int64Index: 6500 entries, 0 to 6499\n",
      "Data columns (total 12 columns):\n",
      " #   Column             Non-Null Count  Dtype         \n",
      "---  ------             --------------  -----         \n",
      " 0   user_id            6500 non-null   int64         \n",
      " 1   name               6500 non-null   object        \n",
      " 2   age                6500 non-null   int64         \n",
      " 3   city               6500 non-null   object        \n",
      " 4   subscription_type  6500 non-null   object        \n",
      " 5   distance           6500 non-null   float64       \n",
      " 6   duration           6500 non-null   float64       \n",
      " 7   date               6500 non-null   datetime64[ns]\n",
      " 8   month              6500 non-null   int64         \n",
      " 9   minute_price       6500 non-null   int64         \n",
      " 10  start_ride_price   6500 non-null   int64         \n",
      " 11  subscription_fee   6500 non-null   int64         \n",
      "dtypes: datetime64[ns](1), float64(2), int64(6), object(3)\n",
      "memory usage: 660.2+ KB\n"
     ]
    },
    {
     "data": {
      "text/plain": [
       "None"
      ]
     },
     "metadata": {},
     "output_type": "display_data"
    }
   ],
   "source": [
    "# Датафрейм о поездках пользователей с подпиской\n",
    "data_ultra = data.query('subscription_type == \"ultra\"')\n",
    "display(data_ultra.head())\n",
    "display(data_ultra.info())"
   ]
  },
  {
   "cell_type": "code",
   "execution_count": 16,
   "id": "6c358a80",
   "metadata": {},
   "outputs": [
    {
     "data": {
      "text/html": [
       "<div>\n",
       "<style scoped>\n",
       "    .dataframe tbody tr th:only-of-type {\n",
       "        vertical-align: middle;\n",
       "    }\n",
       "\n",
       "    .dataframe tbody tr th {\n",
       "        vertical-align: top;\n",
       "    }\n",
       "\n",
       "    .dataframe thead th {\n",
       "        text-align: right;\n",
       "    }\n",
       "</style>\n",
       "<table border=\"1\" class=\"dataframe\">\n",
       "  <thead>\n",
       "    <tr style=\"text-align: right;\">\n",
       "      <th></th>\n",
       "      <th>user_id</th>\n",
       "      <th>name</th>\n",
       "      <th>age</th>\n",
       "      <th>city</th>\n",
       "      <th>subscription_type</th>\n",
       "      <th>distance</th>\n",
       "      <th>duration</th>\n",
       "      <th>date</th>\n",
       "      <th>month</th>\n",
       "      <th>minute_price</th>\n",
       "      <th>start_ride_price</th>\n",
       "      <th>subscription_fee</th>\n",
       "    </tr>\n",
       "  </thead>\n",
       "  <tbody>\n",
       "    <tr>\n",
       "      <th>6500</th>\n",
       "      <td>700</td>\n",
       "      <td>Айдар</td>\n",
       "      <td>22</td>\n",
       "      <td>Омск</td>\n",
       "      <td>free</td>\n",
       "      <td>2515.690719</td>\n",
       "      <td>14.944286</td>\n",
       "      <td>2021-01-02</td>\n",
       "      <td>1</td>\n",
       "      <td>8</td>\n",
       "      <td>50</td>\n",
       "      <td>0</td>\n",
       "    </tr>\n",
       "    <tr>\n",
       "      <th>6501</th>\n",
       "      <td>700</td>\n",
       "      <td>Айдар</td>\n",
       "      <td>22</td>\n",
       "      <td>Омск</td>\n",
       "      <td>free</td>\n",
       "      <td>846.932642</td>\n",
       "      <td>16.234663</td>\n",
       "      <td>2021-02-01</td>\n",
       "      <td>2</td>\n",
       "      <td>8</td>\n",
       "      <td>50</td>\n",
       "      <td>0</td>\n",
       "    </tr>\n",
       "    <tr>\n",
       "      <th>6502</th>\n",
       "      <td>700</td>\n",
       "      <td>Айдар</td>\n",
       "      <td>22</td>\n",
       "      <td>Омск</td>\n",
       "      <td>free</td>\n",
       "      <td>4004.434142</td>\n",
       "      <td>20.016628</td>\n",
       "      <td>2021-02-04</td>\n",
       "      <td>2</td>\n",
       "      <td>8</td>\n",
       "      <td>50</td>\n",
       "      <td>0</td>\n",
       "    </tr>\n",
       "    <tr>\n",
       "      <th>6503</th>\n",
       "      <td>700</td>\n",
       "      <td>Айдар</td>\n",
       "      <td>22</td>\n",
       "      <td>Омск</td>\n",
       "      <td>free</td>\n",
       "      <td>1205.911290</td>\n",
       "      <td>9.782872</td>\n",
       "      <td>2021-02-10</td>\n",
       "      <td>2</td>\n",
       "      <td>8</td>\n",
       "      <td>50</td>\n",
       "      <td>0</td>\n",
       "    </tr>\n",
       "    <tr>\n",
       "      <th>6504</th>\n",
       "      <td>700</td>\n",
       "      <td>Айдар</td>\n",
       "      <td>22</td>\n",
       "      <td>Омск</td>\n",
       "      <td>free</td>\n",
       "      <td>3047.379435</td>\n",
       "      <td>17.427673</td>\n",
       "      <td>2021-02-14</td>\n",
       "      <td>2</td>\n",
       "      <td>8</td>\n",
       "      <td>50</td>\n",
       "      <td>0</td>\n",
       "    </tr>\n",
       "  </tbody>\n",
       "</table>\n",
       "</div>"
      ],
      "text/plain": [
       "      user_id   name  age  city subscription_type     distance   duration  \\\n",
       "6500      700  Айдар   22  Омск              free  2515.690719  14.944286   \n",
       "6501      700  Айдар   22  Омск              free   846.932642  16.234663   \n",
       "6502      700  Айдар   22  Омск              free  4004.434142  20.016628   \n",
       "6503      700  Айдар   22  Омск              free  1205.911290   9.782872   \n",
       "6504      700  Айдар   22  Омск              free  3047.379435  17.427673   \n",
       "\n",
       "           date  month  minute_price  start_ride_price  subscription_fee  \n",
       "6500 2021-01-02      1             8                50                 0  \n",
       "6501 2021-02-01      2             8                50                 0  \n",
       "6502 2021-02-04      2             8                50                 0  \n",
       "6503 2021-02-10      2             8                50                 0  \n",
       "6504 2021-02-14      2             8                50                 0  "
      ]
     },
     "metadata": {},
     "output_type": "display_data"
    },
    {
     "name": "stdout",
     "output_type": "stream",
     "text": [
      "<class 'pandas.core.frame.DataFrame'>\n",
      "Int64Index: 11568 entries, 6500 to 18067\n",
      "Data columns (total 12 columns):\n",
      " #   Column             Non-Null Count  Dtype         \n",
      "---  ------             --------------  -----         \n",
      " 0   user_id            11568 non-null  int64         \n",
      " 1   name               11568 non-null  object        \n",
      " 2   age                11568 non-null  int64         \n",
      " 3   city               11568 non-null  object        \n",
      " 4   subscription_type  11568 non-null  object        \n",
      " 5   distance           11568 non-null  float64       \n",
      " 6   duration           11568 non-null  float64       \n",
      " 7   date               11568 non-null  datetime64[ns]\n",
      " 8   month              11568 non-null  int64         \n",
      " 9   minute_price       11568 non-null  int64         \n",
      " 10  start_ride_price   11568 non-null  int64         \n",
      " 11  subscription_fee   11568 non-null  int64         \n",
      "dtypes: datetime64[ns](1), float64(2), int64(6), object(3)\n",
      "memory usage: 1.1+ MB\n"
     ]
    },
    {
     "data": {
      "text/plain": [
       "None"
      ]
     },
     "metadata": {},
     "output_type": "display_data"
    }
   ],
   "source": [
    "# Датафрейм о поездках пользователей без подписки\n",
    "data_free = data.query('subscription_type == \"free\"')\n",
    "display(data_free.head())\n",
    "display(data_free.info())"
   ]
  },
  {
   "cell_type": "code",
   "execution_count": 17,
   "id": "73561f4b",
   "metadata": {},
   "outputs": [
    {
     "data": {
      "image/png": "[encoded data removed]",
      "text/plain": [
       "<Figure size 1152x360 with 1 Axes>"
      ]
     },
     "metadata": {
      "needs_background": "light"
     },
     "output_type": "display_data"
    },
    {
     "name": "stdout",
     "output_type": "stream",
     "text": [
      "Общие данные о поездках пользователей с подпиской\n"
     ]
    },
    {
     "data": {
      "text/plain": [
       "count    6500.000000\n",
       "mean       18.541985\n",
       "std         5.572048\n",
       "min         3.760353\n",
       "25%        14.524654\n",
       "50%        18.178153\n",
       "75%        21.884129\n",
       "max        40.823963\n",
       "Name: duration, dtype: float64"
      ]
     },
     "metadata": {},
     "output_type": "display_data"
    },
    {
     "name": "stdout",
     "output_type": "stream",
     "text": [
      "Общие данные о поездках пользователей без подписки\n"
     ]
    },
    {
     "data": {
      "text/plain": [
       "count    11568.000000\n",
       "mean        17.390909\n",
       "std          6.326803\n",
       "min          0.500000\n",
       "25%         12.958437\n",
       "50%         17.326890\n",
       "75%         21.594071\n",
       "max         34.948498\n",
       "Name: duration, dtype: float64"
      ]
     },
     "metadata": {},
     "output_type": "display_data"
    }
   ],
   "source": [
    "# Сравнение длительностей поездок пользователей с подпиской и без\n",
    "\n",
    "plt.figure(figsize=(16, 5))\n",
    "plt.hist(data_free['duration'], align='mid', bins = 150, range = (0,45), label='Free', color='black')\n",
    "plt.hist(data_ultra['duration'], align='mid', bins = 150, range = (0,45), label='Ultra', color='gold', alpha = 0.7)\n",
    "plt.xlabel('Duration')\n",
    "plt.ylabel('Frequency')\n",
    "plt.title('Duration hist')\n",
    "plt.legend(loc='upper right')\n",
    "plt.show()\n",
    "\n",
    "print('Общие данные о поездках пользователей с подпиской')\n",
    "display(data_ultra['duration'].describe())\n",
    "\n",
    "print('Общие данные о поездках пользователей без подписки')\n",
    "display(data_free['duration'].describe())"
   ]
  },
  {
   "cell_type": "markdown",
   "id": "f84c9ec9",
   "metadata": {},
   "source": [
    "Пользователями с подпиской совершаются поездки от 4 до 41 минуты, всего 6500 поездок. \n",
    "\n",
    "Среднее и медианное значение около 18 минут. \n",
    "\n",
    "Большинство поездок от 14.5 до 22 минут. \n",
    "\n",
    "\n",
    "\n",
    "Пользователями без подписки совершаются поездки от 0.5 до 35 минут, всего 11568 поездок. \n",
    "\n",
    "Среднее и медианное значение около 17 минут. Также присутствуют частые поездки по 0.5 минуты - вероятнее всего, это округление очень коротких поездок.   \n",
    "\n",
    "Большинство поездок от 13 до 22 минут. "
   ]
  },
  {
   "cell_type": "code",
   "execution_count": 18,
   "id": "ecba96ca",
   "metadata": {},
   "outputs": [
    {
     "data": {
      "image/png": "[encoded data removed]",
      "text/plain": [
       "<Figure size 1152x360 with 1 Axes>"
      ]
     },
     "metadata": {
      "needs_background": "light"
     },
     "output_type": "display_data"
    },
    {
     "name": "stdout",
     "output_type": "stream",
     "text": [
      "Общие данные о длительности поездок пользователей с подпиской\n"
     ]
    },
    {
     "data": {
      "text/plain": [
       "count    6500.000000\n",
       "mean     3115.445388\n",
       "std       836.895330\n",
       "min       244.210438\n",
       "25%      2785.444017\n",
       "50%      3148.637229\n",
       "75%      3560.574425\n",
       "max      5699.769662\n",
       "Name: distance, dtype: float64"
      ]
     },
     "metadata": {},
     "output_type": "display_data"
    },
    {
     "name": "stdout",
     "output_type": "stream",
     "text": [
      "Общие данные о длительности поездок пользователей без подписки\n"
     ]
    },
    {
     "data": {
      "text/plain": [
       "count    11568.000000\n",
       "mean      3045.495282\n",
       "std       1246.173806\n",
       "min          0.855683\n",
       "25%       2366.562689\n",
       "50%       3114.648465\n",
       "75%       3905.697894\n",
       "max       7211.007745\n",
       "Name: distance, dtype: float64"
      ]
     },
     "metadata": {},
     "output_type": "display_data"
    }
   ],
   "source": [
    "# Сравнение расстояний поездок пользователей с подпиской и без\n",
    "plt.figure(figsize=(16, 5))\n",
    "plt.hist(data_free['distance'], align='mid', bins = 250, range = (0,7500), label='Free', color='black')\n",
    "plt.hist(data_ultra['distance'], align='mid', bins = 250, range = (0,7500), label='Ultra', color='gold', alpha = 0.7)\n",
    "plt.xlabel('Distance')\n",
    "plt.ylabel('Frequency')\n",
    "plt.title('distance hist')\n",
    "plt.legend(loc='upper right')\n",
    "plt.show()\n",
    "\n",
    "print('Общие данные о длительности поездок пользователей с подпиской')\n",
    "display(data_ultra['distance'].describe())\n",
    "\n",
    "print('Общие данные о длительности поездок пользователей без подписки')\n",
    "display(data_free['distance'].describe())"
   ]
  },
  {
   "cell_type": "markdown",
   "id": "a53ef6de",
   "metadata": {},
   "source": [
    "Пользователями с подпиской совершаются поездки от 244 до 5700 метров, всего 6500 поездок. \n",
    "\n",
    "Среднее и медианное значение около 3120 метров. Также присутствует группа более коротких частых поездок длительностью около 1000 метров.\n",
    "\n",
    "Большинство поездок от 2785 до 3561 метров. \n",
    "\n",
    "\n",
    "\n",
    "Пользователями без подписки совершаются поездки от 0.85 до 7211 метров, всего 11568 поездок. \n",
    "\n",
    "Среднее и медианное значение около 3075 метров. Также присутствует группа более коротких частых поездок длительностью около 500 метров.\n",
    "\n",
    "Большинство поездок от 2366 до 3906 метров. \n",
    "\n"
   ]
  },
  {
   "cell_type": "markdown",
   "id": "402d620f",
   "metadata": {},
   "source": [
    "## Подсчёт выручки"
   ]
  },
  {
   "cell_type": "markdown",
   "id": "76e2ab2a",
   "metadata": {},
   "source": [
    "Создание датафрейма с агрегированными данными о поездках с информацией о суммарном расстоянии, количестве поездок и суммарном время для каждого пользователя за каждый месяц. Добавлена информация о ежемесячных тратах на сервис каждого пользователя."
   ]
  },
  {
   "cell_type": "code",
   "execution_count": 19,
   "id": "53049e0a",
   "metadata": {},
   "outputs": [
    {
     "data": {
      "text/html": [
       "<div>\n",
       "<style scoped>\n",
       "    .dataframe tbody tr th:only-of-type {\n",
       "        vertical-align: middle;\n",
       "    }\n",
       "\n",
       "    .dataframe tbody tr th {\n",
       "        vertical-align: top;\n",
       "    }\n",
       "\n",
       "    .dataframe thead th {\n",
       "        text-align: right;\n",
       "    }\n",
       "</style>\n",
       "<table border=\"1\" class=\"dataframe\">\n",
       "  <thead>\n",
       "    <tr style=\"text-align: right;\">\n",
       "      <th></th>\n",
       "      <th></th>\n",
       "      <th>rides_count</th>\n",
       "      <th>distance_sum</th>\n",
       "      <th>duration_sum</th>\n",
       "      <th>subscription</th>\n",
       "      <th>month_income</th>\n",
       "    </tr>\n",
       "    <tr>\n",
       "      <th>user_id</th>\n",
       "      <th>month</th>\n",
       "      <th></th>\n",
       "      <th></th>\n",
       "      <th></th>\n",
       "      <th></th>\n",
       "      <th></th>\n",
       "    </tr>\n",
       "  </thead>\n",
       "  <tbody>\n",
       "    <tr>\n",
       "      <th rowspan=\"6\" valign=\"top\">1</th>\n",
       "      <th>1</th>\n",
       "      <td>2</td>\n",
       "      <td>7027.511294</td>\n",
       "      <td>42.0</td>\n",
       "      <td>ultra</td>\n",
       "      <td>451.0</td>\n",
       "    </tr>\n",
       "    <tr>\n",
       "      <th>4</th>\n",
       "      <td>1</td>\n",
       "      <td>754.159807</td>\n",
       "      <td>7.0</td>\n",
       "      <td>ultra</td>\n",
       "      <td>241.0</td>\n",
       "    </tr>\n",
       "    <tr>\n",
       "      <th>8</th>\n",
       "      <td>2</td>\n",
       "      <td>6723.470560</td>\n",
       "      <td>46.0</td>\n",
       "      <td>ultra</td>\n",
       "      <td>475.0</td>\n",
       "    </tr>\n",
       "    <tr>\n",
       "      <th>10</th>\n",
       "      <td>2</td>\n",
       "      <td>5809.911100</td>\n",
       "      <td>32.0</td>\n",
       "      <td>ultra</td>\n",
       "      <td>391.0</td>\n",
       "    </tr>\n",
       "    <tr>\n",
       "      <th>11</th>\n",
       "      <td>3</td>\n",
       "      <td>7003.499363</td>\n",
       "      <td>56.0</td>\n",
       "      <td>ultra</td>\n",
       "      <td>535.0</td>\n",
       "    </tr>\n",
       "    <tr>\n",
       "      <th>12</th>\n",
       "      <td>2</td>\n",
       "      <td>6751.629942</td>\n",
       "      <td>28.0</td>\n",
       "      <td>ultra</td>\n",
       "      <td>367.0</td>\n",
       "    </tr>\n",
       "    <tr>\n",
       "      <th rowspan=\"4\" valign=\"top\">2</th>\n",
       "      <th>3</th>\n",
       "      <td>3</td>\n",
       "      <td>10187.723006</td>\n",
       "      <td>63.0</td>\n",
       "      <td>ultra</td>\n",
       "      <td>577.0</td>\n",
       "    </tr>\n",
       "    <tr>\n",
       "      <th>4</th>\n",
       "      <td>2</td>\n",
       "      <td>6164.381824</td>\n",
       "      <td>40.0</td>\n",
       "      <td>ultra</td>\n",
       "      <td>439.0</td>\n",
       "    </tr>\n",
       "    <tr>\n",
       "      <th>6</th>\n",
       "      <td>1</td>\n",
       "      <td>3255.338202</td>\n",
       "      <td>14.0</td>\n",
       "      <td>ultra</td>\n",
       "      <td>283.0</td>\n",
       "    </tr>\n",
       "    <tr>\n",
       "      <th>7</th>\n",
       "      <td>2</td>\n",
       "      <td>6780.722964</td>\n",
       "      <td>48.0</td>\n",
       "      <td>ultra</td>\n",
       "      <td>487.0</td>\n",
       "    </tr>\n",
       "  </tbody>\n",
       "</table>\n",
       "</div>"
      ],
      "text/plain": [
       "               rides_count  distance_sum  duration_sum subscription  \\\n",
       "user_id month                                                         \n",
       "1       1                2   7027.511294          42.0        ultra   \n",
       "        4                1    754.159807           7.0        ultra   \n",
       "        8                2   6723.470560          46.0        ultra   \n",
       "        10               2   5809.911100          32.0        ultra   \n",
       "        11               3   7003.499363          56.0        ultra   \n",
       "        12               2   6751.629942          28.0        ultra   \n",
       "2       3                3  10187.723006          63.0        ultra   \n",
       "        4                2   6164.381824          40.0        ultra   \n",
       "        6                1   3255.338202          14.0        ultra   \n",
       "        7                2   6780.722964          48.0        ultra   \n",
       "\n",
       "               month_income  \n",
       "user_id month                \n",
       "1       1             451.0  \n",
       "        4             241.0  \n",
       "        8             475.0  \n",
       "        10            391.0  \n",
       "        11            535.0  \n",
       "        12            367.0  \n",
       "2       3             577.0  \n",
       "        4             439.0  \n",
       "        6             283.0  \n",
       "        7             487.0  "
      ]
     },
     "execution_count": 19,
     "metadata": {},
     "output_type": "execute_result"
    }
   ],
   "source": [
    "data['duration'] = np.ceil(data['duration'])\n",
    "data_user = pd.pivot_table(data, index = ['user_id', 'month'], values=['distance', 'duration'], aggfunc={'distance' : ['sum', 'count'], 'duration': 'sum'})\n",
    "data_user.columns = ['rides_count', 'distance_sum', 'duration_sum']\n",
    "\n",
    "for i in data_user.index.levels[0]:\n",
    "    if i in data_ultra['user_id'].unique():\n",
    "        data_user.loc[(i, 1):(i, 12), 'subscription'] = 'ultra'\n",
    "        data_user.loc[(i, 1):(i, 12), 'month_income'] = 0 * data_user.loc[(i, 1):(i, 12), 'rides_count'] + 6 * np.ceil(data_user.loc[(i, 1):(i, 12), 'duration_sum']) + 199\n",
    "    else:\n",
    "        data_user.loc[(i, 1):(i, 12), 'subscription'] = 'free'\n",
    "        data_user.loc[(i, 1):(i, 12), 'month_income'] = 50 * data_user.loc[(i, 1):(i, 12), 'rides_count'] + 8 * np.ceil(data_user.loc[(i, 1):(i, 12), 'duration_sum']) + 0\n",
    "\n",
    "data_user.head(10)"
   ]
  },
  {
   "cell_type": "markdown",
   "id": "41545ac0",
   "metadata": {},
   "source": [
    "## Проверка гипотез"
   ]
  },
  {
   "cell_type": "markdown",
   "id": "e0c27c2e",
   "metadata": {},
   "source": [
    "Проверяем нулевую гипотезу, равно ли время поездок пользователей с подпиской времемни поездок пользователей без подписки. Альтернативная гипотеза - пользователи с подпиской тратят больше времени на поездки."
   ]
  },
  {
   "cell_type": "code",
   "execution_count": 20,
   "id": "211b9c25",
   "metadata": {},
   "outputs": [
    {
     "name": "stdout",
     "output_type": "stream",
     "text": [
      "p-значение: 1.2804098316645618e-34\n",
      "Отвергаем нулевую гипотезу\n",
      "\n",
      "Медианное время поездок пользователей с подпиской: 18.17815320055055\n",
      "Медианное время поездок пользователей без подписки: 17.326890226082043\n"
     ]
    }
   ],
   "source": [
    "alpha = 0.05 # типовой уровень статистической значимости, если p-value окажется меньше него, отвергнем гипотезу\n",
    "\n",
    "results = st.ttest_ind(data_ultra['duration'], data_free['duration'], alternative='greater')\n",
    "print('p-значение:', results.pvalue)\n",
    "\n",
    "if results.pvalue < alpha:\n",
    "    print('Отвергаем нулевую гипотезу')\n",
    "else:\n",
    "    print('Не получилось отвергнуть нулевую гипотезу')\n",
    "\n",
    "print()\n",
    "\n",
    "print('Медианное время поездок пользователей с подпиской:', data_ultra['duration'].median())\n",
    "print('Медианное время поездок пользователей без подписки:', data_free['duration'].median())"
   ]
  },
  {
   "cell_type": "markdown",
   "id": "70793b98",
   "metadata": {},
   "source": [
    "Нулевая гипотеза, которая предполагала отсутствие различий между группами пользователей, была отвергнута при выбранном уровне значимости alpha=0.05. Это говорит о том, что существуют статистически значимые различия между группами. Практически это означает, что вероятнее всего пользователи с подпиской тратят больше времени на поездки."
   ]
  },
  {
   "cell_type": "markdown",
   "id": "b91ae30f",
   "metadata": {},
   "source": [
    "Проверяем нулевую гипотезу, что среднее расстояние, которое проезжают пользователи с подпиской за одну поездку, равно оптимальному с точки зрения надежности самоката значению 3130 метров. Альтернативная гипотеза - среднее расстояние, которое проезжают пользователи с подпиской за одну поездку превышает оптимальное расстояние (3130 метров). "
   ]
  },
  {
   "cell_type": "code",
   "execution_count": 21,
   "id": "b6637f81",
   "metadata": {},
   "outputs": [
    {
     "name": "stdout",
     "output_type": "stream",
     "text": [
      "p-значение: 0.9195368847849785\n",
      "Не получилось отвергнуть нулевую гипотезу\n",
      "\n",
      "Средняя дистанция поездок пользователей с подпиской: 3115.4453880370247\n"
     ]
    }
   ],
   "source": [
    "target_value = 3130\n",
    "alpha = 0.05 # уровень статистической значимости, если p-value окажется меньше него, отвергнем гипотезу\n",
    "\n",
    "results = st.ttest_1samp(data_ultra['distance'], target_value, alternative='greater')\n",
    "\n",
    "print('p-значение:', results.pvalue)\n",
    "\n",
    "if results.pvalue < alpha:\n",
    "    print('Отвергаем нулевую гипотезу')\n",
    "else:\n",
    "    print('Не получилось отвергнуть нулевую гипотезу')\n",
    "    \n",
    "print()\n",
    "\n",
    "print('Средняя дистанция поездок пользователей с подпиской:', data_ultra['distance'].mean())"
   ]
  },
  {
   "cell_type": "markdown",
   "id": "4b4784bd",
   "metadata": {},
   "source": [
    "Нулевая гипотеза, которая предполагала отсутствие различий между оптимальным значение 3130 метров и средним расстоянием поездки пользователей с подпиской, не была отвергнута при выбранном уровне значимости alpha=0.05. Это говорит о том, что статистически значимых отличий между опитимальным значением и средним значением выборки не обнаружено. Практически это может означать, что в данной выборке нет достаточных доказательств, чтобы утверждать, что пользователи с подпиской в среднем проезжают расстояние, приводящее к повышенному износу самоката. "
   ]
  },
  {
   "cell_type": "markdown",
   "id": "e741cfa5",
   "metadata": {},
   "source": [
    "Нулевая гипотеза: помесячная выручка от пользователей с подпиской равна выручка от пользователей без подписки. \n",
    "\n",
    "Альтернативная гипотеза: помесячная выручка от пользователей с подпиской больше выручки от пользователей без подписки. "
   ]
  },
  {
   "cell_type": "code",
   "execution_count": 22,
   "id": "654fa0c6",
   "metadata": {},
   "outputs": [
    {
     "name": "stdout",
     "output_type": "stream",
     "text": [
      "p-значение: 1.8850394384715216e-31\n",
      "Отвергаем нулевую гипотезу\n",
      "\n",
      "Медианная помесячная выручка пользователей с подпиской: 337.0\n",
      "Медианная помесячная выручка пользователей без подписки: 274.0\n"
     ]
    },
    {
     "data": {
      "image/png": "[encoded data removed]",
      "text/plain": [
       "<Figure size 1152x360 with 1 Axes>"
      ]
     },
     "metadata": {
      "needs_background": "light"
     },
     "output_type": "display_data"
    }
   ],
   "source": [
    "alpha = 0.05 # уровень статистической значимости, если p-value окажется меньше него, отвергнем гипотезу\n",
    "\n",
    "results = st.ttest_ind(data_user[data_user['subscription'] == 'ultra']['month_income'], data_user[data_user['subscription'] == 'free']['month_income'], alternative='greater')\n",
    "print('p-значение:', results.pvalue)\n",
    "\n",
    "if results.pvalue < alpha:\n",
    "    print('Отвергаем нулевую гипотезу')\n",
    "else:\n",
    "    print('Не получилось отвергнуть нулевую гипотезу')\n",
    "    \n",
    "print()\n",
    "\n",
    "print('Медианная помесячная выручка пользователей с подпиской:', data_user[data_user['subscription'] == 'ultra']['month_income'].median())\n",
    "print('Медианная помесячная выручка пользователей без подписки:', data_user[data_user['subscription'] == 'free']['month_income'].median())\n",
    "\n",
    "plt.figure(figsize=(16, 5))\n",
    "plt.hist(data_user[data_user['subscription'] == 'free']['month_income'], align='mid', bins = 50, range = (0,1050), label='Free', color='black')\n",
    "plt.hist(data_user[data_user['subscription'] == 'ultra']['month_income'], align='mid', bins = 50, range = (0,1050), label='Ultra', color='gold', alpha = 0.7)\n",
    "plt.xlabel('Month Income')\n",
    "plt.ylabel('Frequency')\n",
    "plt.title('month_income hist')\n",
    "plt.legend(loc='upper right')\n",
    "plt.show()"
   ]
  },
  {
   "cell_type": "markdown",
   "id": "2afe564e",
   "metadata": {},
   "source": [
    "Нулевая гипотеза, которая предполагала отсутствие различий между помесячными доходами сервиса от пользователей с подпиской и без подписки, была отвергнута при выбранном уровне значимости alpha=0.05. Это говорит о том, что существуют статистически значимые различия между группами. Практически это означает, что вероятнее всего пользователи с подпиской приносят больше выручки сервису, чем пользователи без подписки."
   ]
  },
  {
   "cell_type": "markdown",
   "id": "e5ed8751",
   "metadata": {},
   "source": [
    "Если техническая команда сервиса обновит сервера, с которыми взаимодействует мобильное приложение и хочет проверить, что из-за этого количество обращений в техподдержку снизится, ей необходимо проверить гипотезу о равенстве средних для зависимых (парных) выборок при помощи метода scipy.stats.ttest_rel(). "
   ]
  },
  {
   "cell_type": "markdown",
   "id": "cc91da58",
   "metadata": {},
   "source": [
    "## Выводы\n",
    "\n",
    "Изучены и обработаны 3 датасета: Пользователи, Поездки, Подписки. \n",
    "\n",
    "Исследованы основные параметры пользователей и их поездок в зависимости от наличия подписки: длительность поездки, дальность поездки, месячные траты на сервис.\n",
    "\n",
    "Рассмотрено 3 гипотезы о пользователях и поездках.\n",
    "\n",
    "Гипотеза №1: тратят ли пользователи с подпиской больше времени на поездки? Вероятнее всего пользователи с подпиской тратят больше времени на поездки.\n",
    "\n",
    "Гипотеза №2: среднее расстояние, которое проезжают пользователи с подпиской за одну поездку, не превышает оптимальное с точки зрения надежности самоката значение 3130 метров. Нулевая гипотеза, которая предполагала отсутствие различий между оптимальным значение 3130 метров и средним расстоянием поездки пользователей с подпиской, не была отвергнута. Это говорит о том, что статистически значимых отличий между опитимальным значением и средним значением выборки не обнаружено. Практически это может означать, что в данной выборке нет достаточных доказательств, чтобы утверждать наличие различий между значениями. \n",
    "\n",
    "Гипотеза №3: будет ли помесячная выручка от пользователей с подпиской по месяцам выше, чем выручка от пользователей без подписки. Нулевая гипотеза, которая предполагала отсутствие различий между помесячными доходами сервиса от пользователей с подпиской и без подписки, не была отвергнута. Это говорит о том, что статистически значимых отличий между группами не обнаружено. Практически это может означать, что в данных выборке нет достаточных доказательств, чтобы утверждать наличие различий между группами.\n",
    "\n",
    "С учетом результатов исследования можно предположить, что пользователи с подпиской являются более выгодными для компании, поскольку они дольше катаются, при этом дальность их поездок не превышает принятое оптимальным с точки зрения износов самокатов значение расстояния (3130 метров). Как итог, они приносят больше выручки сервису. Однако необходим дальнейший более детальный анализ.\n",
    "\n"
   ]
  },
  {
   "cell_type": "markdown",
   "id": "61213c5e",
   "metadata": {},
   "source": [
    "## Распределения"
   ]
  },
  {
   "cell_type": "markdown",
   "id": "6faf3798",
   "metadata": {},
   "source": [
    "7.1 Отделу маркетинга GoFast поставили задачу: нужно провести акцию с раздачей промокодов на один бесплатный месяц подписки, в рамках которой как минимум 100 существующих клиентов должны продлить эту подписку. То есть по завершении периода действия подписки пользователь может либо отказаться от неё, либо продлить, совершив соответствующий платёж. \n",
    "Эта акция уже проводилась ранее и по итогу выяснилось, что после бесплатного пробного периода подписку продлевают 10% пользователей. Выясним, какое минимальное количество промокодов нужно разослать, чтобы вероятность не выполнить план была примерно 5%. "
   ]
  },
  {
   "cell_type": "code",
   "execution_count": 23,
   "id": "576fa8f8",
   "metadata": {},
   "outputs": [
    {
     "name": "stdout",
     "output_type": "stream",
     "text": [
      "Чтобы вероятность не выполнить план была 5% и ниже, надо разослать не менее 1172 промокодов\n"
     ]
    }
   ],
   "source": [
    "# Параметры биномиального распределения\n",
    "p = 0.1      # Вероятность успеха (удержания пользователя) в каждом испытании\n",
    "\n",
    "# Значение, для которого вы хотите вычислить CDF (требуемое количество успехов - оставшихся с подпиской пользователей)\n",
    "k = 100\n",
    "\n",
    "n = 0\n",
    "cdf_value = 1\n",
    "while (cdf_value > 0.05):\n",
    "    n+=1\n",
    "    cdf_value = binom.cdf(k, n, p)\n",
    "\n",
    "print(f'Чтобы вероятность не выполнить план была 5% и ниже, надо разослать не менее {n} промокодов')   \n"
   ]
  },
  {
   "cell_type": "code",
   "execution_count": 24,
   "id": "c1957d25",
   "metadata": {},
   "outputs": [
    {
     "data": {
      "image/png": "[encoded data removed]",
      "text/plain": [
       "<Figure size 1152x648 with 1 Axes>"
      ]
     },
     "metadata": {
      "needs_background": "light"
     },
     "output_type": "display_data"
    }
   ],
   "source": [
    "# Параметры биномиального распределения\n",
    "k = 100  # Количество требуемых успехов\n",
    "p = 0.1  # Вероятность успеха в каждом испытании\n",
    "\n",
    "n = np.arange(0, 2000)\n",
    "\n",
    "cdf = 1-binom.cdf(k, n, p)\n",
    "\n",
    "plt.figure(figsize=(16, 9))\n",
    "plt.bar(n, 1 - cdf, align='center', alpha=0.7)\n",
    "#plt.xticks(k)\n",
    "plt.xlabel('Количество промокодов (n)')\n",
    "plt.ylabel('Вероятность не выполнить план (иметь менее 100 удержаний клиента)')\n",
    "plt.title('Биномиальное распределение (k=100, p=0.1)')\n",
    "plt.grid(which='both')\n",
    "plt.show()"
   ]
  },
  {
   "cell_type": "markdown",
   "id": "0bf380e7",
   "metadata": {},
   "source": [
    "График CDF (кумулятивная функция распределения) наглядно подтверждает, что вероятность провала (удержания менее 100 пользователей с подпиской) находится около 1170 выданных промокодов."
   ]
  },
  {
   "cell_type": "markdown",
   "id": "86a3c676",
   "metadata": {},
   "source": [
    "7.2 Отдел маркетинга рассылает клиентам push-уведомления в мобильном приложении. Клиенты могут открыть его или не открывать. Известно, что уведомления открывают около 40% получивших клиентов. Отдел планирует разослать 1 млн уведомлений. С помощью аппроксимации построим примерный график распределения и оценим вероятность того, что уведомление откроют не более 399,5 тыс. пользователей."
   ]
  },
  {
   "cell_type": "markdown",
   "id": "f5671f9b",
   "metadata": {},
   "source": [
    "Проверка ошибки аппроксимации биномиального распределения открытия push-уведомлений пользователями "
   ]
  },
  {
   "cell_type": "code",
   "execution_count": 25,
   "id": "319b914a",
   "metadata": {},
   "outputs": [
    {
     "name": "stdout",
     "output_type": "stream",
     "text": [
      "Средняя разница вероятностей на значение: 3.247073994585863e-06\n",
      "Максимальная разница вероятностей: 7.827094494087736e-05\n"
     ]
    }
   ],
   "source": [
    "# задаём параметры биномиального распределения\n",
    "n = 1000 #количество уведомлений для проверки ошибки аппроксимации\n",
    "p = 0.4 #вероятность успеха (открытия уведомления)\n",
    "\n",
    "# задаём параметры нормального распределения равными\n",
    "# мат.ожиданию и дисперсии биномиального распределения\n",
    "mu = n * p\n",
    "sigma = sqrt(n * p * (1 - p))\n",
    "\n",
    "# задаём нормальное распределение с рассчитанными параметрами\n",
    "distr = st.norm(mu, sigma) \n",
    "\n",
    "# найдём суммарную ошибку аппроксимации:\n",
    "error_values = []\n",
    "for i in range(n + 1):\n",
    "    error = abs(st.binom.pmf(i, n, p) - (distr.cdf(i + 0.5) - distr.cdf(i - 0.5)))\n",
    "    error_values.append(error)\n",
    " \n",
    "print('Средняя разница вероятностей на значение:', sum(error_values) / len(error_values))\n",
    "print('Максимальная разница вероятностей:', max(error_values))"
   ]
  },
  {
   "cell_type": "markdown",
   "id": "681b2c32",
   "metadata": {},
   "source": [
    "Ошибка аппроксимации крайне мала - можно применять аппроксимацию для количества уведомлений более 1000"
   ]
  },
  {
   "cell_type": "code",
   "execution_count": 26,
   "id": "bd6d9f9e",
   "metadata": {},
   "outputs": [
    {
     "name": "stdout",
     "output_type": "stream",
     "text": [
      "Вероятность открытия менее 399500 уведомлений при вероятности открытия 40% и 1000000 уведомлении, %: 15.37\n"
     ]
    }
   ],
   "source": [
    "# задаём параметры биномиального распределения\n",
    "n = 1000000\n",
    "p = 0.4\n",
    "\n",
    "# задаём параметры нормального распределения равными\n",
    "# мат.ожиданию и дисперсии биномиального распределения\n",
    "mu = n * p\n",
    "sigma = sqrt(n * p * (1 - p))\n",
    "\n",
    "\n",
    "# задаём нормальное распределение\n",
    "distr = st.norm(mu, sigma) \n",
    "\n",
    "# считаем вероятность хвоста слева от 399.5 тысяч\n",
    "result = distr.cdf(399500)\n",
    "print('Вероятность открытия менее 399500 уведомлений при вероятности открытия 40% и 1000000 уведомлении, %:', round(result*100, 2))"
   ]
  },
  {
   "cell_type": "code",
   "execution_count": 27,
   "id": "d04173df",
   "metadata": {},
   "outputs": [
    {
     "data": {
      "image/png": "[encoded data removed]",
      "text/plain": [
       "<Figure size 1152x648 with 1 Axes>"
      ]
     },
     "metadata": {
      "needs_background": "light"
     },
     "output_type": "display_data"
    }
   ],
   "source": [
    "n = np.arange(399000, 401000, 10) # диапазон открытых уведомлений для график\n",
    "cdf = distr.cdf(n)\n",
    "\n",
    "plt.figure(figsize=(16, 9))\n",
    "plt.plot(n, cdf, color='blue')\n",
    "plt.xlabel('Количество уведомлений (n)')\n",
    "plt.ylabel('Вероятность иметь менее n открытых уведомлений')\n",
    "plt.title('График функции кумулятивной плотности вероятности (CDF)')\n",
    "plt.grid(which='both')\n",
    "plt.show()"
   ]
  },
  {
   "cell_type": "markdown",
   "id": "fca076c9",
   "metadata": {},
   "source": [
    "График наглядно демонстрирует рассчитанную выше вероятность"
   ]
  }
 ],
 "metadata": {
  "ExecuteTimeLog": [
   {
    "duration": 62,
    "start_time": "2023-09-05T19:53:38.546Z"
   },
   {
    "duration": 420,
    "start_time": "2023-09-05T19:53:41.705Z"
   },
   {
    "duration": 91,
    "start_time": "2023-09-05T19:53:42.268Z"
   },
   {
    "duration": 103,
    "start_time": "2023-09-05T19:54:15.378Z"
   },
   {
    "duration": 108,
    "start_time": "2023-09-05T19:54:27.810Z"
   },
   {
    "duration": 85,
    "start_time": "2023-09-05T19:54:52.003Z"
   },
   {
    "duration": 86,
    "start_time": "2023-09-05T19:55:11.070Z"
   },
   {
    "duration": 101,
    "start_time": "2023-09-05T19:55:21.643Z"
   },
   {
    "duration": 110,
    "start_time": "2023-09-05T19:55:52.698Z"
   },
   {
    "duration": 114,
    "start_time": "2023-09-05T19:56:08.838Z"
   },
   {
    "duration": 104,
    "start_time": "2023-09-05T19:56:30.075Z"
   },
   {
    "duration": 41,
    "start_time": "2023-09-05T19:57:05.941Z"
   },
   {
    "duration": 67,
    "start_time": "2023-09-05T19:58:47.663Z"
   },
   {
    "duration": 399,
    "start_time": "2023-09-05T19:58:51.167Z"
   },
   {
    "duration": 2473,
    "start_time": "2023-09-05T19:58:51.646Z"
   },
   {
    "duration": 2625,
    "start_time": "2023-09-05T19:59:47.526Z"
   },
   {
    "duration": 192,
    "start_time": "2023-09-05T20:00:00.308Z"
   },
   {
    "duration": 56,
    "start_time": "2023-09-05T20:00:37.294Z"
   },
   {
    "duration": 188,
    "start_time": "2023-09-05T20:00:43.297Z"
   },
   {
    "duration": 350,
    "start_time": "2023-09-05T20:01:21.526Z"
   },
   {
    "duration": 370,
    "start_time": "2023-09-05T20:01:59.342Z"
   },
   {
    "duration": 464,
    "start_time": "2023-09-05T20:02:01.831Z"
   },
   {
    "duration": 50,
    "start_time": "2023-09-05T20:02:30.164Z"
   },
   {
    "duration": 387,
    "start_time": "2023-09-05T20:02:34.520Z"
   },
   {
    "duration": 328,
    "start_time": "2023-09-05T20:02:57.379Z"
   },
   {
    "duration": 370,
    "start_time": "2023-09-05T20:03:08.716Z"
   },
   {
    "duration": 390,
    "start_time": "2023-09-05T20:04:06.054Z"
   },
   {
    "duration": 466,
    "start_time": "2023-09-05T20:04:57.478Z"
   },
   {
    "duration": 436,
    "start_time": "2023-09-05T20:05:04.511Z"
   },
   {
    "duration": 532,
    "start_time": "2023-09-05T20:06:42.863Z"
   },
   {
    "duration": 597,
    "start_time": "2023-09-05T20:07:11.839Z"
   },
   {
    "duration": 549,
    "start_time": "2023-09-05T20:07:24.870Z"
   },
   {
    "duration": 484,
    "start_time": "2023-09-05T20:07:41.585Z"
   },
   {
    "duration": 56,
    "start_time": "2023-09-05T20:08:20.825Z"
   },
   {
    "duration": 8,
    "start_time": "2023-09-05T20:10:22.697Z"
   },
   {
    "duration": 9,
    "start_time": "2023-09-05T20:10:26.494Z"
   },
   {
    "duration": 18,
    "start_time": "2023-09-05T20:10:39.690Z"
   },
   {
    "duration": 19,
    "start_time": "2023-09-05T20:11:12.149Z"
   },
   {
    "duration": 14,
    "start_time": "2023-09-05T20:11:15.968Z"
   },
   {
    "duration": 20,
    "start_time": "2023-09-05T20:12:13.616Z"
   },
   {
    "duration": 107,
    "start_time": "2023-09-05T20:12:39.895Z"
   },
   {
    "duration": 23,
    "start_time": "2023-09-05T20:12:49.695Z"
   },
   {
    "duration": 467,
    "start_time": "2023-09-05T20:13:30.575Z"
   },
   {
    "duration": 11,
    "start_time": "2023-09-05T20:13:54.667Z"
   },
   {
    "duration": 10,
    "start_time": "2023-09-05T20:13:57.975Z"
   },
   {
    "duration": 6,
    "start_time": "2023-09-05T20:14:19.475Z"
   },
   {
    "duration": 6,
    "start_time": "2023-09-05T20:14:45.206Z"
   },
   {
    "duration": 12,
    "start_time": "2023-09-05T20:14:51.959Z"
   },
   {
    "duration": 6,
    "start_time": "2023-09-05T20:14:57.734Z"
   },
   {
    "duration": 7,
    "start_time": "2023-09-05T20:15:03.173Z"
   },
   {
    "duration": 10,
    "start_time": "2023-09-05T20:15:14.470Z"
   },
   {
    "duration": 11,
    "start_time": "2023-09-05T20:15:26.173Z"
   },
   {
    "duration": 20,
    "start_time": "2023-09-05T20:16:50.066Z"
   },
   {
    "duration": 22,
    "start_time": "2023-09-05T20:17:35.728Z"
   },
   {
    "duration": 18,
    "start_time": "2023-09-05T20:17:39.837Z"
   },
   {
    "duration": 15,
    "start_time": "2023-09-05T20:17:42.817Z"
   },
   {
    "duration": 19,
    "start_time": "2023-09-05T20:17:48.694Z"
   },
   {
    "duration": 11,
    "start_time": "2023-09-05T20:17:56.811Z"
   },
   {
    "duration": 14,
    "start_time": "2023-09-05T20:18:40.214Z"
   },
   {
    "duration": 11,
    "start_time": "2023-09-05T20:18:55.565Z"
   },
   {
    "duration": 11,
    "start_time": "2023-09-05T20:20:40.580Z"
   },
   {
    "duration": 131,
    "start_time": "2023-09-05T20:22:56.025Z"
   },
   {
    "duration": 176,
    "start_time": "2023-09-05T20:23:22.449Z"
   },
   {
    "duration": 173,
    "start_time": "2023-09-05T20:23:39.437Z"
   },
   {
    "duration": 224,
    "start_time": "2023-09-05T20:23:44.600Z"
   },
   {
    "duration": 173,
    "start_time": "2023-09-05T20:23:48.704Z"
   },
   {
    "duration": 175,
    "start_time": "2023-09-05T20:24:45.675Z"
   },
   {
    "duration": 212,
    "start_time": "2023-09-05T20:25:04.170Z"
   },
   {
    "duration": 149,
    "start_time": "2023-09-05T20:25:23.072Z"
   },
   {
    "duration": 49,
    "start_time": "2023-09-05T20:27:55.674Z"
   },
   {
    "duration": 676,
    "start_time": "2023-09-05T20:27:59.396Z"
   },
   {
    "duration": 47,
    "start_time": "2023-09-05T20:28:00.074Z"
   },
   {
    "duration": 45,
    "start_time": "2023-09-05T20:28:00.122Z"
   },
   {
    "duration": 494,
    "start_time": "2023-09-05T20:28:00.168Z"
   },
   {
    "duration": 18,
    "start_time": "2023-09-05T20:28:00.664Z"
   },
   {
    "duration": 42,
    "start_time": "2023-09-05T20:28:00.683Z"
   },
   {
    "duration": 60,
    "start_time": "2023-09-05T20:28:00.726Z"
   },
   {
    "duration": 188,
    "start_time": "2023-09-05T20:28:00.788Z"
   },
   {
    "duration": 201,
    "start_time": "2023-09-05T20:28:00.977Z"
   },
   {
    "duration": 180,
    "start_time": "2023-09-05T20:28:01.180Z"
   },
   {
    "duration": 179,
    "start_time": "2023-09-05T20:28:01.362Z"
   },
   {
    "duration": 3,
    "start_time": "2023-09-05T20:28:23.548Z"
   },
   {
    "duration": 54,
    "start_time": "2023-09-05T20:28:23.553Z"
   },
   {
    "duration": 40,
    "start_time": "2023-09-05T20:28:23.609Z"
   },
   {
    "duration": 29,
    "start_time": "2023-09-05T20:28:23.650Z"
   },
   {
    "duration": 40,
    "start_time": "2023-09-05T20:28:23.681Z"
   },
   {
    "duration": 15,
    "start_time": "2023-09-05T20:28:23.723Z"
   },
   {
    "duration": 10,
    "start_time": "2023-09-05T20:28:23.740Z"
   },
   {
    "duration": 169,
    "start_time": "2023-09-05T20:28:23.751Z"
   },
   {
    "duration": 147,
    "start_time": "2023-09-05T20:28:23.921Z"
   },
   {
    "duration": 180,
    "start_time": "2023-09-05T20:28:24.069Z"
   },
   {
    "duration": 174,
    "start_time": "2023-09-05T20:28:24.251Z"
   },
   {
    "duration": 207,
    "start_time": "2023-09-05T20:28:35.531Z"
   },
   {
    "duration": 330,
    "start_time": "2023-09-05T20:28:46.017Z"
   },
   {
    "duration": 1716,
    "start_time": "2023-09-05T20:29:05.546Z"
   },
   {
    "duration": 309,
    "start_time": "2023-09-05T20:29:18.952Z"
   },
   {
    "duration": 1856,
    "start_time": "2023-09-05T20:30:17.539Z"
   },
   {
    "duration": 327,
    "start_time": "2023-09-05T20:30:25.598Z"
   },
   {
    "duration": 400,
    "start_time": "2023-09-05T20:31:20.979Z"
   },
   {
    "duration": 317,
    "start_time": "2023-09-05T20:31:30.415Z"
   },
   {
    "duration": 9,
    "start_time": "2023-09-05T20:34:14.112Z"
   },
   {
    "duration": 20,
    "start_time": "2023-09-05T20:34:17.205Z"
   },
   {
    "duration": 21,
    "start_time": "2023-09-05T20:34:26.651Z"
   },
   {
    "duration": 34,
    "start_time": "2023-09-05T20:35:04.064Z"
   },
   {
    "duration": 53,
    "start_time": "2023-09-05T20:35:24.049Z"
   },
   {
    "duration": 31,
    "start_time": "2023-09-05T20:36:15.922Z"
   },
   {
    "duration": 29,
    "start_time": "2023-09-05T20:36:17.283Z"
   },
   {
    "duration": 12,
    "start_time": "2023-09-05T20:37:00.580Z"
   },
   {
    "duration": 16,
    "start_time": "2023-09-05T20:37:07.484Z"
   },
   {
    "duration": 28,
    "start_time": "2023-09-05T20:37:46.683Z"
   },
   {
    "duration": 27,
    "start_time": "2023-09-05T20:37:47.178Z"
   },
   {
    "duration": 333,
    "start_time": "2023-09-05T20:39:03.233Z"
   },
   {
    "duration": 332,
    "start_time": "2023-09-05T20:39:19.412Z"
   },
   {
    "duration": 414,
    "start_time": "2023-09-05T20:39:42.677Z"
   },
   {
    "duration": 329,
    "start_time": "2023-09-05T20:39:43.094Z"
   },
   {
    "duration": 678,
    "start_time": "2023-09-05T20:40:12.342Z"
   },
   {
    "duration": 681,
    "start_time": "2023-09-05T20:41:22.124Z"
   },
   {
    "duration": 630,
    "start_time": "2023-09-05T20:41:52.798Z"
   },
   {
    "duration": 966,
    "start_time": "2023-09-05T20:42:15.735Z"
   },
   {
    "duration": 1217,
    "start_time": "2023-09-05T20:43:06.574Z"
   },
   {
    "duration": 900,
    "start_time": "2023-09-05T20:43:12.055Z"
   },
   {
    "duration": 4,
    "start_time": "2023-09-05T20:46:43.790Z"
   },
   {
    "duration": 24,
    "start_time": "2023-09-05T20:46:47.053Z"
   },
   {
    "duration": 44,
    "start_time": "2023-09-05T20:49:37.675Z"
   },
   {
    "duration": 136,
    "start_time": "2023-09-05T20:49:57.886Z"
   },
   {
    "duration": 35,
    "start_time": "2023-09-05T20:50:56.323Z"
   },
   {
    "duration": 45,
    "start_time": "2023-09-05T20:51:13.855Z"
   },
   {
    "duration": 46,
    "start_time": "2023-09-05T20:52:04.249Z"
   },
   {
    "duration": 22,
    "start_time": "2023-09-05T20:52:20.999Z"
   },
   {
    "duration": 41,
    "start_time": "2023-09-05T20:52:23.256Z"
   },
   {
    "duration": 35,
    "start_time": "2023-09-05T20:52:42.350Z"
   },
   {
    "duration": 13,
    "start_time": "2023-09-05T20:52:54.918Z"
   },
   {
    "duration": 176,
    "start_time": "2023-09-05T20:53:05.226Z"
   },
   {
    "duration": 5028,
    "start_time": "2023-09-05T20:53:28.482Z"
   },
   {
    "duration": 9,
    "start_time": "2023-09-05T20:53:46.485Z"
   },
   {
    "duration": 13,
    "start_time": "2023-09-05T20:53:48.512Z"
   },
   {
    "duration": 24,
    "start_time": "2023-09-05T20:54:15.783Z"
   },
   {
    "duration": 4325,
    "start_time": "2023-09-05T20:54:22.191Z"
   },
   {
    "duration": 20,
    "start_time": "2023-09-05T20:54:41.508Z"
   },
   {
    "duration": 10,
    "start_time": "2023-09-05T20:56:05.826Z"
   },
   {
    "duration": 9,
    "start_time": "2023-09-05T20:56:14.463Z"
   },
   {
    "duration": 9,
    "start_time": "2023-09-05T20:58:25.850Z"
   },
   {
    "duration": 8,
    "start_time": "2023-09-05T20:58:34.836Z"
   },
   {
    "duration": 81,
    "start_time": "2023-09-05T20:58:43.027Z"
   },
   {
    "duration": 9,
    "start_time": "2023-09-05T20:58:46.828Z"
   },
   {
    "duration": 10,
    "start_time": "2023-09-05T20:58:59.239Z"
   },
   {
    "duration": 8,
    "start_time": "2023-09-05T20:59:09.693Z"
   },
   {
    "duration": 3,
    "start_time": "2023-09-05T20:59:24.847Z"
   },
   {
    "duration": 56,
    "start_time": "2023-09-05T20:59:24.852Z"
   },
   {
    "duration": 42,
    "start_time": "2023-09-05T20:59:24.910Z"
   },
   {
    "duration": 27,
    "start_time": "2023-09-05T20:59:24.954Z"
   },
   {
    "duration": 32,
    "start_time": "2023-09-05T20:59:24.983Z"
   },
   {
    "duration": 56,
    "start_time": "2023-09-05T20:59:25.017Z"
   },
   {
    "duration": 11,
    "start_time": "2023-09-05T20:59:25.075Z"
   },
   {
    "duration": 170,
    "start_time": "2023-09-05T20:59:25.088Z"
   },
   {
    "duration": 143,
    "start_time": "2023-09-05T20:59:25.259Z"
   },
   {
    "duration": 176,
    "start_time": "2023-09-05T20:59:25.404Z"
   },
   {
    "duration": 328,
    "start_time": "2023-09-05T20:59:25.582Z"
   },
   {
    "duration": 405,
    "start_time": "2023-09-05T20:59:25.912Z"
   },
   {
    "duration": 29,
    "start_time": "2023-09-05T20:59:26.319Z"
   },
   {
    "duration": 53,
    "start_time": "2023-09-05T20:59:26.350Z"
   },
   {
    "duration": 25,
    "start_time": "2023-09-05T20:59:26.405Z"
   },
   {
    "duration": 26,
    "start_time": "2023-09-05T20:59:26.432Z"
   },
   {
    "duration": 650,
    "start_time": "2023-09-05T20:59:26.460Z"
   },
   {
    "duration": 960,
    "start_time": "2023-09-05T20:59:27.111Z"
   },
   {
    "duration": 15,
    "start_time": "2023-09-05T20:59:28.073Z"
   },
   {
    "duration": 28,
    "start_time": "2023-09-05T20:59:28.089Z"
   },
   {
    "duration": 10,
    "start_time": "2023-09-05T21:00:03.095Z"
   },
   {
    "duration": 94,
    "start_time": "2023-09-05T21:00:25.327Z"
   },
   {
    "duration": 2,
    "start_time": "2023-09-05T21:00:33.766Z"
   },
   {
    "duration": 66,
    "start_time": "2023-09-05T21:00:33.771Z"
   },
   {
    "duration": 42,
    "start_time": "2023-09-05T21:00:33.838Z"
   },
   {
    "duration": 29,
    "start_time": "2023-09-05T21:00:33.882Z"
   },
   {
    "duration": 18,
    "start_time": "2023-09-05T21:00:33.914Z"
   },
   {
    "duration": 32,
    "start_time": "2023-09-05T21:00:33.933Z"
   },
   {
    "duration": 47,
    "start_time": "2023-09-05T21:00:33.966Z"
   },
   {
    "duration": 245,
    "start_time": "2023-09-05T21:00:34.015Z"
   },
   {
    "duration": 148,
    "start_time": "2023-09-05T21:00:34.262Z"
   },
   {
    "duration": 178,
    "start_time": "2023-09-05T21:00:34.411Z"
   },
   {
    "duration": 380,
    "start_time": "2023-09-05T21:00:34.590Z"
   },
   {
    "duration": 424,
    "start_time": "2023-09-05T21:00:34.972Z"
   },
   {
    "duration": 28,
    "start_time": "2023-09-05T21:00:35.402Z"
   },
   {
    "duration": 44,
    "start_time": "2023-09-05T21:00:35.432Z"
   },
   {
    "duration": 85,
    "start_time": "2023-09-05T21:00:35.478Z"
   },
   {
    "duration": 38,
    "start_time": "2023-09-05T21:00:35.565Z"
   },
   {
    "duration": 641,
    "start_time": "2023-09-05T21:00:35.605Z"
   },
   {
    "duration": 1009,
    "start_time": "2023-09-05T21:00:36.248Z"
   },
   {
    "duration": 88,
    "start_time": "2023-09-05T21:00:37.259Z"
   },
   {
    "duration": 0,
    "start_time": "2023-09-05T21:00:37.349Z"
   },
   {
    "duration": 14,
    "start_time": "2023-09-05T21:00:51.712Z"
   },
   {
    "duration": 17,
    "start_time": "2023-09-05T21:01:15.431Z"
   },
   {
    "duration": 19,
    "start_time": "2023-09-05T21:01:55.778Z"
   },
   {
    "duration": 3,
    "start_time": "2023-09-05T21:01:58.318Z"
   },
   {
    "duration": 53,
    "start_time": "2023-09-05T21:01:58.324Z"
   },
   {
    "duration": 44,
    "start_time": "2023-09-05T21:01:58.379Z"
   },
   {
    "duration": 67,
    "start_time": "2023-09-05T21:01:58.425Z"
   },
   {
    "duration": 104,
    "start_time": "2023-09-05T21:01:58.493Z"
   },
   {
    "duration": 41,
    "start_time": "2023-09-05T21:01:58.599Z"
   },
   {
    "duration": 39,
    "start_time": "2023-09-05T21:01:58.642Z"
   },
   {
    "duration": 172,
    "start_time": "2023-09-05T21:01:58.683Z"
   },
   {
    "duration": 137,
    "start_time": "2023-09-05T21:01:58.856Z"
   },
   {
    "duration": 171,
    "start_time": "2023-09-05T21:01:59.002Z"
   },
   {
    "duration": 329,
    "start_time": "2023-09-05T21:01:59.174Z"
   },
   {
    "duration": 340,
    "start_time": "2023-09-05T21:01:59.505Z"
   },
   {
    "duration": 31,
    "start_time": "2023-09-05T21:01:59.846Z"
   },
   {
    "duration": 51,
    "start_time": "2023-09-05T21:01:59.878Z"
   },
   {
    "duration": 26,
    "start_time": "2023-09-05T21:01:59.931Z"
   },
   {
    "duration": 55,
    "start_time": "2023-09-05T21:01:59.959Z"
   },
   {
    "duration": 725,
    "start_time": "2023-09-05T21:02:00.016Z"
   },
   {
    "duration": 1025,
    "start_time": "2023-09-05T21:02:00.743Z"
   },
   {
    "duration": 30,
    "start_time": "2023-09-05T21:02:01.771Z"
   },
   {
    "duration": 0,
    "start_time": "2023-09-05T21:02:01.803Z"
   },
   {
    "duration": 22,
    "start_time": "2023-09-05T21:03:10.330Z"
   },
   {
    "duration": 77,
    "start_time": "2023-09-05T21:03:14.341Z"
   },
   {
    "duration": 72,
    "start_time": "2023-09-05T21:03:17.415Z"
   },
   {
    "duration": 23,
    "start_time": "2023-09-05T21:03:19.513Z"
   },
   {
    "duration": 20,
    "start_time": "2023-09-05T21:03:29.007Z"
   },
   {
    "duration": 24,
    "start_time": "2023-09-05T21:05:32.188Z"
   },
   {
    "duration": 28,
    "start_time": "2023-09-05T21:06:39.868Z"
   },
   {
    "duration": 30,
    "start_time": "2023-09-05T21:06:46.266Z"
   },
   {
    "duration": 28,
    "start_time": "2023-09-05T21:11:05.770Z"
   },
   {
    "duration": 1370,
    "start_time": "2023-09-05T21:12:59.634Z"
   },
   {
    "duration": 326,
    "start_time": "2023-09-05T21:13:10.446Z"
   },
   {
    "duration": 317,
    "start_time": "2023-09-05T21:13:26.972Z"
   },
   {
    "duration": 10,
    "start_time": "2023-09-05T21:13:35.869Z"
   },
   {
    "duration": 9,
    "start_time": "2023-09-05T21:13:39.675Z"
   },
   {
    "duration": 13,
    "start_time": "2023-09-05T21:13:51.270Z"
   },
   {
    "duration": 1735,
    "start_time": "2023-09-05T21:14:11.278Z"
   },
   {
    "duration": 312,
    "start_time": "2023-09-05T21:14:30.648Z"
   },
   {
    "duration": 307,
    "start_time": "2023-09-05T21:14:39.646Z"
   },
   {
    "duration": 5,
    "start_time": "2023-09-05T21:14:49.397Z"
   },
   {
    "duration": 9,
    "start_time": "2023-09-05T21:14:54.035Z"
   },
   {
    "duration": 9,
    "start_time": "2023-09-05T21:15:27.036Z"
   },
   {
    "duration": 7,
    "start_time": "2023-09-05T21:15:37.961Z"
   },
   {
    "duration": 8,
    "start_time": "2023-09-05T21:15:41.872Z"
   },
   {
    "duration": 12,
    "start_time": "2023-09-05T21:15:49.446Z"
   },
   {
    "duration": 8,
    "start_time": "2023-09-05T21:15:55.729Z"
   },
   {
    "duration": 13,
    "start_time": "2023-09-05T21:16:09.549Z"
   },
   {
    "duration": 11,
    "start_time": "2023-09-05T21:16:17.132Z"
   },
   {
    "duration": 9,
    "start_time": "2023-09-05T21:17:03.630Z"
   },
   {
    "duration": 78,
    "start_time": "2023-09-05T21:17:06.568Z"
   },
   {
    "duration": 5,
    "start_time": "2023-09-05T21:17:09.482Z"
   },
   {
    "duration": 7,
    "start_time": "2023-09-05T21:17:14.671Z"
   },
   {
    "duration": 5,
    "start_time": "2023-09-05T21:17:18.828Z"
   },
   {
    "duration": 5,
    "start_time": "2023-09-05T21:17:23.367Z"
   },
   {
    "duration": 75,
    "start_time": "2023-09-05T21:18:03.072Z"
   },
   {
    "duration": 5,
    "start_time": "2023-09-05T21:18:09.475Z"
   },
   {
    "duration": 5,
    "start_time": "2023-09-05T21:18:13.916Z"
   },
   {
    "duration": 4,
    "start_time": "2023-09-05T21:18:16.020Z"
   },
   {
    "duration": 102,
    "start_time": "2023-09-05T21:18:18.975Z"
   },
   {
    "duration": 4,
    "start_time": "2023-09-05T21:18:22.671Z"
   },
   {
    "duration": 9,
    "start_time": "2023-09-05T21:18:27.046Z"
   },
   {
    "duration": 92,
    "start_time": "2023-09-05T21:18:32.814Z"
   },
   {
    "duration": 90,
    "start_time": "2023-09-05T21:18:34.918Z"
   },
   {
    "duration": 4,
    "start_time": "2023-09-05T21:18:38.309Z"
   },
   {
    "duration": 9,
    "start_time": "2023-09-05T21:18:42.509Z"
   },
   {
    "duration": 4,
    "start_time": "2023-09-05T21:18:48.943Z"
   },
   {
    "duration": 3,
    "start_time": "2023-09-05T21:18:58.956Z"
   },
   {
    "duration": 101,
    "start_time": "2023-09-05T21:19:10.082Z"
   },
   {
    "duration": 83,
    "start_time": "2023-09-05T21:19:13.066Z"
   },
   {
    "duration": 79,
    "start_time": "2023-09-05T21:19:16.521Z"
   },
   {
    "duration": 6,
    "start_time": "2023-09-05T21:19:46.510Z"
   },
   {
    "duration": 5,
    "start_time": "2023-09-05T21:19:53.474Z"
   },
   {
    "duration": 4,
    "start_time": "2023-09-05T21:19:56.211Z"
   },
   {
    "duration": 4,
    "start_time": "2023-09-05T21:19:57.972Z"
   },
   {
    "duration": 5,
    "start_time": "2023-09-05T21:20:00.148Z"
   },
   {
    "duration": 6,
    "start_time": "2023-09-05T21:20:30.166Z"
   },
   {
    "duration": 4,
    "start_time": "2023-09-05T21:20:33.013Z"
   },
   {
    "duration": 6,
    "start_time": "2023-09-05T21:20:36.586Z"
   },
   {
    "duration": 4,
    "start_time": "2023-09-05T21:20:38.983Z"
   },
   {
    "duration": 5,
    "start_time": "2023-09-05T21:20:45.144Z"
   },
   {
    "duration": 10,
    "start_time": "2023-09-05T21:20:49.689Z"
   },
   {
    "duration": 5,
    "start_time": "2023-09-05T21:20:52.785Z"
   },
   {
    "duration": 82,
    "start_time": "2023-09-05T21:20:58.007Z"
   },
   {
    "duration": 5,
    "start_time": "2023-09-05T21:21:00.262Z"
   },
   {
    "duration": 5,
    "start_time": "2023-09-05T21:21:02.743Z"
   },
   {
    "duration": 5,
    "start_time": "2023-09-05T21:21:06.835Z"
   },
   {
    "duration": 6,
    "start_time": "2023-09-05T21:21:14.502Z"
   },
   {
    "duration": 8,
    "start_time": "2023-09-05T21:21:31.934Z"
   },
   {
    "duration": 4,
    "start_time": "2023-09-05T21:21:34.918Z"
   },
   {
    "duration": 14,
    "start_time": "2023-09-05T21:21:39.472Z"
   },
   {
    "duration": 6,
    "start_time": "2023-09-05T21:21:44.002Z"
   },
   {
    "duration": 1369,
    "start_time": "2023-09-05T21:22:00.626Z"
   },
   {
    "duration": 1407,
    "start_time": "2023-09-05T21:24:12.642Z"
   },
   {
    "duration": 5,
    "start_time": "2023-09-05T21:24:17.182Z"
   },
   {
    "duration": 5,
    "start_time": "2023-09-05T21:24:49.109Z"
   },
   {
    "duration": 4,
    "start_time": "2023-09-05T21:24:52.980Z"
   },
   {
    "duration": 4,
    "start_time": "2023-09-05T21:24:57.064Z"
   },
   {
    "duration": 5,
    "start_time": "2023-09-05T21:25:00.699Z"
   },
   {
    "duration": 5,
    "start_time": "2023-09-05T21:25:21.125Z"
   },
   {
    "duration": 6,
    "start_time": "2023-09-05T21:25:26.040Z"
   },
   {
    "duration": 5,
    "start_time": "2023-09-05T21:25:34.446Z"
   },
   {
    "duration": 10,
    "start_time": "2023-09-05T21:25:39.967Z"
   },
   {
    "duration": 5,
    "start_time": "2023-09-05T21:25:43.847Z"
   },
   {
    "duration": 314,
    "start_time": "2023-09-05T21:26:14.166Z"
   },
   {
    "duration": 379,
    "start_time": "2023-09-05T21:26:20.567Z"
   },
   {
    "duration": 634,
    "start_time": "2023-09-05T21:26:40.692Z"
   },
   {
    "duration": 5,
    "start_time": "2023-09-05T21:39:35.771Z"
   },
   {
    "duration": 6,
    "start_time": "2023-09-05T21:39:48.079Z"
   },
   {
    "duration": 7,
    "start_time": "2023-09-05T21:40:04.772Z"
   },
   {
    "duration": 9,
    "start_time": "2023-09-05T21:40:23.600Z"
   },
   {
    "duration": 8,
    "start_time": "2023-09-05T21:40:34.495Z"
   },
   {
    "duration": 8,
    "start_time": "2023-09-05T21:40:37.998Z"
   },
   {
    "duration": 5,
    "start_time": "2023-09-05T21:41:03.767Z"
   },
   {
    "duration": 4,
    "start_time": "2023-09-05T21:41:32.331Z"
   },
   {
    "duration": 11,
    "start_time": "2023-09-05T21:41:39.319Z"
   },
   {
    "duration": 684,
    "start_time": "2023-09-05T21:42:45.023Z"
   },
   {
    "duration": 690,
    "start_time": "2023-09-05T21:42:54.845Z"
   },
   {
    "duration": 97,
    "start_time": "2023-09-05T21:44:39.514Z"
   },
   {
    "duration": 636,
    "start_time": "2023-09-05T21:44:49.548Z"
   },
   {
    "duration": 8,
    "start_time": "2023-09-05T21:44:55.242Z"
   },
   {
    "duration": 10,
    "start_time": "2023-09-05T21:45:01.533Z"
   },
   {
    "duration": 9,
    "start_time": "2023-09-05T21:45:13.076Z"
   },
   {
    "duration": 78,
    "start_time": "2023-09-05T21:45:22.505Z"
   },
   {
    "duration": 10,
    "start_time": "2023-09-05T21:45:25.290Z"
   },
   {
    "duration": 9,
    "start_time": "2023-09-05T21:45:27.041Z"
   },
   {
    "duration": 9,
    "start_time": "2023-09-05T21:45:30.399Z"
   },
   {
    "duration": 10,
    "start_time": "2023-09-05T21:45:34.099Z"
   },
   {
    "duration": 4,
    "start_time": "2023-09-05T21:46:14.020Z"
   },
   {
    "duration": 1265,
    "start_time": "2023-09-05T21:46:43.364Z"
   },
   {
    "duration": 1541,
    "start_time": "2023-09-05T21:46:50.620Z"
   },
   {
    "duration": 680,
    "start_time": "2023-09-05T21:47:43.105Z"
   },
   {
    "duration": 352,
    "start_time": "2023-09-05T21:48:07.746Z"
   },
   {
    "duration": 249,
    "start_time": "2023-09-05T21:48:25.183Z"
   },
   {
    "duration": 241,
    "start_time": "2023-09-05T21:48:33.229Z"
   },
   {
    "duration": 12,
    "start_time": "2023-09-05T21:53:10.364Z"
   },
   {
    "duration": 1636,
    "start_time": "2023-09-05T21:53:21.477Z"
   },
   {
    "duration": 1596,
    "start_time": "2023-09-05T21:53:32.373Z"
   },
   {
    "duration": 3525,
    "start_time": "2023-09-05T21:54:56.386Z"
   },
   {
    "duration": 3581,
    "start_time": "2023-09-05T21:55:17.826Z"
   },
   {
    "duration": 667,
    "start_time": "2023-09-05T21:56:14.999Z"
   },
   {
    "duration": 49,
    "start_time": "2023-09-05T21:56:15.668Z"
   },
   {
    "duration": 45,
    "start_time": "2023-09-05T21:56:15.719Z"
   },
   {
    "duration": 28,
    "start_time": "2023-09-05T21:56:15.766Z"
   },
   {
    "duration": 19,
    "start_time": "2023-09-05T21:56:15.802Z"
   },
   {
    "duration": 15,
    "start_time": "2023-09-05T21:56:15.822Z"
   },
   {
    "duration": 10,
    "start_time": "2023-09-05T21:56:15.839Z"
   },
   {
    "duration": 199,
    "start_time": "2023-09-05T21:56:15.851Z"
   },
   {
    "duration": 143,
    "start_time": "2023-09-05T21:56:16.051Z"
   },
   {
    "duration": 178,
    "start_time": "2023-09-05T21:56:16.196Z"
   },
   {
    "duration": 409,
    "start_time": "2023-09-05T21:56:16.376Z"
   },
   {
    "duration": 349,
    "start_time": "2023-09-05T21:56:16.786Z"
   },
   {
    "duration": 27,
    "start_time": "2023-09-05T21:56:17.137Z"
   },
   {
    "duration": 50,
    "start_time": "2023-09-05T21:56:17.166Z"
   },
   {
    "duration": 26,
    "start_time": "2023-09-05T21:56:17.217Z"
   },
   {
    "duration": 24,
    "start_time": "2023-09-05T21:56:17.245Z"
   },
   {
    "duration": 672,
    "start_time": "2023-09-05T21:56:17.270Z"
   },
   {
    "duration": 1017,
    "start_time": "2023-09-05T21:56:17.944Z"
   },
   {
    "duration": 26,
    "start_time": "2023-09-05T21:56:18.963Z"
   },
   {
    "duration": 1905,
    "start_time": "2023-09-05T21:56:18.990Z"
   },
   {
    "duration": 0,
    "start_time": "2023-09-05T21:56:20.897Z"
   },
   {
    "duration": 3491,
    "start_time": "2023-09-05T21:56:55.490Z"
   },
   {
    "duration": 5,
    "start_time": "2023-09-05T21:59:52.973Z"
   },
   {
    "duration": 20,
    "start_time": "2023-09-05T22:00:00.263Z"
   },
   {
    "duration": 1962,
    "start_time": "2023-09-05T22:00:38.582Z"
   },
   {
    "duration": 14,
    "start_time": "2023-09-05T22:00:50.441Z"
   },
   {
    "duration": 19,
    "start_time": "2023-09-05T22:01:21.432Z"
   },
   {
    "duration": 6,
    "start_time": "2023-09-05T22:01:42.216Z"
   },
   {
    "duration": 3682,
    "start_time": "2023-09-05T22:02:00.348Z"
   },
   {
    "duration": 8,
    "start_time": "2023-09-05T22:02:08.593Z"
   },
   {
    "duration": 18,
    "start_time": "2023-09-05T22:02:10.218Z"
   },
   {
    "duration": 667,
    "start_time": "2023-09-05T22:02:26.491Z"
   },
   {
    "duration": 45,
    "start_time": "2023-09-05T22:02:27.161Z"
   },
   {
    "duration": 42,
    "start_time": "2023-09-05T22:02:27.208Z"
   },
   {
    "duration": 34,
    "start_time": "2023-09-05T22:02:27.252Z"
   },
   {
    "duration": 34,
    "start_time": "2023-09-05T22:02:27.288Z"
   },
   {
    "duration": 17,
    "start_time": "2023-09-05T22:02:27.323Z"
   },
   {
    "duration": 12,
    "start_time": "2023-09-05T22:02:27.342Z"
   },
   {
    "duration": 187,
    "start_time": "2023-09-05T22:02:27.356Z"
   },
   {
    "duration": 142,
    "start_time": "2023-09-05T22:02:27.544Z"
   },
   {
    "duration": 171,
    "start_time": "2023-09-05T22:02:27.689Z"
   },
   {
    "duration": 377,
    "start_time": "2023-09-05T22:02:27.861Z"
   },
   {
    "duration": 352,
    "start_time": "2023-09-05T22:02:28.240Z"
   },
   {
    "duration": 34,
    "start_time": "2023-09-05T22:02:28.593Z"
   },
   {
    "duration": 33,
    "start_time": "2023-09-05T22:02:28.629Z"
   },
   {
    "duration": 58,
    "start_time": "2023-09-05T22:02:28.663Z"
   },
   {
    "duration": 27,
    "start_time": "2023-09-05T22:02:28.722Z"
   },
   {
    "duration": 633,
    "start_time": "2023-09-05T22:02:28.750Z"
   },
   {
    "duration": 959,
    "start_time": "2023-09-05T22:02:29.385Z"
   },
   {
    "duration": 27,
    "start_time": "2023-09-05T22:02:30.345Z"
   },
   {
    "duration": 2778,
    "start_time": "2023-09-05T22:02:30.374Z"
   },
   {
    "duration": 0,
    "start_time": "2023-09-05T22:02:33.155Z"
   },
   {
    "duration": 3518,
    "start_time": "2023-09-05T22:02:41.121Z"
   },
   {
    "duration": 3692,
    "start_time": "2023-09-05T22:10:25.436Z"
   },
   {
    "duration": 833,
    "start_time": "2023-09-06T18:56:36.142Z"
   },
   {
    "duration": 112,
    "start_time": "2023-09-06T18:56:36.978Z"
   },
   {
    "duration": 88,
    "start_time": "2023-09-06T18:56:37.092Z"
   },
   {
    "duration": 70,
    "start_time": "2023-09-06T18:56:37.181Z"
   },
   {
    "duration": 18,
    "start_time": "2023-09-06T18:56:37.253Z"
   },
   {
    "duration": 59,
    "start_time": "2023-09-06T18:56:37.273Z"
   },
   {
    "duration": 132,
    "start_time": "2023-09-06T18:56:37.334Z"
   },
   {
    "duration": 256,
    "start_time": "2023-09-06T18:56:37.468Z"
   },
   {
    "duration": 199,
    "start_time": "2023-09-06T18:56:37.726Z"
   },
   {
    "duration": 186,
    "start_time": "2023-09-06T18:56:37.928Z"
   },
   {
    "duration": 475,
    "start_time": "2023-09-06T18:56:38.115Z"
   },
   {
    "duration": 368,
    "start_time": "2023-09-06T18:56:38.592Z"
   },
   {
    "duration": 31,
    "start_time": "2023-09-06T18:56:38.962Z"
   },
   {
    "duration": 46,
    "start_time": "2023-09-06T18:56:38.994Z"
   },
   {
    "duration": 30,
    "start_time": "2023-09-06T18:56:39.042Z"
   },
   {
    "duration": 63,
    "start_time": "2023-09-06T18:56:39.074Z"
   },
   {
    "duration": 693,
    "start_time": "2023-09-06T18:56:39.140Z"
   },
   {
    "duration": 1005,
    "start_time": "2023-09-06T18:56:39.836Z"
   },
   {
    "duration": 29,
    "start_time": "2023-09-06T18:56:40.843Z"
   },
   {
    "duration": 3608,
    "start_time": "2023-09-06T18:56:40.873Z"
   },
   {
    "duration": 13,
    "start_time": "2023-09-06T18:56:44.483Z"
   },
   {
    "duration": 551,
    "start_time": "2023-09-06T18:56:44.497Z"
   },
   {
    "duration": 7,
    "start_time": "2023-09-06T18:57:50.405Z"
   },
   {
    "duration": 6,
    "start_time": "2023-09-06T18:58:18.652Z"
   },
   {
    "duration": 5,
    "start_time": "2023-09-06T18:58:29.136Z"
   },
   {
    "duration": 7,
    "start_time": "2023-09-06T18:58:49.948Z"
   },
   {
    "duration": 8,
    "start_time": "2023-09-06T18:58:54.111Z"
   },
   {
    "duration": 9,
    "start_time": "2023-09-06T18:59:49.729Z"
   },
   {
    "duration": 10,
    "start_time": "2023-09-06T19:02:52.106Z"
   },
   {
    "duration": 106,
    "start_time": "2023-09-06T19:03:26.118Z"
   },
   {
    "duration": 10,
    "start_time": "2023-09-06T19:03:31.306Z"
   },
   {
    "duration": 14,
    "start_time": "2023-09-06T19:03:39.025Z"
   },
   {
    "duration": 8,
    "start_time": "2023-09-06T19:03:42.004Z"
   },
   {
    "duration": 8,
    "start_time": "2023-09-06T19:08:17.816Z"
   },
   {
    "duration": 6,
    "start_time": "2023-09-06T19:19:03.876Z"
   },
   {
    "duration": 6,
    "start_time": "2023-09-06T19:19:11.127Z"
   },
   {
    "duration": 14,
    "start_time": "2023-09-06T19:24:40.738Z"
   },
   {
    "duration": 12,
    "start_time": "2023-09-06T19:25:00.400Z"
   },
   {
    "duration": 11,
    "start_time": "2023-09-06T19:25:21.124Z"
   },
   {
    "duration": 4,
    "start_time": "2023-09-06T19:25:36.041Z"
   },
   {
    "duration": 5,
    "start_time": "2023-09-06T19:26:06.305Z"
   },
   {
    "duration": 14,
    "start_time": "2023-09-06T19:26:12.772Z"
   },
   {
    "duration": 9,
    "start_time": "2023-09-06T19:26:29.303Z"
   },
   {
    "duration": 6,
    "start_time": "2023-09-06T19:27:15.226Z"
   },
   {
    "duration": 5,
    "start_time": "2023-09-06T19:27:28.429Z"
   },
   {
    "duration": 5,
    "start_time": "2023-09-06T19:27:30.964Z"
   },
   {
    "duration": 4,
    "start_time": "2023-09-06T19:27:35.440Z"
   },
   {
    "duration": 13,
    "start_time": "2023-09-06T19:29:14.374Z"
   },
   {
    "duration": 10,
    "start_time": "2023-09-06T19:29:23.407Z"
   },
   {
    "duration": 16,
    "start_time": "2023-09-06T19:31:40.437Z"
   },
   {
    "duration": 11,
    "start_time": "2023-09-06T19:31:59.734Z"
   },
   {
    "duration": 11,
    "start_time": "2023-09-06T19:32:54.513Z"
   },
   {
    "duration": 10,
    "start_time": "2023-09-06T19:33:20.306Z"
   },
   {
    "duration": 9,
    "start_time": "2023-09-06T19:33:31.802Z"
   },
   {
    "duration": 9,
    "start_time": "2023-09-06T19:33:40.305Z"
   },
   {
    "duration": 6,
    "start_time": "2023-09-06T19:49:42.104Z"
   },
   {
    "duration": 12,
    "start_time": "2023-09-06T19:49:58.596Z"
   },
   {
    "duration": 5,
    "start_time": "2023-09-06T19:50:03.600Z"
   },
   {
    "duration": 9,
    "start_time": "2023-09-06T19:50:20.601Z"
   },
   {
    "duration": 10,
    "start_time": "2023-09-06T19:50:48.739Z"
   },
   {
    "duration": 11,
    "start_time": "2023-09-06T19:51:29.902Z"
   },
   {
    "duration": 9,
    "start_time": "2023-09-06T19:51:36.154Z"
   },
   {
    "duration": 152,
    "start_time": "2023-09-06T19:52:31.698Z"
   },
   {
    "duration": 253,
    "start_time": "2023-09-06T19:52:46.649Z"
   },
   {
    "duration": 233,
    "start_time": "2023-09-06T19:53:18.630Z"
   },
   {
    "duration": 838,
    "start_time": "2023-09-06T19:53:43.753Z"
   },
   {
    "duration": 7,
    "start_time": "2023-09-06T19:55:08.332Z"
   },
   {
    "duration": 7,
    "start_time": "2023-09-06T19:55:15.955Z"
   },
   {
    "duration": 11,
    "start_time": "2023-09-06T19:55:39.310Z"
   },
   {
    "duration": 13,
    "start_time": "2023-09-06T19:57:19.788Z"
   },
   {
    "duration": 17,
    "start_time": "2023-09-06T19:57:23.028Z"
   },
   {
    "duration": 21,
    "start_time": "2023-09-06T19:57:32.611Z"
   },
   {
    "duration": 14,
    "start_time": "2023-09-06T19:57:35.555Z"
   },
   {
    "duration": 12,
    "start_time": "2023-09-06T19:57:38.822Z"
   },
   {
    "duration": 13,
    "start_time": "2023-09-06T19:57:44.300Z"
   },
   {
    "duration": 15,
    "start_time": "2023-09-06T19:57:49.194Z"
   },
   {
    "duration": 12,
    "start_time": "2023-09-06T19:57:53.683Z"
   },
   {
    "duration": 12,
    "start_time": "2023-09-06T19:57:57.754Z"
   },
   {
    "duration": 12,
    "start_time": "2023-09-06T19:58:05.035Z"
   },
   {
    "duration": 16,
    "start_time": "2023-09-06T19:58:07.328Z"
   },
   {
    "duration": 12,
    "start_time": "2023-09-06T19:58:10.742Z"
   },
   {
    "duration": 9,
    "start_time": "2023-09-06T19:58:14.596Z"
   },
   {
    "duration": 790,
    "start_time": "2023-09-06T19:58:53.189Z"
   },
   {
    "duration": 917,
    "start_time": "2023-09-06T19:59:14.699Z"
   },
   {
    "duration": 708,
    "start_time": "2023-09-06T19:59:25.402Z"
   },
   {
    "duration": 904,
    "start_time": "2023-09-06T19:59:38.708Z"
   },
   {
    "duration": 746,
    "start_time": "2023-09-06T19:59:47.621Z"
   },
   {
    "duration": 662,
    "start_time": "2023-09-06T20:05:59.086Z"
   },
   {
    "duration": 144,
    "start_time": "2023-09-06T20:06:56.124Z"
   },
   {
    "duration": 5,
    "start_time": "2023-09-06T20:09:47.982Z"
   },
   {
    "duration": 4,
    "start_time": "2023-09-06T20:09:52.195Z"
   },
   {
    "duration": 4,
    "start_time": "2023-09-06T20:09:55.527Z"
   },
   {
    "duration": 6,
    "start_time": "2023-09-06T20:09:59.033Z"
   },
   {
    "duration": 5,
    "start_time": "2023-09-06T20:10:03.303Z"
   },
   {
    "duration": 4,
    "start_time": "2023-09-06T20:12:18.185Z"
   },
   {
    "duration": 49,
    "start_time": "2023-09-06T20:14:29.601Z"
   },
   {
    "duration": 5,
    "start_time": "2023-09-06T20:16:31.598Z"
   },
   {
    "duration": 696,
    "start_time": "2023-09-06T20:16:47.972Z"
   },
   {
    "duration": 64,
    "start_time": "2023-09-06T20:16:48.670Z"
   },
   {
    "duration": 55,
    "start_time": "2023-09-06T20:16:48.736Z"
   },
   {
    "duration": 38,
    "start_time": "2023-09-06T20:16:48.793Z"
   },
   {
    "duration": 19,
    "start_time": "2023-09-06T20:16:48.833Z"
   },
   {
    "duration": 19,
    "start_time": "2023-09-06T20:16:48.853Z"
   },
   {
    "duration": 11,
    "start_time": "2023-09-06T20:16:48.874Z"
   },
   {
    "duration": 191,
    "start_time": "2023-09-06T20:16:48.910Z"
   },
   {
    "duration": 156,
    "start_time": "2023-09-06T20:16:49.111Z"
   },
   {
    "duration": 198,
    "start_time": "2023-09-06T20:16:49.270Z"
   },
   {
    "duration": 421,
    "start_time": "2023-09-06T20:16:49.470Z"
   },
   {
    "duration": 393,
    "start_time": "2023-09-06T20:16:49.892Z"
   },
   {
    "duration": 50,
    "start_time": "2023-09-06T20:16:50.287Z"
   },
   {
    "duration": 33,
    "start_time": "2023-09-06T20:16:50.339Z"
   },
   {
    "duration": 58,
    "start_time": "2023-09-06T20:16:50.374Z"
   },
   {
    "duration": 29,
    "start_time": "2023-09-06T20:16:50.434Z"
   },
   {
    "duration": 714,
    "start_time": "2023-09-06T20:16:50.465Z"
   },
   {
    "duration": 1072,
    "start_time": "2023-09-06T20:16:51.181Z"
   },
   {
    "duration": 29,
    "start_time": "2023-09-06T20:16:52.255Z"
   },
   {
    "duration": 3868,
    "start_time": "2023-09-06T20:16:52.286Z"
   },
   {
    "duration": 15,
    "start_time": "2023-09-06T20:16:56.156Z"
   },
   {
    "duration": 15,
    "start_time": "2023-09-06T20:16:56.172Z"
   },
   {
    "duration": 15,
    "start_time": "2023-09-06T20:16:56.188Z"
   },
   {
    "duration": 553,
    "start_time": "2023-09-06T20:16:56.210Z"
   },
   {
    "duration": 6,
    "start_time": "2023-09-06T20:16:56.765Z"
   },
   {
    "duration": 27,
    "start_time": "2023-09-06T20:16:56.772Z"
   },
   {
    "duration": 810,
    "start_time": "2023-09-06T20:16:56.801Z"
   },
   {
    "duration": 673,
    "start_time": "2023-09-06T20:16:57.621Z"
   },
   {
    "duration": 269,
    "start_time": "2023-09-06T20:16:58.296Z"
   },
   {
    "duration": 121,
    "start_time": "2023-09-06T20:16:58.567Z"
   },
   {
    "duration": 5,
    "start_time": "2023-09-06T20:17:21.055Z"
   },
   {
    "duration": 5,
    "start_time": "2023-09-06T20:17:53.397Z"
   },
   {
    "duration": 4,
    "start_time": "2023-09-06T20:18:03.088Z"
   },
   {
    "duration": 4,
    "start_time": "2023-09-06T20:18:11.967Z"
   },
   {
    "duration": 5,
    "start_time": "2023-09-06T20:18:20.402Z"
   },
   {
    "duration": 21,
    "start_time": "2023-09-06T20:18:35.004Z"
   },
   {
    "duration": 8,
    "start_time": "2023-09-06T20:18:45.839Z"
   },
   {
    "duration": 8,
    "start_time": "2023-09-06T20:18:51.835Z"
   },
   {
    "duration": 7,
    "start_time": "2023-09-06T20:18:57.551Z"
   },
   {
    "duration": 7,
    "start_time": "2023-09-06T20:18:59.759Z"
   },
   {
    "duration": 8,
    "start_time": "2023-09-06T20:19:10.959Z"
   },
   {
    "duration": 4,
    "start_time": "2023-09-06T20:19:28.520Z"
   },
   {
    "duration": 439,
    "start_time": "2023-09-06T20:19:31.420Z"
   },
   {
    "duration": 381,
    "start_time": "2023-09-06T20:19:48.059Z"
   },
   {
    "duration": 136,
    "start_time": "2023-09-06T20:19:53.149Z"
   },
   {
    "duration": 11,
    "start_time": "2023-09-06T20:22:27.988Z"
   },
   {
    "duration": 15,
    "start_time": "2023-09-06T20:23:00.852Z"
   },
   {
    "duration": 153,
    "start_time": "2023-09-06T20:23:10.748Z"
   },
   {
    "duration": 163,
    "start_time": "2023-09-06T20:23:15.000Z"
   },
   {
    "duration": 188,
    "start_time": "2023-09-06T20:23:23.504Z"
   },
   {
    "duration": 164,
    "start_time": "2023-09-06T20:24:03.885Z"
   },
   {
    "duration": 176,
    "start_time": "2023-09-06T20:24:38.381Z"
   },
   {
    "duration": 50,
    "start_time": "2023-09-06T20:25:20.450Z"
   },
   {
    "duration": 711,
    "start_time": "2023-09-06T20:25:25.565Z"
   },
   {
    "duration": 62,
    "start_time": "2023-09-06T20:25:26.278Z"
   },
   {
    "duration": 46,
    "start_time": "2023-09-06T20:25:26.341Z"
   },
   {
    "duration": 39,
    "start_time": "2023-09-06T20:25:26.389Z"
   },
   {
    "duration": 26,
    "start_time": "2023-09-06T20:25:26.432Z"
   },
   {
    "duration": 20,
    "start_time": "2023-09-06T20:25:26.460Z"
   },
   {
    "duration": 47,
    "start_time": "2023-09-06T20:25:26.481Z"
   },
   {
    "duration": 226,
    "start_time": "2023-09-06T20:25:26.531Z"
   },
   {
    "duration": 180,
    "start_time": "2023-09-06T20:25:26.759Z"
   },
   {
    "duration": 208,
    "start_time": "2023-09-06T20:25:26.941Z"
   },
   {
    "duration": 470,
    "start_time": "2023-09-06T20:25:27.150Z"
   },
   {
    "duration": 428,
    "start_time": "2023-09-06T20:25:27.623Z"
   },
   {
    "duration": 32,
    "start_time": "2023-09-06T20:25:28.053Z"
   },
   {
    "duration": 60,
    "start_time": "2023-09-06T20:25:28.088Z"
   },
   {
    "duration": 28,
    "start_time": "2023-09-06T20:25:28.150Z"
   },
   {
    "duration": 63,
    "start_time": "2023-09-06T20:25:28.180Z"
   },
   {
    "duration": 845,
    "start_time": "2023-09-06T20:25:28.244Z"
   },
   {
    "duration": 1178,
    "start_time": "2023-09-06T20:25:29.091Z"
   },
   {
    "duration": 42,
    "start_time": "2023-09-06T20:25:30.271Z"
   },
   {
    "duration": 4152,
    "start_time": "2023-09-06T20:25:30.315Z"
   },
   {
    "duration": 13,
    "start_time": "2023-09-06T20:25:34.468Z"
   },
   {
    "duration": 49,
    "start_time": "2023-09-06T20:25:34.483Z"
   },
   {
    "duration": 5,
    "start_time": "2023-09-06T20:25:34.535Z"
   },
   {
    "duration": 555,
    "start_time": "2023-09-06T20:25:34.541Z"
   },
   {
    "duration": 10,
    "start_time": "2023-09-06T20:25:35.098Z"
   },
   {
    "duration": 24,
    "start_time": "2023-09-06T20:25:35.116Z"
   },
   {
    "duration": 843,
    "start_time": "2023-09-06T20:25:35.142Z"
   },
   {
    "duration": 687,
    "start_time": "2023-09-06T20:25:35.987Z"
   },
   {
    "duration": 284,
    "start_time": "2023-09-06T20:25:36.675Z"
   },
   {
    "duration": 180,
    "start_time": "2023-09-06T20:25:36.961Z"
   },
   {
    "duration": 245,
    "start_time": "2023-09-06T20:25:37.143Z"
   },
   {
    "duration": 439,
    "start_time": "2023-09-06T20:26:46.094Z"
   },
   {
    "duration": 381,
    "start_time": "2023-09-06T20:26:51.095Z"
   },
   {
    "duration": 309,
    "start_time": "2023-09-06T20:27:09.834Z"
   },
   {
    "duration": 454,
    "start_time": "2023-09-06T20:27:29.702Z"
   },
   {
    "duration": 1457,
    "start_time": "2023-09-06T20:27:33.523Z"
   },
   {
    "duration": 2143,
    "start_time": "2023-09-06T20:27:57.084Z"
   },
   {
    "duration": 3374,
    "start_time": "2023-09-06T20:28:07.328Z"
   },
   {
    "duration": 3536,
    "start_time": "2023-09-06T20:28:25.801Z"
   },
   {
    "duration": 3689,
    "start_time": "2023-09-06T20:29:03.092Z"
   },
   {
    "duration": 3613,
    "start_time": "2023-09-06T20:30:42.374Z"
   },
   {
    "duration": 3931,
    "start_time": "2023-09-06T20:30:55.285Z"
   },
   {
    "duration": 3341,
    "start_time": "2023-09-06T20:31:46.508Z"
   },
   {
    "duration": 3434,
    "start_time": "2023-09-06T20:31:53.757Z"
   },
   {
    "duration": 3361,
    "start_time": "2023-09-06T20:32:04.996Z"
   },
   {
    "duration": 3410,
    "start_time": "2023-09-06T20:32:19.286Z"
   },
   {
    "duration": 6,
    "start_time": "2023-09-06T20:35:46.000Z"
   },
   {
    "duration": 5,
    "start_time": "2023-09-06T20:36:57.580Z"
   },
   {
    "duration": 5,
    "start_time": "2023-09-06T20:37:05.373Z"
   },
   {
    "duration": 6,
    "start_time": "2023-09-06T20:37:21.096Z"
   },
   {
    "duration": 5,
    "start_time": "2023-09-06T20:37:27.343Z"
   },
   {
    "duration": 5,
    "start_time": "2023-09-06T20:37:38.432Z"
   },
   {
    "duration": 3537,
    "start_time": "2023-09-06T20:38:29.041Z"
   },
   {
    "duration": 3485,
    "start_time": "2023-09-06T20:39:07.732Z"
   },
   {
    "duration": 3720,
    "start_time": "2023-09-06T20:39:23.348Z"
   },
   {
    "duration": 3557,
    "start_time": "2023-09-06T20:39:43.995Z"
   },
   {
    "duration": 903,
    "start_time": "2023-09-06T20:44:48.992Z"
   },
   {
    "duration": 88,
    "start_time": "2023-09-06T20:44:49.896Z"
   },
   {
    "duration": 83,
    "start_time": "2023-09-06T20:44:49.985Z"
   },
   {
    "duration": 30,
    "start_time": "2023-09-06T20:44:50.071Z"
   },
   {
    "duration": 45,
    "start_time": "2023-09-06T20:44:50.102Z"
   },
   {
    "duration": 28,
    "start_time": "2023-09-06T20:44:50.149Z"
   },
   {
    "duration": 14,
    "start_time": "2023-09-06T20:44:50.179Z"
   },
   {
    "duration": 283,
    "start_time": "2023-09-06T20:44:50.195Z"
   },
   {
    "duration": 204,
    "start_time": "2023-09-06T20:44:50.480Z"
   },
   {
    "duration": 276,
    "start_time": "2023-09-06T20:44:50.688Z"
   },
   {
    "duration": 613,
    "start_time": "2023-09-06T20:44:50.971Z"
   },
   {
    "duration": 521,
    "start_time": "2023-09-06T20:44:51.586Z"
   },
   {
    "duration": 63,
    "start_time": "2023-09-06T20:44:52.108Z"
   },
   {
    "duration": 81,
    "start_time": "2023-09-06T20:44:52.173Z"
   },
   {
    "duration": 34,
    "start_time": "2023-09-06T20:44:52.257Z"
   },
   {
    "duration": 51,
    "start_time": "2023-09-06T20:44:52.293Z"
   },
   {
    "duration": 970,
    "start_time": "2023-09-06T20:44:52.346Z"
   },
   {
    "duration": 1352,
    "start_time": "2023-09-06T20:44:53.318Z"
   },
   {
    "duration": 38,
    "start_time": "2023-09-06T20:44:54.672Z"
   },
   {
    "duration": 4337,
    "start_time": "2023-09-06T20:44:54.712Z"
   },
   {
    "duration": 26,
    "start_time": "2023-09-06T20:44:59.053Z"
   },
   {
    "duration": 5,
    "start_time": "2023-09-06T20:44:59.082Z"
   },
   {
    "duration": 29,
    "start_time": "2023-09-06T20:44:59.090Z"
   },
   {
    "duration": 641,
    "start_time": "2023-09-06T20:44:59.121Z"
   },
   {
    "duration": 6,
    "start_time": "2023-09-06T20:44:59.764Z"
   },
   {
    "duration": 36,
    "start_time": "2023-09-06T20:44:59.772Z"
   },
   {
    "duration": 967,
    "start_time": "2023-09-06T20:44:59.817Z"
   },
   {
    "duration": 189,
    "start_time": "2023-09-06T20:45:00.787Z"
   },
   {
    "duration": 3875,
    "start_time": "2023-09-06T20:45:00.978Z"
   },
   {
    "duration": 513,
    "start_time": "2023-09-06T20:45:04.856Z"
   },
   {
    "duration": 7,
    "start_time": "2023-09-06T20:45:48.574Z"
   },
   {
    "duration": 9,
    "start_time": "2023-09-06T20:46:18.058Z"
   },
   {
    "duration": 17,
    "start_time": "2023-09-06T20:46:22.048Z"
   },
   {
    "duration": 25,
    "start_time": "2023-09-06T20:54:30.967Z"
   },
   {
    "duration": 11,
    "start_time": "2023-09-06T20:54:49.186Z"
   },
   {
    "duration": 11,
    "start_time": "2023-09-06T20:54:58.087Z"
   },
   {
    "duration": 233,
    "start_time": "2023-09-06T20:55:34.566Z"
   },
   {
    "duration": 207,
    "start_time": "2023-09-06T20:55:50.781Z"
   },
   {
    "duration": 375,
    "start_time": "2023-09-06T20:57:19.451Z"
   },
   {
    "duration": 169,
    "start_time": "2023-09-06T20:57:26.801Z"
   },
   {
    "duration": 259,
    "start_time": "2023-09-06T20:58:30.950Z"
   },
   {
    "duration": 165,
    "start_time": "2023-09-06T20:58:39.404Z"
   },
   {
    "duration": 151,
    "start_time": "2023-09-06T20:59:02.936Z"
   },
   {
    "duration": 160,
    "start_time": "2023-09-06T20:59:13.670Z"
   },
   {
    "duration": 175,
    "start_time": "2023-09-06T21:00:07.965Z"
   },
   {
    "duration": 193,
    "start_time": "2023-09-06T21:00:18.066Z"
   },
   {
    "duration": 202,
    "start_time": "2023-09-06T21:00:48.358Z"
   },
   {
    "duration": 391,
    "start_time": "2023-09-06T21:02:39.350Z"
   },
   {
    "duration": 479,
    "start_time": "2023-09-06T21:02:42.738Z"
   },
   {
    "duration": 601,
    "start_time": "2023-09-06T21:03:18.238Z"
   },
   {
    "duration": 1096,
    "start_time": "2023-09-06T21:03:42.489Z"
   },
   {
    "duration": 769,
    "start_time": "2023-09-06T21:03:49.826Z"
   },
   {
    "duration": 11,
    "start_time": "2023-09-06T21:06:52.729Z"
   },
   {
    "duration": 8,
    "start_time": "2023-09-06T21:09:17.113Z"
   },
   {
    "duration": 7,
    "start_time": "2023-09-06T21:09:24.751Z"
   },
   {
    "duration": 7,
    "start_time": "2023-09-06T21:09:36.990Z"
   },
   {
    "duration": 6,
    "start_time": "2023-09-06T21:09:42.142Z"
   },
   {
    "duration": 7,
    "start_time": "2023-09-06T21:09:59.264Z"
   },
   {
    "duration": 7,
    "start_time": "2023-09-06T21:10:11.256Z"
   },
   {
    "duration": 6,
    "start_time": "2023-09-06T21:10:15.246Z"
   },
   {
    "duration": 7,
    "start_time": "2023-09-06T21:10:21.976Z"
   },
   {
    "duration": 895,
    "start_time": "2023-09-06T21:10:36.472Z"
   },
   {
    "duration": 1110,
    "start_time": "2023-09-06T21:11:17.731Z"
   },
   {
    "duration": 909,
    "start_time": "2023-09-06T21:12:59.644Z"
   },
   {
    "duration": 33,
    "start_time": "2023-09-06T21:16:30.257Z"
   },
   {
    "duration": 45,
    "start_time": "2023-09-06T21:16:46.302Z"
   },
   {
    "duration": 49,
    "start_time": "2023-09-06T21:16:50.291Z"
   },
   {
    "duration": 30,
    "start_time": "2023-09-06T21:16:53.452Z"
   },
   {
    "duration": 29,
    "start_time": "2023-09-06T21:17:31.555Z"
   },
   {
    "duration": 26,
    "start_time": "2023-09-06T21:17:35.868Z"
   },
   {
    "duration": 50,
    "start_time": "2023-09-06T21:18:52.802Z"
   },
   {
    "duration": 839,
    "start_time": "2023-09-06T21:20:40.752Z"
   },
   {
    "duration": 877,
    "start_time": "2023-09-06T21:20:56.697Z"
   },
   {
    "duration": 1045,
    "start_time": "2023-09-06T21:25:08.851Z"
   },
   {
    "duration": 1180,
    "start_time": "2023-09-06T21:25:17.175Z"
   },
   {
    "duration": 1053,
    "start_time": "2023-09-06T21:26:04.441Z"
   },
   {
    "duration": 1261,
    "start_time": "2023-09-06T21:26:47.541Z"
   },
   {
    "duration": 685,
    "start_time": "2023-09-06T21:27:10.543Z"
   },
   {
    "duration": 672,
    "start_time": "2023-09-06T21:28:33.624Z"
   },
   {
    "duration": 908,
    "start_time": "2023-09-06T21:30:26.372Z"
   },
   {
    "duration": 963,
    "start_time": "2023-09-06T21:30:36.829Z"
   },
   {
    "duration": 960,
    "start_time": "2023-09-06T21:30:45.081Z"
   },
   {
    "duration": 1066,
    "start_time": "2023-09-06T21:30:56.991Z"
   },
   {
    "duration": 1049,
    "start_time": "2023-09-06T21:31:19.557Z"
   },
   {
    "duration": 1013,
    "start_time": "2023-09-06T21:32:10.570Z"
   },
   {
    "duration": 1085,
    "start_time": "2023-09-06T21:32:32.882Z"
   },
   {
    "duration": 33,
    "start_time": "2023-09-06T21:37:06.881Z"
   },
   {
    "duration": 31,
    "start_time": "2023-09-06T21:37:11.132Z"
   },
   {
    "duration": 3999,
    "start_time": "2023-09-06T21:37:52.160Z"
   },
   {
    "duration": 3882,
    "start_time": "2023-09-06T21:37:58.177Z"
   },
   {
    "duration": 3965,
    "start_time": "2023-09-06T21:38:32.539Z"
   },
   {
    "duration": 3956,
    "start_time": "2023-09-06T21:38:41.185Z"
   },
   {
    "duration": 7,
    "start_time": "2023-09-06T21:39:55.450Z"
   },
   {
    "duration": 7,
    "start_time": "2023-09-06T21:40:34.364Z"
   },
   {
    "duration": 7,
    "start_time": "2023-09-06T21:40:38.580Z"
   },
   {
    "duration": 8,
    "start_time": "2023-09-06T21:40:52.677Z"
   },
   {
    "duration": 6,
    "start_time": "2023-09-06T21:40:59.375Z"
   },
   {
    "duration": 9,
    "start_time": "2023-09-06T21:41:37.593Z"
   },
   {
    "duration": 8,
    "start_time": "2023-09-06T21:42:21.993Z"
   },
   {
    "duration": 10,
    "start_time": "2023-09-06T21:42:28.171Z"
   },
   {
    "duration": 8,
    "start_time": "2023-09-06T21:42:33.375Z"
   },
   {
    "duration": 9,
    "start_time": "2023-09-06T21:45:24.347Z"
   },
   {
    "duration": 6,
    "start_time": "2023-09-06T21:46:50.171Z"
   },
   {
    "duration": 10,
    "start_time": "2023-09-06T21:51:15.628Z"
   },
   {
    "duration": 9,
    "start_time": "2023-09-06T21:51:27.091Z"
   },
   {
    "duration": 9,
    "start_time": "2023-09-06T21:51:41.808Z"
   },
   {
    "duration": 6,
    "start_time": "2023-09-06T21:51:48.097Z"
   },
   {
    "duration": 6,
    "start_time": "2023-09-06T21:53:34.331Z"
   },
   {
    "duration": 13,
    "start_time": "2023-09-06T21:55:21.740Z"
   },
   {
    "duration": 6,
    "start_time": "2023-09-06T22:01:03.093Z"
   },
   {
    "duration": 971,
    "start_time": "2023-09-06T22:03:41.950Z"
   },
   {
    "duration": 965,
    "start_time": "2023-09-06T22:03:57.378Z"
   },
   {
    "duration": 898,
    "start_time": "2023-09-06T22:04:28.097Z"
   },
   {
    "duration": 1074,
    "start_time": "2023-09-06T22:04:49.279Z"
   },
   {
    "duration": 333,
    "start_time": "2023-09-06T22:05:01.336Z"
   },
   {
    "duration": 436,
    "start_time": "2023-09-06T22:05:16.022Z"
   },
   {
    "duration": 836,
    "start_time": "2023-09-06T22:05:26.025Z"
   },
   {
    "duration": 355,
    "start_time": "2023-09-06T22:05:34.224Z"
   },
   {
    "duration": 341,
    "start_time": "2023-09-06T22:06:03.002Z"
   },
   {
    "duration": 351,
    "start_time": "2023-09-06T22:06:25.780Z"
   },
   {
    "duration": 162,
    "start_time": "2023-09-06T22:14:12.439Z"
   },
   {
    "duration": 3141,
    "start_time": "2023-09-06T22:14:47.946Z"
   },
   {
    "duration": 3290,
    "start_time": "2023-09-06T22:15:42.341Z"
   },
   {
    "duration": 346,
    "start_time": "2023-09-06T22:20:22.836Z"
   },
   {
    "duration": 6,
    "start_time": "2023-09-06T22:21:37.470Z"
   },
   {
    "duration": 5,
    "start_time": "2023-09-06T22:21:45.894Z"
   },
   {
    "duration": 6,
    "start_time": "2023-09-06T22:23:23.187Z"
   },
   {
    "duration": 6,
    "start_time": "2023-09-06T22:23:35.067Z"
   },
   {
    "duration": 5,
    "start_time": "2023-09-06T22:23:43.129Z"
   },
   {
    "duration": 51,
    "start_time": "2023-09-06T22:26:37.398Z"
   },
   {
    "duration": 719,
    "start_time": "2023-09-06T22:26:52.382Z"
   },
   {
    "duration": 54,
    "start_time": "2023-09-06T22:26:53.104Z"
   },
   {
    "duration": 45,
    "start_time": "2023-09-06T22:26:53.160Z"
   },
   {
    "duration": 28,
    "start_time": "2023-09-06T22:26:53.207Z"
   },
   {
    "duration": 18,
    "start_time": "2023-09-06T22:26:53.237Z"
   },
   {
    "duration": 44,
    "start_time": "2023-09-06T22:26:53.257Z"
   },
   {
    "duration": 23,
    "start_time": "2023-09-06T22:26:53.302Z"
   },
   {
    "duration": 263,
    "start_time": "2023-09-06T22:26:53.327Z"
   },
   {
    "duration": 158,
    "start_time": "2023-09-06T22:26:53.591Z"
   },
   {
    "duration": 214,
    "start_time": "2023-09-06T22:26:53.753Z"
   },
   {
    "duration": 1065,
    "start_time": "2023-09-06T22:26:53.968Z"
   },
   {
    "duration": 812,
    "start_time": "2023-09-06T22:26:55.035Z"
   },
   {
    "duration": 30,
    "start_time": "2023-09-06T22:26:55.848Z"
   },
   {
    "duration": 56,
    "start_time": "2023-09-06T22:26:55.880Z"
   },
   {
    "duration": 29,
    "start_time": "2023-09-06T22:26:55.938Z"
   },
   {
    "duration": 68,
    "start_time": "2023-09-06T22:26:55.969Z"
   },
   {
    "duration": 581,
    "start_time": "2023-09-06T22:26:56.038Z"
   },
   {
    "duration": 932,
    "start_time": "2023-09-06T22:26:56.621Z"
   },
   {
    "duration": 3748,
    "start_time": "2023-09-06T22:26:57.556Z"
   },
   {
    "duration": 440,
    "start_time": "2023-09-06T22:27:01.308Z"
   },
   {
    "duration": 7,
    "start_time": "2023-09-06T22:27:01.750Z"
   },
   {
    "duration": 447,
    "start_time": "2023-09-06T22:27:01.759Z"
   },
   {
    "duration": 227,
    "start_time": "2023-09-06T22:27:02.210Z"
   },
   {
    "duration": 3294,
    "start_time": "2023-09-06T22:27:02.439Z"
   },
   {
    "duration": 414,
    "start_time": "2023-09-06T22:27:05.736Z"
   },
   {
    "duration": 6,
    "start_time": "2023-09-06T22:27:06.152Z"
   },
   {
    "duration": 83,
    "start_time": "2023-09-06T22:27:56.756Z"
   },
   {
    "duration": 763,
    "start_time": "2023-09-06T22:29:50.823Z"
   },
   {
    "duration": 59,
    "start_time": "2023-09-06T22:29:51.588Z"
   },
   {
    "duration": 92,
    "start_time": "2023-09-06T22:29:51.649Z"
   },
   {
    "duration": 33,
    "start_time": "2023-09-06T22:29:51.743Z"
   },
   {
    "duration": 27,
    "start_time": "2023-09-06T22:29:51.778Z"
   },
   {
    "duration": 42,
    "start_time": "2023-09-06T22:29:51.813Z"
   },
   {
    "duration": 45,
    "start_time": "2023-09-06T22:29:51.857Z"
   },
   {
    "duration": 235,
    "start_time": "2023-09-06T22:29:51.904Z"
   },
   {
    "duration": 189,
    "start_time": "2023-09-06T22:29:52.141Z"
   },
   {
    "duration": 301,
    "start_time": "2023-09-06T22:29:52.331Z"
   },
   {
    "duration": 1248,
    "start_time": "2023-09-06T22:29:52.633Z"
   },
   {
    "duration": 914,
    "start_time": "2023-09-06T22:29:53.882Z"
   },
   {
    "duration": 44,
    "start_time": "2023-09-06T22:29:54.798Z"
   },
   {
    "duration": 35,
    "start_time": "2023-09-06T22:29:54.844Z"
   },
   {
    "duration": 60,
    "start_time": "2023-09-06T22:29:54.881Z"
   },
   {
    "duration": 30,
    "start_time": "2023-09-06T22:29:54.943Z"
   },
   {
    "duration": 653,
    "start_time": "2023-09-06T22:29:54.975Z"
   },
   {
    "duration": 1025,
    "start_time": "2023-09-06T22:29:55.631Z"
   },
   {
    "duration": 4165,
    "start_time": "2023-09-06T22:29:56.659Z"
   },
   {
    "duration": 442,
    "start_time": "2023-09-06T22:30:00.826Z"
   },
   {
    "duration": 8,
    "start_time": "2023-09-06T22:30:01.271Z"
   },
   {
    "duration": 429,
    "start_time": "2023-09-06T22:30:01.281Z"
   },
   {
    "duration": 183,
    "start_time": "2023-09-06T22:30:01.712Z"
   },
   {
    "duration": 3454,
    "start_time": "2023-09-06T22:30:01.897Z"
   },
   {
    "duration": 426,
    "start_time": "2023-09-06T22:30:05.353Z"
   },
   {
    "duration": 6,
    "start_time": "2023-09-06T22:30:05.781Z"
   },
   {
    "duration": 4,
    "start_time": "2023-09-06T22:31:26.635Z"
   },
   {
    "duration": 111,
    "start_time": "2023-09-06T22:31:26.641Z"
   },
   {
    "duration": 46,
    "start_time": "2023-09-06T22:31:26.754Z"
   },
   {
    "duration": 52,
    "start_time": "2023-09-06T22:31:26.802Z"
   },
   {
    "duration": 20,
    "start_time": "2023-09-06T22:31:26.857Z"
   },
   {
    "duration": 16,
    "start_time": "2023-09-06T22:31:26.879Z"
   },
   {
    "duration": 16,
    "start_time": "2023-09-06T22:31:26.897Z"
   },
   {
    "duration": 225,
    "start_time": "2023-09-06T22:31:26.915Z"
   },
   {
    "duration": 172,
    "start_time": "2023-09-06T22:31:27.143Z"
   },
   {
    "duration": 246,
    "start_time": "2023-09-06T22:31:27.317Z"
   },
   {
    "duration": 1538,
    "start_time": "2023-09-06T22:31:27.565Z"
   },
   {
    "duration": 908,
    "start_time": "2023-09-06T22:31:29.114Z"
   },
   {
    "duration": 36,
    "start_time": "2023-09-06T22:31:30.026Z"
   },
   {
    "duration": 62,
    "start_time": "2023-09-06T22:31:30.066Z"
   },
   {
    "duration": 37,
    "start_time": "2023-09-06T22:31:30.130Z"
   },
   {
    "duration": 56,
    "start_time": "2023-09-06T22:31:30.169Z"
   },
   {
    "duration": 658,
    "start_time": "2023-09-06T22:31:30.227Z"
   },
   {
    "duration": 1206,
    "start_time": "2023-09-06T22:31:30.887Z"
   },
   {
    "duration": 4502,
    "start_time": "2023-09-06T22:31:32.094Z"
   },
   {
    "duration": 11,
    "start_time": "2023-09-06T22:31:36.598Z"
   },
   {
    "duration": 13,
    "start_time": "2023-09-06T22:31:36.611Z"
   },
   {
    "duration": 381,
    "start_time": "2023-09-06T22:31:36.626Z"
   },
   {
    "duration": 181,
    "start_time": "2023-09-06T22:31:37.008Z"
   },
   {
    "duration": 3724,
    "start_time": "2023-09-06T22:31:37.191Z"
   },
   {
    "duration": 451,
    "start_time": "2023-09-06T22:31:49.203Z"
   },
   {
    "duration": 5,
    "start_time": "2023-09-06T22:31:56.433Z"
   },
   {
    "duration": 105,
    "start_time": "2023-09-06T22:32:07.112Z"
   },
   {
    "duration": 387,
    "start_time": "2023-09-06T22:32:21.160Z"
   },
   {
    "duration": 5,
    "start_time": "2023-09-06T22:32:22.935Z"
   },
   {
    "duration": 57,
    "start_time": "2023-09-06T22:33:23.267Z"
   },
   {
    "duration": 775,
    "start_time": "2023-09-06T22:33:27.548Z"
   },
   {
    "duration": 50,
    "start_time": "2023-09-06T22:33:28.325Z"
   },
   {
    "duration": 50,
    "start_time": "2023-09-06T22:33:28.377Z"
   },
   {
    "duration": 29,
    "start_time": "2023-09-06T22:33:28.429Z"
   },
   {
    "duration": 19,
    "start_time": "2023-09-06T22:33:28.459Z"
   },
   {
    "duration": 45,
    "start_time": "2023-09-06T22:33:28.480Z"
   },
   {
    "duration": 13,
    "start_time": "2023-09-06T22:33:28.528Z"
   },
   {
    "duration": 208,
    "start_time": "2023-09-06T22:33:28.543Z"
   },
   {
    "duration": 173,
    "start_time": "2023-09-06T22:33:28.753Z"
   },
   {
    "duration": 188,
    "start_time": "2023-09-06T22:33:28.928Z"
   },
   {
    "duration": 1125,
    "start_time": "2023-09-06T22:33:29.117Z"
   },
   {
    "duration": 823,
    "start_time": "2023-09-06T22:33:30.244Z"
   },
   {
    "duration": 48,
    "start_time": "2023-09-06T22:33:31.069Z"
   },
   {
    "duration": 102,
    "start_time": "2023-09-06T22:33:31.119Z"
   },
   {
    "duration": 28,
    "start_time": "2023-09-06T22:33:31.225Z"
   },
   {
    "duration": 37,
    "start_time": "2023-09-06T22:33:31.254Z"
   },
   {
    "duration": 581,
    "start_time": "2023-09-06T22:33:31.292Z"
   },
   {
    "duration": 982,
    "start_time": "2023-09-06T22:33:31.875Z"
   },
   {
    "duration": 3914,
    "start_time": "2023-09-06T22:33:32.858Z"
   },
   {
    "duration": 462,
    "start_time": "2023-09-06T22:33:36.774Z"
   },
   {
    "duration": 6,
    "start_time": "2023-09-06T22:33:37.238Z"
   },
   {
    "duration": 329,
    "start_time": "2023-09-06T22:33:37.245Z"
   },
   {
    "duration": 172,
    "start_time": "2023-09-06T22:33:37.575Z"
   },
   {
    "duration": 3037,
    "start_time": "2023-09-06T22:33:37.750Z"
   },
   {
    "duration": 403,
    "start_time": "2023-09-06T22:33:40.789Z"
   },
   {
    "duration": 6,
    "start_time": "2023-09-06T22:33:41.194Z"
   },
   {
    "duration": 1881,
    "start_time": "2023-09-06T22:33:41.209Z"
   },
   {
    "duration": 190,
    "start_time": "2023-09-06T22:34:20.384Z"
   },
   {
    "duration": 195,
    "start_time": "2023-09-06T22:35:02.583Z"
   },
   {
    "duration": 335,
    "start_time": "2023-09-06T22:35:43.225Z"
   },
   {
    "duration": 456,
    "start_time": "2023-09-06T22:36:12.801Z"
   },
   {
    "duration": 469,
    "start_time": "2023-09-06T22:36:20.896Z"
   },
   {
    "duration": 202,
    "start_time": "2023-09-06T22:36:32.779Z"
   },
   {
    "duration": 209,
    "start_time": "2023-09-06T22:36:44.388Z"
   },
   {
    "duration": 188,
    "start_time": "2023-09-06T22:37:02.583Z"
   },
   {
    "duration": 410,
    "start_time": "2023-09-06T22:37:15.742Z"
   },
   {
    "duration": 203,
    "start_time": "2023-09-06T22:37:32.626Z"
   },
   {
    "duration": 183,
    "start_time": "2023-09-06T22:38:03.014Z"
   },
   {
    "duration": 183,
    "start_time": "2023-09-06T22:38:08.373Z"
   },
   {
    "duration": 181,
    "start_time": "2023-09-06T22:38:12.089Z"
   },
   {
    "duration": 181,
    "start_time": "2023-09-06T22:38:18.383Z"
   },
   {
    "duration": 186,
    "start_time": "2023-09-06T22:38:21.614Z"
   },
   {
    "duration": 181,
    "start_time": "2023-09-06T22:38:25.679Z"
   },
   {
    "duration": 207,
    "start_time": "2023-09-06T22:39:51.035Z"
   },
   {
    "duration": 188,
    "start_time": "2023-09-06T22:41:00.450Z"
   },
   {
    "duration": 201,
    "start_time": "2023-09-06T22:42:02.267Z"
   },
   {
    "duration": 181,
    "start_time": "2023-09-06T22:42:11.762Z"
   },
   {
    "duration": 230,
    "start_time": "2023-09-06T22:45:05.530Z"
   },
   {
    "duration": 137,
    "start_time": "2023-09-06T22:45:27.510Z"
   },
   {
    "duration": 6,
    "start_time": "2023-09-06T22:48:42.089Z"
   },
   {
    "duration": 6,
    "start_time": "2023-09-06T22:49:01.146Z"
   },
   {
    "duration": 339,
    "start_time": "2023-09-06T22:49:36.087Z"
   },
   {
    "duration": 258,
    "start_time": "2023-09-06T22:50:06.254Z"
   },
   {
    "duration": 311,
    "start_time": "2023-09-06T22:50:40.117Z"
   },
   {
    "duration": 145,
    "start_time": "2023-09-06T22:51:31.646Z"
   },
   {
    "duration": 185,
    "start_time": "2023-09-06T22:53:28.937Z"
   },
   {
    "duration": 204,
    "start_time": "2023-09-06T22:58:53.129Z"
   },
   {
    "duration": 199,
    "start_time": "2023-09-06T22:59:12.668Z"
   },
   {
    "duration": 219,
    "start_time": "2023-09-06T23:00:13.668Z"
   },
   {
    "duration": 203,
    "start_time": "2023-09-06T23:00:20.690Z"
   },
   {
    "duration": 205,
    "start_time": "2023-09-06T23:00:46.429Z"
   },
   {
    "duration": 204,
    "start_time": "2023-09-06T23:00:58.421Z"
   },
   {
    "duration": 6,
    "start_time": "2023-09-06T23:01:56.407Z"
   },
   {
    "duration": 718,
    "start_time": "2023-09-06T23:22:27.286Z"
   },
   {
    "duration": 49,
    "start_time": "2023-09-06T23:22:28.006Z"
   },
   {
    "duration": 48,
    "start_time": "2023-09-06T23:22:28.057Z"
   },
   {
    "duration": 38,
    "start_time": "2023-09-06T23:22:28.108Z"
   },
   {
    "duration": 19,
    "start_time": "2023-09-06T23:22:28.148Z"
   },
   {
    "duration": 15,
    "start_time": "2023-09-06T23:22:28.169Z"
   },
   {
    "duration": 31,
    "start_time": "2023-09-06T23:22:28.186Z"
   },
   {
    "duration": 197,
    "start_time": "2023-09-06T23:22:28.219Z"
   },
   {
    "duration": 161,
    "start_time": "2023-09-06T23:22:28.418Z"
   },
   {
    "duration": 213,
    "start_time": "2023-09-06T23:22:28.581Z"
   },
   {
    "duration": 1093,
    "start_time": "2023-09-06T23:22:28.795Z"
   },
   {
    "duration": 796,
    "start_time": "2023-09-06T23:22:29.889Z"
   },
   {
    "duration": 44,
    "start_time": "2023-09-06T23:22:30.687Z"
   },
   {
    "duration": 32,
    "start_time": "2023-09-06T23:22:30.734Z"
   },
   {
    "duration": 55,
    "start_time": "2023-09-06T23:22:30.768Z"
   },
   {
    "duration": 28,
    "start_time": "2023-09-06T23:22:30.825Z"
   },
   {
    "duration": 713,
    "start_time": "2023-09-06T23:22:30.855Z"
   },
   {
    "duration": 899,
    "start_time": "2023-09-06T23:22:31.570Z"
   },
   {
    "duration": 3941,
    "start_time": "2023-09-06T23:22:32.472Z"
   },
   {
    "duration": 431,
    "start_time": "2023-09-06T23:22:36.416Z"
   },
   {
    "duration": 9,
    "start_time": "2023-09-06T23:22:36.849Z"
   },
   {
    "duration": 321,
    "start_time": "2023-09-06T23:22:36.859Z"
   },
   {
    "duration": 150,
    "start_time": "2023-09-06T23:22:37.182Z"
   },
   {
    "duration": 3165,
    "start_time": "2023-09-06T23:22:37.334Z"
   },
   {
    "duration": 405,
    "start_time": "2023-09-06T23:22:40.500Z"
   },
   {
    "duration": 6,
    "start_time": "2023-09-06T23:22:40.910Z"
   },
   {
    "duration": 227,
    "start_time": "2023-09-06T23:22:40.917Z"
   },
   {
    "duration": 859,
    "start_time": "2023-09-06T23:23:33.341Z"
   },
   {
    "duration": 602,
    "start_time": "2023-09-07T04:10:03.981Z"
   },
   {
    "duration": 104,
    "start_time": "2023-09-07T04:10:04.584Z"
   },
   {
    "duration": 83,
    "start_time": "2023-09-07T04:10:04.689Z"
   },
   {
    "duration": 65,
    "start_time": "2023-09-07T04:10:04.774Z"
   },
   {
    "duration": 15,
    "start_time": "2023-09-07T04:10:04.840Z"
   },
   {
    "duration": 30,
    "start_time": "2023-09-07T04:10:04.856Z"
   },
   {
    "duration": 9,
    "start_time": "2023-09-07T04:10:04.888Z"
   },
   {
    "duration": 152,
    "start_time": "2023-09-07T04:10:04.898Z"
   },
   {
    "duration": 125,
    "start_time": "2023-09-07T04:10:05.052Z"
   },
   {
    "duration": 177,
    "start_time": "2023-09-07T04:10:05.180Z"
   },
   {
    "duration": 1065,
    "start_time": "2023-09-07T04:10:05.358Z"
   },
   {
    "duration": 514,
    "start_time": "2023-09-07T04:10:06.424Z"
   },
   {
    "duration": 36,
    "start_time": "2023-09-07T04:10:06.939Z"
   },
   {
    "duration": 29,
    "start_time": "2023-09-07T04:10:06.977Z"
   },
   {
    "duration": 118,
    "start_time": "2023-09-07T04:10:07.008Z"
   },
   {
    "duration": 36,
    "start_time": "2023-09-07T04:10:07.128Z"
   },
   {
    "duration": 473,
    "start_time": "2023-09-07T04:10:07.166Z"
   },
   {
    "duration": 731,
    "start_time": "2023-09-07T04:10:07.640Z"
   },
   {
    "duration": 4008,
    "start_time": "2023-09-07T04:10:08.373Z"
   },
   {
    "duration": 982,
    "start_time": "2023-09-07T04:10:12.382Z"
   },
   {
    "duration": 6,
    "start_time": "2023-09-07T04:10:13.367Z"
   },
   {
    "duration": 578,
    "start_time": "2023-09-07T04:10:13.375Z"
   },
   {
    "duration": 237,
    "start_time": "2023-09-07T04:10:13.954Z"
   },
   {
    "duration": 5702,
    "start_time": "2023-09-07T04:10:14.248Z"
   },
   {
    "duration": 626,
    "start_time": "2023-09-07T04:10:19.951Z"
   },
   {
    "duration": 5,
    "start_time": "2023-09-07T04:10:20.578Z"
   },
   {
    "duration": 474,
    "start_time": "2023-09-07T04:10:20.584Z"
   },
   {
    "duration": 144,
    "start_time": "2023-09-07T04:21:52.291Z"
   },
   {
    "duration": 88,
    "start_time": "2023-09-07T04:23:01.095Z"
   },
   {
    "duration": 12,
    "start_time": "2023-09-07T04:23:06.115Z"
   },
   {
    "duration": 404,
    "start_time": "2023-09-07T04:23:10.868Z"
   },
   {
    "duration": 129,
    "start_time": "2023-09-07T04:23:45.500Z"
   },
   {
    "duration": 182,
    "start_time": "2023-09-07T04:24:16.087Z"
   },
   {
    "duration": 197,
    "start_time": "2023-09-07T04:24:22.689Z"
   },
   {
    "duration": 186,
    "start_time": "2023-09-07T04:24:46.013Z"
   },
   {
    "duration": 144,
    "start_time": "2023-09-07T04:24:58.813Z"
   },
   {
    "duration": 4,
    "start_time": "2023-09-07T04:25:41.067Z"
   },
   {
    "duration": 142,
    "start_time": "2023-09-07T04:25:46.793Z"
   },
   {
    "duration": 5,
    "start_time": "2023-09-07T04:25:49.783Z"
   },
   {
    "duration": 28,
    "start_time": "2023-09-07T04:29:16.103Z"
   },
   {
    "duration": 7,
    "start_time": "2023-09-07T04:31:20.065Z"
   },
   {
    "duration": 6,
    "start_time": "2023-09-07T04:31:23.928Z"
   },
   {
    "duration": 6,
    "start_time": "2023-09-07T04:33:32.382Z"
   },
   {
    "duration": 774,
    "start_time": "2023-09-07T05:43:47.741Z"
   },
   {
    "duration": 94,
    "start_time": "2023-09-07T05:43:48.517Z"
   },
   {
    "duration": 86,
    "start_time": "2023-09-07T05:43:48.613Z"
   },
   {
    "duration": 64,
    "start_time": "2023-09-07T05:43:48.701Z"
   },
   {
    "duration": 17,
    "start_time": "2023-09-07T05:43:48.767Z"
   },
   {
    "duration": 42,
    "start_time": "2023-09-07T05:43:48.785Z"
   },
   {
    "duration": 28,
    "start_time": "2023-09-07T05:43:48.829Z"
   },
   {
    "duration": 177,
    "start_time": "2023-09-07T05:43:48.858Z"
   },
   {
    "duration": 133,
    "start_time": "2023-09-07T05:43:49.036Z"
   },
   {
    "duration": 175,
    "start_time": "2023-09-07T05:43:49.171Z"
   },
   {
    "duration": 987,
    "start_time": "2023-09-07T05:43:49.347Z"
   },
   {
    "duration": 545,
    "start_time": "2023-09-07T05:43:50.336Z"
   },
   {
    "duration": 42,
    "start_time": "2023-09-07T05:43:50.883Z"
   },
   {
    "duration": 27,
    "start_time": "2023-09-07T05:43:50.927Z"
   },
   {
    "duration": 121,
    "start_time": "2023-09-07T05:43:50.956Z"
   },
   {
    "duration": 46,
    "start_time": "2023-09-07T05:43:51.079Z"
   },
   {
    "duration": 484,
    "start_time": "2023-09-07T05:43:51.127Z"
   },
   {
    "duration": 751,
    "start_time": "2023-09-07T05:43:51.624Z"
   },
   {
    "duration": 3350,
    "start_time": "2023-09-07T05:43:52.377Z"
   },
   {
    "duration": 499,
    "start_time": "2023-09-07T05:43:55.729Z"
   },
   {
    "duration": 7,
    "start_time": "2023-09-07T05:43:56.230Z"
   },
   {
    "duration": 303,
    "start_time": "2023-09-07T05:43:56.238Z"
   },
   {
    "duration": 131,
    "start_time": "2023-09-07T05:43:56.542Z"
   },
   {
    "duration": 2642,
    "start_time": "2023-09-07T05:43:56.675Z"
   },
   {
    "duration": 335,
    "start_time": "2023-09-07T05:43:59.319Z"
   },
   {
    "duration": 6,
    "start_time": "2023-09-07T05:43:59.655Z"
   },
   {
    "duration": 234,
    "start_time": "2023-09-07T05:43:59.662Z"
   },
   {
    "duration": 233,
    "start_time": "2023-09-07T05:45:12.129Z"
   },
   {
    "duration": 140,
    "start_time": "2023-09-07T05:45:19.043Z"
   },
   {
    "duration": 361,
    "start_time": "2023-09-07T05:46:51.403Z"
   },
   {
    "duration": 142,
    "start_time": "2023-09-07T05:46:58.006Z"
   },
   {
    "duration": 153,
    "start_time": "2023-09-07T05:47:15.179Z"
   },
   {
    "duration": 165,
    "start_time": "2023-09-07T05:47:36.709Z"
   },
   {
    "duration": 209,
    "start_time": "2023-09-07T05:47:40.297Z"
   },
   {
    "duration": 149,
    "start_time": "2023-09-07T05:47:46.065Z"
   },
   {
    "duration": 155,
    "start_time": "2023-09-07T05:48:50.663Z"
   },
   {
    "duration": 148,
    "start_time": "2023-09-07T05:48:57.150Z"
   },
   {
    "duration": 70,
    "start_time": "2023-09-07T05:49:06.599Z"
   },
   {
    "duration": 146,
    "start_time": "2023-09-07T05:49:08.015Z"
   },
   {
    "duration": 160,
    "start_time": "2023-09-07T05:49:22.921Z"
   },
   {
    "duration": 245,
    "start_time": "2023-09-07T05:51:01.148Z"
   },
   {
    "duration": 303,
    "start_time": "2023-09-07T05:51:21.940Z"
   },
   {
    "duration": 133,
    "start_time": "2023-09-07T05:51:27.358Z"
   },
   {
    "duration": 229,
    "start_time": "2023-09-07T05:51:46.068Z"
   },
   {
    "duration": 222,
    "start_time": "2023-09-07T05:51:58.049Z"
   },
   {
    "duration": 232,
    "start_time": "2023-09-07T05:52:02.098Z"
   },
   {
    "duration": 242,
    "start_time": "2023-09-07T05:52:20.083Z"
   },
   {
    "duration": 225,
    "start_time": "2023-09-07T05:52:33.574Z"
   },
   {
    "duration": 283,
    "start_time": "2023-09-07T05:52:45.099Z"
   },
   {
    "duration": 193,
    "start_time": "2023-09-07T05:53:56.641Z"
   },
   {
    "duration": 104,
    "start_time": "2023-09-07T05:59:55.654Z"
   },
   {
    "duration": 3641,
    "start_time": "2023-09-07T17:42:58.595Z"
   },
   {
    "duration": 4182,
    "start_time": "2023-09-07T17:45:07.670Z"
   },
   {
    "duration": 100,
    "start_time": "2023-09-07T17:45:46.815Z"
   },
   {
    "duration": 163,
    "start_time": "2023-09-07T17:45:48.058Z"
   },
   {
    "duration": 10,
    "start_time": "2023-09-07T17:48:29.993Z"
   },
   {
    "duration": 15,
    "start_time": "2023-09-07T17:48:36.120Z"
   },
   {
    "duration": 9,
    "start_time": "2023-09-07T17:49:04.819Z"
   },
   {
    "duration": 13,
    "start_time": "2023-09-07T17:51:05.920Z"
   },
   {
    "duration": 6,
    "start_time": "2023-09-07T17:51:20.577Z"
   },
   {
    "duration": 6,
    "start_time": "2023-09-07T17:51:34.140Z"
   },
   {
    "duration": 289,
    "start_time": "2023-09-07T18:00:42.942Z"
   },
   {
    "duration": 296,
    "start_time": "2023-09-07T18:02:17.968Z"
   },
   {
    "duration": 292,
    "start_time": "2023-09-07T18:02:42.660Z"
   },
   {
    "duration": 705,
    "start_time": "2023-09-07T18:02:51.460Z"
   },
   {
    "duration": 47,
    "start_time": "2023-09-07T18:02:52.166Z"
   },
   {
    "duration": 87,
    "start_time": "2023-09-07T18:02:52.214Z"
   },
   {
    "duration": 39,
    "start_time": "2023-09-07T18:02:52.303Z"
   },
   {
    "duration": 20,
    "start_time": "2023-09-07T18:02:52.345Z"
   },
   {
    "duration": 23,
    "start_time": "2023-09-07T18:02:52.367Z"
   },
   {
    "duration": 12,
    "start_time": "2023-09-07T18:02:52.391Z"
   },
   {
    "duration": 240,
    "start_time": "2023-09-07T18:02:52.405Z"
   },
   {
    "duration": 237,
    "start_time": "2023-09-07T18:02:52.647Z"
   },
   {
    "duration": 216,
    "start_time": "2023-09-07T18:02:52.886Z"
   },
   {
    "duration": 1094,
    "start_time": "2023-09-07T18:02:53.104Z"
   },
   {
    "duration": 673,
    "start_time": "2023-09-07T18:02:54.199Z"
   },
   {
    "duration": 57,
    "start_time": "2023-09-07T18:02:54.874Z"
   },
   {
    "duration": 44,
    "start_time": "2023-09-07T18:02:54.934Z"
   },
   {
    "duration": 27,
    "start_time": "2023-09-07T18:02:54.980Z"
   },
   {
    "duration": 41,
    "start_time": "2023-09-07T18:02:55.027Z"
   },
   {
    "duration": 563,
    "start_time": "2023-09-07T18:02:55.071Z"
   },
   {
    "duration": 890,
    "start_time": "2023-09-07T18:02:55.641Z"
   },
   {
    "duration": 183,
    "start_time": "2023-09-07T18:02:56.532Z"
   },
   {
    "duration": 0,
    "start_time": "2023-09-07T18:02:56.729Z"
   },
   {
    "duration": 0,
    "start_time": "2023-09-07T18:02:56.730Z"
   },
   {
    "duration": 0,
    "start_time": "2023-09-07T18:02:56.730Z"
   },
   {
    "duration": 0,
    "start_time": "2023-09-07T18:02:56.731Z"
   },
   {
    "duration": 0,
    "start_time": "2023-09-07T18:02:56.732Z"
   },
   {
    "duration": 0,
    "start_time": "2023-09-07T18:02:56.736Z"
   },
   {
    "duration": 0,
    "start_time": "2023-09-07T18:02:56.739Z"
   },
   {
    "duration": 0,
    "start_time": "2023-09-07T18:02:56.741Z"
   },
   {
    "duration": 7,
    "start_time": "2023-09-07T18:03:26.722Z"
   },
   {
    "duration": 48,
    "start_time": "2023-09-07T18:03:26.732Z"
   },
   {
    "duration": 52,
    "start_time": "2023-09-07T18:03:26.782Z"
   },
   {
    "duration": 39,
    "start_time": "2023-09-07T18:03:26.837Z"
   },
   {
    "duration": 29,
    "start_time": "2023-09-07T18:03:26.878Z"
   },
   {
    "duration": 43,
    "start_time": "2023-09-07T18:03:26.910Z"
   },
   {
    "duration": 26,
    "start_time": "2023-09-07T18:03:26.955Z"
   },
   {
    "duration": 187,
    "start_time": "2023-09-07T18:03:26.982Z"
   },
   {
    "duration": 238,
    "start_time": "2023-09-07T18:03:27.170Z"
   },
   {
    "duration": 198,
    "start_time": "2023-09-07T18:03:27.411Z"
   },
   {
    "duration": 1103,
    "start_time": "2023-09-07T18:03:27.610Z"
   },
   {
    "duration": 616,
    "start_time": "2023-09-07T18:03:28.715Z"
   },
   {
    "duration": 33,
    "start_time": "2023-09-07T18:03:29.333Z"
   },
   {
    "duration": 30,
    "start_time": "2023-09-07T18:03:29.367Z"
   },
   {
    "duration": 55,
    "start_time": "2023-09-07T18:03:29.399Z"
   },
   {
    "duration": 26,
    "start_time": "2023-09-07T18:03:29.457Z"
   },
   {
    "duration": 587,
    "start_time": "2023-09-07T18:03:29.485Z"
   },
   {
    "duration": 1006,
    "start_time": "2023-09-07T18:03:30.073Z"
   },
   {
    "duration": 12,
    "start_time": "2023-09-07T18:03:31.081Z"
   },
   {
    "duration": 0,
    "start_time": "2023-09-07T18:03:31.094Z"
   },
   {
    "duration": 0,
    "start_time": "2023-09-07T18:03:31.095Z"
   },
   {
    "duration": 0,
    "start_time": "2023-09-07T18:03:31.096Z"
   },
   {
    "duration": 0,
    "start_time": "2023-09-07T18:03:31.097Z"
   },
   {
    "duration": 0,
    "start_time": "2023-09-07T18:03:31.098Z"
   },
   {
    "duration": 0,
    "start_time": "2023-09-07T18:03:31.099Z"
   },
   {
    "duration": 0,
    "start_time": "2023-09-07T18:03:31.127Z"
   },
   {
    "duration": 0,
    "start_time": "2023-09-07T18:03:31.128Z"
   },
   {
    "duration": 3,
    "start_time": "2023-09-07T18:04:05.306Z"
   },
   {
    "duration": 56,
    "start_time": "2023-09-07T18:04:05.311Z"
   },
   {
    "duration": 41,
    "start_time": "2023-09-07T18:04:05.369Z"
   },
   {
    "duration": 38,
    "start_time": "2023-09-07T18:04:05.412Z"
   },
   {
    "duration": 18,
    "start_time": "2023-09-07T18:04:05.452Z"
   },
   {
    "duration": 25,
    "start_time": "2023-09-07T18:04:05.472Z"
   },
   {
    "duration": 11,
    "start_time": "2023-09-07T18:04:05.499Z"
   },
   {
    "duration": 167,
    "start_time": "2023-09-07T18:04:05.525Z"
   },
   {
    "duration": 234,
    "start_time": "2023-09-07T18:04:05.694Z"
   },
   {
    "duration": 240,
    "start_time": "2023-09-07T18:04:05.937Z"
   },
   {
    "duration": 1109,
    "start_time": "2023-09-07T18:04:06.179Z"
   },
   {
    "duration": 566,
    "start_time": "2023-09-07T18:04:07.290Z"
   },
   {
    "duration": 29,
    "start_time": "2023-09-07T18:04:07.858Z"
   },
   {
    "duration": 97,
    "start_time": "2023-09-07T18:04:07.889Z"
   },
   {
    "duration": 27,
    "start_time": "2023-09-07T18:04:07.987Z"
   },
   {
    "duration": 36,
    "start_time": "2023-09-07T18:04:08.015Z"
   },
   {
    "duration": 613,
    "start_time": "2023-09-07T18:04:08.053Z"
   },
   {
    "duration": 808,
    "start_time": "2023-09-07T18:04:08.667Z"
   },
   {
    "duration": 4394,
    "start_time": "2023-09-07T18:04:09.477Z"
   },
   {
    "duration": 516,
    "start_time": "2023-09-07T18:04:13.873Z"
   },
   {
    "duration": 6,
    "start_time": "2023-09-07T18:04:14.391Z"
   },
   {
    "duration": 299,
    "start_time": "2023-09-07T18:04:14.398Z"
   },
   {
    "duration": 160,
    "start_time": "2023-09-07T18:04:14.699Z"
   },
   {
    "duration": 3083,
    "start_time": "2023-09-07T18:04:14.862Z"
   },
   {
    "duration": 357,
    "start_time": "2023-09-07T18:04:17.947Z"
   },
   {
    "duration": 6,
    "start_time": "2023-09-07T18:04:18.305Z"
   },
   {
    "duration": 231,
    "start_time": "2023-09-07T18:04:18.313Z"
   },
   {
    "duration": 4522,
    "start_time": "2023-09-07T18:06:25.999Z"
   },
   {
    "duration": 692,
    "start_time": "2023-09-07T18:06:45.110Z"
   },
   {
    "duration": 56,
    "start_time": "2023-09-07T18:06:45.804Z"
   },
   {
    "duration": 41,
    "start_time": "2023-09-07T18:06:45.862Z"
   },
   {
    "duration": 43,
    "start_time": "2023-09-07T18:06:45.905Z"
   },
   {
    "duration": 24,
    "start_time": "2023-09-07T18:06:45.950Z"
   },
   {
    "duration": 21,
    "start_time": "2023-09-07T18:06:45.976Z"
   },
   {
    "duration": 40,
    "start_time": "2023-09-07T18:06:46.000Z"
   },
   {
    "duration": 233,
    "start_time": "2023-09-07T18:06:46.043Z"
   },
   {
    "duration": 234,
    "start_time": "2023-09-07T18:06:46.277Z"
   },
   {
    "duration": 176,
    "start_time": "2023-09-07T18:06:46.514Z"
   },
   {
    "duration": 1048,
    "start_time": "2023-09-07T18:06:46.692Z"
   },
   {
    "duration": 633,
    "start_time": "2023-09-07T18:06:47.742Z"
   },
   {
    "duration": 27,
    "start_time": "2023-09-07T18:06:48.376Z"
   },
   {
    "duration": 53,
    "start_time": "2023-09-07T18:06:48.405Z"
   },
   {
    "duration": 26,
    "start_time": "2023-09-07T18:06:48.459Z"
   },
   {
    "duration": 55,
    "start_time": "2023-09-07T18:06:48.486Z"
   },
   {
    "duration": 535,
    "start_time": "2023-09-07T18:06:48.543Z"
   },
   {
    "duration": 797,
    "start_time": "2023-09-07T18:06:49.080Z"
   },
   {
    "duration": 4405,
    "start_time": "2023-09-07T18:06:49.878Z"
   },
   {
    "duration": 421,
    "start_time": "2023-09-07T18:06:54.284Z"
   },
   {
    "duration": 8,
    "start_time": "2023-09-07T18:06:54.706Z"
   },
   {
    "duration": 302,
    "start_time": "2023-09-07T18:06:54.739Z"
   },
   {
    "duration": 136,
    "start_time": "2023-09-07T18:06:55.043Z"
   },
   {
    "duration": 3027,
    "start_time": "2023-09-07T18:06:55.181Z"
   },
   {
    "duration": 357,
    "start_time": "2023-09-07T18:06:58.209Z"
   },
   {
    "duration": 5,
    "start_time": "2023-09-07T18:06:58.568Z"
   },
   {
    "duration": 219,
    "start_time": "2023-09-07T18:06:58.574Z"
   },
   {
    "duration": 19,
    "start_time": "2023-09-07T18:08:06.919Z"
   },
   {
    "duration": 17,
    "start_time": "2023-09-07T18:08:35.346Z"
   },
   {
    "duration": 22,
    "start_time": "2023-09-07T18:09:03.906Z"
   },
   {
    "duration": 9,
    "start_time": "2023-09-07T18:09:16.239Z"
   },
   {
    "duration": 5,
    "start_time": "2023-09-07T18:10:40.698Z"
   },
   {
    "duration": 6,
    "start_time": "2023-09-07T18:11:03.101Z"
   },
   {
    "duration": 7,
    "start_time": "2023-09-07T18:11:52.098Z"
   },
   {
    "duration": 4352,
    "start_time": "2023-09-07T18:12:42.215Z"
   },
   {
    "duration": 4360,
    "start_time": "2023-09-07T18:13:38.698Z"
   },
   {
    "duration": 4,
    "start_time": "2023-09-07T18:14:11.741Z"
   },
   {
    "duration": 4574,
    "start_time": "2023-09-07T18:14:32.032Z"
   },
   {
    "duration": 5,
    "start_time": "2023-09-07T18:14:36.607Z"
   },
   {
    "duration": 4525,
    "start_time": "2023-09-07T18:15:28.924Z"
   },
   {
    "duration": 3,
    "start_time": "2023-09-07T18:19:20.640Z"
   },
   {
    "duration": 53,
    "start_time": "2023-09-07T18:19:20.646Z"
   },
   {
    "duration": 44,
    "start_time": "2023-09-07T18:19:20.701Z"
   },
   {
    "duration": 27,
    "start_time": "2023-09-07T18:19:20.746Z"
   },
   {
    "duration": 18,
    "start_time": "2023-09-07T18:19:20.775Z"
   },
   {
    "duration": 36,
    "start_time": "2023-09-07T18:19:20.795Z"
   },
   {
    "duration": 11,
    "start_time": "2023-09-07T18:19:20.833Z"
   },
   {
    "duration": 183,
    "start_time": "2023-09-07T18:19:20.845Z"
   },
   {
    "duration": 454,
    "start_time": "2023-09-07T18:19:21.030Z"
   },
   {
    "duration": 191,
    "start_time": "2023-09-07T18:19:21.485Z"
   },
   {
    "duration": 942,
    "start_time": "2023-09-07T18:19:21.679Z"
   },
   {
    "duration": 630,
    "start_time": "2023-09-07T18:19:22.622Z"
   },
   {
    "duration": 32,
    "start_time": "2023-09-07T18:19:23.254Z"
   },
   {
    "duration": 49,
    "start_time": "2023-09-07T18:19:23.288Z"
   },
   {
    "duration": 25,
    "start_time": "2023-09-07T18:19:23.339Z"
   },
   {
    "duration": 24,
    "start_time": "2023-09-07T18:19:23.366Z"
   },
   {
    "duration": 537,
    "start_time": "2023-09-07T18:19:23.392Z"
   },
   {
    "duration": 866,
    "start_time": "2023-09-07T18:19:23.931Z"
   },
   {
    "duration": 46,
    "start_time": "2023-09-07T18:19:24.799Z"
   },
   {
    "duration": 1482,
    "start_time": "2023-09-07T18:19:24.847Z"
   },
   {
    "duration": 0,
    "start_time": "2023-09-07T18:19:26.331Z"
   },
   {
    "duration": 0,
    "start_time": "2023-09-07T18:19:26.332Z"
   },
   {
    "duration": 0,
    "start_time": "2023-09-07T18:19:26.333Z"
   },
   {
    "duration": 0,
    "start_time": "2023-09-07T18:19:26.334Z"
   },
   {
    "duration": 0,
    "start_time": "2023-09-07T18:19:26.336Z"
   },
   {
    "duration": 0,
    "start_time": "2023-09-07T18:19:26.337Z"
   },
   {
    "duration": 0,
    "start_time": "2023-09-07T18:19:26.338Z"
   },
   {
    "duration": 0,
    "start_time": "2023-09-07T18:19:26.339Z"
   },
   {
    "duration": 0,
    "start_time": "2023-09-07T18:19:26.340Z"
   },
   {
    "duration": 12,
    "start_time": "2023-09-07T18:20:54.262Z"
   },
   {
    "duration": 4761,
    "start_time": "2023-09-07T18:42:02.639Z"
   },
   {
    "duration": 4534,
    "start_time": "2023-09-07T18:42:55.306Z"
   },
   {
    "duration": 5,
    "start_time": "2023-09-07T18:50:41.041Z"
   },
   {
    "duration": 4,
    "start_time": "2023-09-07T18:50:55.053Z"
   },
   {
    "duration": 4,
    "start_time": "2023-09-07T18:50:57.903Z"
   },
   {
    "duration": 4,
    "start_time": "2023-09-07T18:51:02.059Z"
   },
   {
    "duration": 4,
    "start_time": "2023-09-07T18:51:04.697Z"
   },
   {
    "duration": 4,
    "start_time": "2023-09-07T18:51:15.515Z"
   },
   {
    "duration": 6,
    "start_time": "2023-09-07T18:53:53.760Z"
   },
   {
    "duration": 7,
    "start_time": "2023-09-07T18:54:05.917Z"
   },
   {
    "duration": 4087,
    "start_time": "2023-09-07T18:54:36.922Z"
   },
   {
    "duration": 3,
    "start_time": "2023-09-07T18:55:29.335Z"
   },
   {
    "duration": 43,
    "start_time": "2023-09-07T18:55:29.340Z"
   },
   {
    "duration": 57,
    "start_time": "2023-09-07T18:55:29.384Z"
   },
   {
    "duration": 32,
    "start_time": "2023-09-07T18:55:29.443Z"
   },
   {
    "duration": 19,
    "start_time": "2023-09-07T18:55:29.477Z"
   },
   {
    "duration": 39,
    "start_time": "2023-09-07T18:55:29.498Z"
   },
   {
    "duration": 12,
    "start_time": "2023-09-07T18:55:29.539Z"
   },
   {
    "duration": 187,
    "start_time": "2023-09-07T18:55:29.552Z"
   },
   {
    "duration": 213,
    "start_time": "2023-09-07T18:55:29.741Z"
   },
   {
    "duration": 185,
    "start_time": "2023-09-07T18:55:29.955Z"
   },
   {
    "duration": 1131,
    "start_time": "2023-09-07T18:55:30.142Z"
   },
   {
    "duration": 559,
    "start_time": "2023-09-07T18:55:31.275Z"
   },
   {
    "duration": 27,
    "start_time": "2023-09-07T18:55:31.836Z"
   },
   {
    "duration": 27,
    "start_time": "2023-09-07T18:55:31.866Z"
   },
   {
    "duration": 45,
    "start_time": "2023-09-07T18:55:31.895Z"
   },
   {
    "duration": 25,
    "start_time": "2023-09-07T18:55:31.941Z"
   },
   {
    "duration": 676,
    "start_time": "2023-09-07T18:55:31.968Z"
   },
   {
    "duration": 795,
    "start_time": "2023-09-07T18:55:32.646Z"
   },
   {
    "duration": 4595,
    "start_time": "2023-09-07T18:55:33.443Z"
   },
   {
    "duration": 7,
    "start_time": "2023-09-07T18:55:38.040Z"
   },
   {
    "duration": 201,
    "start_time": "2023-09-07T18:55:38.049Z"
   },
   {
    "duration": 130,
    "start_time": "2023-09-07T18:55:38.252Z"
   },
   {
    "duration": 421,
    "start_time": "2023-09-07T18:55:38.384Z"
   },
   {
    "duration": 151,
    "start_time": "2023-09-07T18:55:38.806Z"
   },
   {
    "duration": 2849,
    "start_time": "2023-09-07T18:55:38.959Z"
   },
   {
    "duration": 365,
    "start_time": "2023-09-07T18:55:41.810Z"
   },
   {
    "duration": 6,
    "start_time": "2023-09-07T18:55:42.177Z"
   },
   {
    "duration": 232,
    "start_time": "2023-09-07T18:55:42.184Z"
   },
   {
    "duration": 14,
    "start_time": "2023-09-07T18:56:07.995Z"
   },
   {
    "duration": 318,
    "start_time": "2023-09-07T18:57:17.982Z"
   },
   {
    "duration": 303,
    "start_time": "2023-09-07T18:57:35.393Z"
   },
   {
    "duration": 120,
    "start_time": "2023-09-07T19:00:58.438Z"
   },
   {
    "duration": 298,
    "start_time": "2023-09-07T19:02:16.491Z"
   },
   {
    "duration": 91,
    "start_time": "2023-09-07T19:02:37.960Z"
   },
   {
    "duration": 302,
    "start_time": "2023-09-07T19:02:56.818Z"
   },
   {
    "duration": 610,
    "start_time": "2023-09-07T19:03:25.145Z"
   },
   {
    "duration": 104,
    "start_time": "2023-09-07T19:07:34.258Z"
   },
   {
    "duration": 5,
    "start_time": "2023-09-07T19:08:57.684Z"
   },
   {
    "duration": 6,
    "start_time": "2023-09-07T19:09:02.810Z"
   },
   {
    "duration": 630,
    "start_time": "2023-09-07T19:09:18.755Z"
   },
   {
    "duration": 51,
    "start_time": "2023-09-07T19:09:19.386Z"
   },
   {
    "duration": 43,
    "start_time": "2023-09-07T19:09:19.438Z"
   },
   {
    "duration": 29,
    "start_time": "2023-09-07T19:09:19.483Z"
   },
   {
    "duration": 28,
    "start_time": "2023-09-07T19:09:19.513Z"
   },
   {
    "duration": 14,
    "start_time": "2023-09-07T19:09:19.543Z"
   },
   {
    "duration": 10,
    "start_time": "2023-09-07T19:09:19.559Z"
   },
   {
    "duration": 195,
    "start_time": "2023-09-07T19:09:19.570Z"
   },
   {
    "duration": 217,
    "start_time": "2023-09-07T19:09:19.767Z"
   },
   {
    "duration": 183,
    "start_time": "2023-09-07T19:09:19.987Z"
   },
   {
    "duration": 1040,
    "start_time": "2023-09-07T19:09:20.171Z"
   },
   {
    "duration": 632,
    "start_time": "2023-09-07T19:09:21.213Z"
   },
   {
    "duration": 27,
    "start_time": "2023-09-07T19:09:21.848Z"
   },
   {
    "duration": 27,
    "start_time": "2023-09-07T19:09:21.877Z"
   },
   {
    "duration": 39,
    "start_time": "2023-09-07T19:09:21.905Z"
   },
   {
    "duration": 23,
    "start_time": "2023-09-07T19:09:21.946Z"
   },
   {
    "duration": 538,
    "start_time": "2023-09-07T19:09:21.971Z"
   },
   {
    "duration": 788,
    "start_time": "2023-09-07T19:09:22.510Z"
   },
   {
    "duration": 4653,
    "start_time": "2023-09-07T19:09:23.299Z"
   },
   {
    "duration": 438,
    "start_time": "2023-09-07T19:09:27.954Z"
   },
   {
    "duration": 7,
    "start_time": "2023-09-07T19:09:28.394Z"
   },
   {
    "duration": 339,
    "start_time": "2023-09-07T19:09:28.402Z"
   },
   {
    "duration": 144,
    "start_time": "2023-09-07T19:09:28.743Z"
   },
   {
    "duration": 2973,
    "start_time": "2023-09-07T19:09:28.889Z"
   },
   {
    "duration": 351,
    "start_time": "2023-09-07T19:09:31.863Z"
   },
   {
    "duration": 15,
    "start_time": "2023-09-07T19:09:32.216Z"
   },
   {
    "duration": 243,
    "start_time": "2023-09-07T19:09:32.241Z"
   },
   {
    "duration": 4489,
    "start_time": "2023-09-07T19:10:17.322Z"
   },
   {
    "duration": 628,
    "start_time": "2023-09-07T19:10:35.280Z"
   },
   {
    "duration": 62,
    "start_time": "2023-09-07T19:10:35.912Z"
   },
   {
    "duration": 56,
    "start_time": "2023-09-07T19:10:35.976Z"
   },
   {
    "duration": 31,
    "start_time": "2023-09-07T19:10:36.039Z"
   },
   {
    "duration": 20,
    "start_time": "2023-09-07T19:10:36.074Z"
   },
   {
    "duration": 16,
    "start_time": "2023-09-07T19:10:36.096Z"
   },
   {
    "duration": 16,
    "start_time": "2023-09-07T19:10:36.124Z"
   },
   {
    "duration": 199,
    "start_time": "2023-09-07T19:10:36.143Z"
   },
   {
    "duration": 211,
    "start_time": "2023-09-07T19:10:36.344Z"
   },
   {
    "duration": 184,
    "start_time": "2023-09-07T19:10:36.557Z"
   },
   {
    "duration": 1009,
    "start_time": "2023-09-07T19:10:36.743Z"
   },
   {
    "duration": 625,
    "start_time": "2023-09-07T19:10:37.753Z"
   },
   {
    "duration": 26,
    "start_time": "2023-09-07T19:10:38.380Z"
   },
   {
    "duration": 34,
    "start_time": "2023-09-07T19:10:38.424Z"
   },
   {
    "duration": 24,
    "start_time": "2023-09-07T19:10:38.460Z"
   },
   {
    "duration": 54,
    "start_time": "2023-09-07T19:10:38.486Z"
   },
   {
    "duration": 512,
    "start_time": "2023-09-07T19:10:38.542Z"
   },
   {
    "duration": 786,
    "start_time": "2023-09-07T19:10:39.056Z"
   },
   {
    "duration": 4565,
    "start_time": "2023-09-07T19:10:39.844Z"
   },
   {
    "duration": 430,
    "start_time": "2023-09-07T19:10:44.411Z"
   },
   {
    "duration": 8,
    "start_time": "2023-09-07T19:10:44.842Z"
   },
   {
    "duration": 326,
    "start_time": "2023-09-07T19:10:44.851Z"
   },
   {
    "duration": 149,
    "start_time": "2023-09-07T19:10:45.178Z"
   },
   {
    "duration": 2955,
    "start_time": "2023-09-07T19:10:45.329Z"
   },
   {
    "duration": 351,
    "start_time": "2023-09-07T19:10:48.285Z"
   },
   {
    "duration": 5,
    "start_time": "2023-09-07T19:10:48.638Z"
   },
   {
    "duration": 215,
    "start_time": "2023-09-07T19:10:48.645Z"
   },
   {
    "duration": 779,
    "start_time": "2023-09-08T06:22:04.408Z"
   },
   {
    "duration": 104,
    "start_time": "2023-09-08T06:22:05.189Z"
   },
   {
    "duration": 173,
    "start_time": "2023-09-08T06:22:05.295Z"
   },
   {
    "duration": 67,
    "start_time": "2023-09-08T06:22:05.470Z"
   },
   {
    "duration": 24,
    "start_time": "2023-09-08T06:22:05.539Z"
   },
   {
    "duration": 14,
    "start_time": "2023-09-08T06:22:05.564Z"
   },
   {
    "duration": 25,
    "start_time": "2023-09-08T06:22:05.579Z"
   },
   {
    "duration": 168,
    "start_time": "2023-09-08T06:22:05.606Z"
   },
   {
    "duration": 215,
    "start_time": "2023-09-08T06:22:05.776Z"
   },
   {
    "duration": 218,
    "start_time": "2023-09-08T06:22:05.994Z"
   },
   {
    "duration": 923,
    "start_time": "2023-09-08T06:22:06.213Z"
   },
   {
    "duration": 573,
    "start_time": "2023-09-08T06:22:07.143Z"
   },
   {
    "duration": 38,
    "start_time": "2023-09-08T06:22:07.718Z"
   },
   {
    "duration": 29,
    "start_time": "2023-09-08T06:22:07.757Z"
   },
   {
    "duration": 28,
    "start_time": "2023-09-08T06:22:07.787Z"
   },
   {
    "duration": 52,
    "start_time": "2023-09-08T06:22:07.816Z"
   },
   {
    "duration": 509,
    "start_time": "2023-09-08T06:22:07.870Z"
   },
   {
    "duration": 822,
    "start_time": "2023-09-08T06:22:08.380Z"
   },
   {
    "duration": 5875,
    "start_time": "2023-09-08T06:22:09.203Z"
   },
   {
    "duration": 606,
    "start_time": "2023-09-08T06:22:15.080Z"
   },
   {
    "duration": 6,
    "start_time": "2023-09-08T06:22:15.687Z"
   },
   {
    "duration": 609,
    "start_time": "2023-09-08T06:22:15.744Z"
   },
   {
    "duration": 299,
    "start_time": "2023-09-08T06:22:16.354Z"
   },
   {
    "duration": 4929,
    "start_time": "2023-09-08T06:22:16.655Z"
   },
   {
    "duration": 520,
    "start_time": "2023-09-08T06:22:21.586Z"
   },
   {
    "duration": 5,
    "start_time": "2023-09-08T06:22:22.144Z"
   },
   {
    "duration": 348,
    "start_time": "2023-09-08T06:22:22.151Z"
   },
   {
    "duration": 102,
    "start_time": "2023-09-08T06:24:11.877Z"
   },
   {
    "duration": 13,
    "start_time": "2023-09-08T06:25:46.764Z"
   }
  ],
  "kernelspec": {
   "display_name": "Python 3 (ipykernel)",
   "language": "python",
   "name": "python3"
  },
  "language_info": {
   "codemirror_mode": {
    "name": "ipython",
    "version": 3
   },
   "file_extension": ".py",
   "mimetype": "text/x-python",
   "name": "python",
   "nbconvert_exporter": "python",
   "pygments_lexer": "ipython3",
   "version": "3.12.2"
  },
  "toc": {
   "base_numbering": 1,
   "nav_menu": {},
   "number_sections": true,
   "sideBar": true,
   "skip_h1_title": true,
   "title_cell": "Table of Contents",
   "title_sidebar": "Contents",
   "toc_cell": false,
   "toc_position": {},
   "toc_section_display": true,
   "toc_window_display": false
  }
 },
 "nbformat": 4,
 "nbformat_minor": 5
}
