{
 "cells": [
  {
   "cell_type": "markdown",
   "metadata": {},
   "source": [
    "# Классификатор комментариев"
   ]
  },
  {
   "cell_type": "markdown",
   "metadata": {},
   "source": [
    "Интернет-магазин запускает новый сервис. Теперь пользователи могут редактировать и дополнять описания товаров, как в вики-сообществах. Магазину нужен инструмент, который будет искать токсичные комментарии и отправлять их на модерацию. \n",
    "\n",
    "Необходимо обучить модель классифицировать комментарии на позитивные и негативные, опираясь на набор данных с разметкой о токсичности правок. Необходимо построить модель со значением метрики качества F1 не меньше 0.75. \n",
    "\n",
    "Данные находятся в файле `toxic_comments.csv`. Столбец *text* в нём содержит текст комментария, а *toxic* — целевой признак."
   ]
  },
  {
   "cell_type": "markdown",
   "metadata": {},
   "source": [
    "## Подготовка"
   ]
  },
  {
   "cell_type": "code",
   "execution_count": 1,
   "metadata": {},
   "outputs": [],
   "source": [
    "# Импорт библиотек\n",
    "\n",
    "import numpy as np\n",
    "\n",
    "import pandas as pd\n",
    "\n",
    "import matplotlib.pyplot as plt\n",
    "\n",
    "import seaborn as sns\n",
    "\n",
    "from sklearn.linear_model import LogisticRegression\n",
    "from sklearn.model_selection import cross_val_score, train_test_split\n",
    "from sklearn.feature_extraction.text import TfidfVectorizer\n",
    "from sklearn.metrics import f1_score, classification_report, confusion_matrix, accuracy_score, precision_score, recall_score, roc_auc_score, roc_curve, auc\n",
    "from sklearn.dummy import DummyClassifier\n",
    "\n",
    "from catboost import CatBoostClassifier\n",
    "\n",
    "import nltk\n",
    "from nltk.corpus import stopwords as nltk_stopwords\n",
    "from nltk.tokenize import word_tokenize\n",
    "from nltk.stem import WordNetLemmatizer\n",
    "\n",
    "import random\n",
    "\n",
    "from tqdm import tqdm\n",
    "\n",
    "from itertools import chain\n",
    "\n",
    "import spacy\n",
    "\n",
    "import re\n"
   ]
  },
  {
   "cell_type": "code",
   "execution_count": 2,
   "metadata": {},
   "outputs": [
    {
     "data": {
      "text/html": [
       "<div>\n",
       "<style scoped>\n",
       "    .dataframe tbody tr th:only-of-type {\n",
       "        vertical-align: middle;\n",
       "    }\n",
       "\n",
       "    .dataframe tbody tr th {\n",
       "        vertical-align: top;\n",
       "    }\n",
       "\n",
       "    .dataframe thead th {\n",
       "        text-align: right;\n",
       "    }\n",
       "</style>\n",
       "<table border=\"1\" class=\"dataframe\">\n",
       "  <thead>\n",
       "    <tr style=\"text-align: right;\">\n",
       "      <th></th>\n",
       "      <th>text</th>\n",
       "      <th>toxic</th>\n",
       "    </tr>\n",
       "  </thead>\n",
       "  <tbody>\n",
       "    <tr>\n",
       "      <th>30987</th>\n",
       "      <td>\"\\n\"\"Families, couples and individuals are wel...</td>\n",
       "      <td>1</td>\n",
       "    </tr>\n",
       "    <tr>\n",
       "      <th>36350</th>\n",
       "      <td>HELP \\n\\nHEY BUDDY I DON'T LIKE AT ALL!!!  \\n\\...</td>\n",
       "      <td>0</td>\n",
       "    </tr>\n",
       "    <tr>\n",
       "      <th>20578</th>\n",
       "      <td>Oh come,  on not again.  Admins, stop wasting ...</td>\n",
       "      <td>1</td>\n",
       "    </tr>\n",
       "    <tr>\n",
       "      <th>93978</th>\n",
       "      <td>That sounds like a nice segue into a busing se...</td>\n",
       "      <td>0</td>\n",
       "    </tr>\n",
       "    <tr>\n",
       "      <th>25254</th>\n",
       "      <td>Yellow Evan block \\n\\nI'm sorry if I'm putting...</td>\n",
       "      <td>0</td>\n",
       "    </tr>\n",
       "  </tbody>\n",
       "</table>\n",
       "</div>"
      ],
      "text/plain": [
       "                                                    text  toxic\n",
       "30987  \"\\n\"\"Families, couples and individuals are wel...      1\n",
       "36350  HELP \\n\\nHEY BUDDY I DON'T LIKE AT ALL!!!  \\n\\...      0\n",
       "20578  Oh come,  on not again.  Admins, stop wasting ...      1\n",
       "93978  That sounds like a nice segue into a busing se...      0\n",
       "25254  Yellow Evan block \\n\\nI'm sorry if I'm putting...      0"
      ]
     },
     "metadata": {},
     "output_type": "display_data"
    },
    {
     "name": "stdout",
     "output_type": "stream",
     "text": [
      "<class 'pandas.core.frame.DataFrame'>\n",
      "RangeIndex: 159292 entries, 0 to 159291\n",
      "Data columns (total 2 columns):\n",
      " #   Column  Non-Null Count   Dtype \n",
      "---  ------  --------------   ----- \n",
      " 0   text    159292 non-null  object\n",
      " 1   toxic   159292 non-null  int64 \n",
      "dtypes: int64(1), object(1)\n",
      "memory usage: 2.4+ MB\n"
     ]
    },
    {
     "data": {
      "text/plain": [
       "None"
      ]
     },
     "metadata": {},
     "output_type": "display_data"
    }
   ],
   "source": [
    "# Загрузка данных\n",
    "\n",
    "df = pd.read_csv('/datasets/toxic_comments.csv')\n",
    "df_tweets = df[['text', 'toxic']]\n",
    "df_tweets.reset_index(drop=True, inplace=True)\n",
    "display(df_tweets.sample(5))\n",
    "display(df_tweets.info())"
   ]
  },
  {
   "cell_type": "code",
   "execution_count": 3,
   "metadata": {},
   "outputs": [
    {
     "name": "stdout",
     "output_type": "stream",
     "text": [
      "0\n",
      "0\n"
     ]
    }
   ],
   "source": [
    "# Проверка на пустые строки в исходных данных\n",
    "\n",
    "print(df_tweets['text'].isnull().sum())\n",
    "print(df_tweets['toxic'].isnull().sum())"
   ]
  },
  {
   "cell_type": "code",
   "execution_count": 4,
   "metadata": {},
   "outputs": [
    {
     "name": "stdout",
     "output_type": "stream",
     "text": [
      "Empty DataFrame\n",
      "Columns: [text, toxic]\n",
      "Index: []\n"
     ]
    }
   ],
   "source": [
    "# Проверка дубликатов\n",
    "\n",
    "print(df_tweets[df_tweets['text'].duplicated()])"
   ]
  },
  {
   "cell_type": "code",
   "execution_count": 5,
   "metadata": {},
   "outputs": [
    {
     "data": {
      "image/png": "[encoded data removed]",
      "text/plain": [
       "<Figure size 432x432 with 1 Axes>"
      ]
     },
     "metadata": {},
     "output_type": "display_data"
    }
   ],
   "source": [
    "# Анализ долей токсичных и обычных комментариев\n",
    "\n",
    "value_counts = df_tweets['toxic'].value_counts()\n",
    "\n",
    "# Построение pie диаграммы классов\n",
    "\n",
    "plt.figure(figsize=(6, 6))\n",
    "plt.pie(value_counts, labels=value_counts.index, autopct='%1.1f%%', startangle=90)\n",
    "plt.title('Доля токсичных комментариев в датасете')\n",
    "plt.axis('equal') \n",
    "plt.show()"
   ]
  },
  {
   "cell_type": "code",
   "execution_count": 6,
   "metadata": {},
   "outputs": [
    {
     "name": "stderr",
     "output_type": "stream",
     "text": [
      "  0%|          | 0/160 [00:00<?, ?it/s]/tmp/ipykernel_134/3395822895.py:29: SettingWithCopyWarning: \n",
      "A value is trying to be set on a copy of a slice from a DataFrame.\n",
      "Try using .loc[row_indexer,col_indexer] = value instead\n",
      "\n",
      "See the caveats in the documentation: https://pandas.pydata.org/pandas-docs/stable/user_guide/indexing.html#returning-a-view-versus-a-copy\n",
      "  batch_df['cleaned_text'] = batch_df['text'].apply(clean_text)\n",
      "/tmp/ipykernel_134/3395822895.py:30: SettingWithCopyWarning: \n",
      "A value is trying to be set on a copy of a slice from a DataFrame.\n",
      "Try using .loc[row_indexer,col_indexer] = value instead\n",
      "\n",
      "See the caveats in the documentation: https://pandas.pydata.org/pandas-docs/stable/user_guide/indexing.html#returning-a-view-versus-a-copy\n",
      "  batch_df['lemmatized_text'] = batch_df['cleaned_text'].apply(lemmatize_with_pos_spacy)\n",
      "  1%|          | 1/160 [00:14<37:52, 14.29s/it]"
     ]
    },
    {
     "name": "stdout",
     "output_type": "stream",
     "text": [
      "Processed batch 1/160\n"
     ]
    },
    {
     "name": "stderr",
     "output_type": "stream",
     "text": [
      "  1%|▏         | 2/160 [00:28<38:05, 14.47s/it]"
     ]
    },
    {
     "name": "stdout",
     "output_type": "stream",
     "text": [
      "Processed batch 2/160\n"
     ]
    },
    {
     "name": "stderr",
     "output_type": "stream",
     "text": [
      "  2%|▏         | 3/160 [00:57<54:44, 20.92s/it]"
     ]
    },
    {
     "name": "stdout",
     "output_type": "stream",
     "text": [
      "Processed batch 3/160\n"
     ]
    },
    {
     "name": "stderr",
     "output_type": "stream",
     "text": [
      "  2%|▎         | 4/160 [01:26<1:02:52, 24.18s/it]"
     ]
    },
    {
     "name": "stdout",
     "output_type": "stream",
     "text": [
      "Processed batch 4/160\n"
     ]
    },
    {
     "name": "stderr",
     "output_type": "stream",
     "text": [
      "  3%|▎         | 5/160 [01:55<1:06:30, 25.75s/it]"
     ]
    },
    {
     "name": "stdout",
     "output_type": "stream",
     "text": [
      "Processed batch 5/160\n"
     ]
    },
    {
     "name": "stderr",
     "output_type": "stream",
     "text": [
      "  4%|▍         | 6/160 [02:23<1:08:44, 26.78s/it]"
     ]
    },
    {
     "name": "stdout",
     "output_type": "stream",
     "text": [
      "Processed batch 6/160\n"
     ]
    },
    {
     "name": "stderr",
     "output_type": "stream",
     "text": [
      "  4%|▍         | 7/160 [02:51<1:09:13, 27.15s/it]"
     ]
    },
    {
     "name": "stdout",
     "output_type": "stream",
     "text": [
      "Processed batch 7/160\n"
     ]
    },
    {
     "name": "stderr",
     "output_type": "stream",
     "text": [
      "  5%|▌         | 8/160 [03:20<1:10:00, 27.64s/it]"
     ]
    },
    {
     "name": "stdout",
     "output_type": "stream",
     "text": [
      "Processed batch 8/160\n"
     ]
    },
    {
     "name": "stderr",
     "output_type": "stream",
     "text": [
      "  6%|▌         | 9/160 [03:47<1:09:18, 27.54s/it]"
     ]
    },
    {
     "name": "stdout",
     "output_type": "stream",
     "text": [
      "Processed batch 9/160\n"
     ]
    },
    {
     "name": "stderr",
     "output_type": "stream",
     "text": [
      "  6%|▋         | 10/160 [04:15<1:08:56, 27.58s/it]"
     ]
    },
    {
     "name": "stdout",
     "output_type": "stream",
     "text": [
      "Processed batch 10/160\n"
     ]
    },
    {
     "name": "stderr",
     "output_type": "stream",
     "text": [
      "  7%|▋         | 11/160 [04:43<1:09:02, 27.80s/it]"
     ]
    },
    {
     "name": "stdout",
     "output_type": "stream",
     "text": [
      "Processed batch 11/160\n"
     ]
    },
    {
     "name": "stderr",
     "output_type": "stream",
     "text": [
      "  8%|▊         | 12/160 [05:12<1:09:15, 28.07s/it]"
     ]
    },
    {
     "name": "stdout",
     "output_type": "stream",
     "text": [
      "Processed batch 12/160\n"
     ]
    },
    {
     "name": "stderr",
     "output_type": "stream",
     "text": [
      "  8%|▊         | 13/160 [05:39<1:07:50, 27.69s/it]"
     ]
    },
    {
     "name": "stdout",
     "output_type": "stream",
     "text": [
      "Processed batch 13/160\n"
     ]
    },
    {
     "name": "stderr",
     "output_type": "stream",
     "text": [
      "  9%|▉         | 14/160 [06:07<1:07:59, 27.94s/it]"
     ]
    },
    {
     "name": "stdout",
     "output_type": "stream",
     "text": [
      "Processed batch 14/160\n"
     ]
    },
    {
     "name": "stderr",
     "output_type": "stream",
     "text": [
      "  9%|▉         | 15/160 [06:35<1:07:20, 27.87s/it]"
     ]
    },
    {
     "name": "stdout",
     "output_type": "stream",
     "text": [
      "Processed batch 15/160\n"
     ]
    },
    {
     "name": "stderr",
     "output_type": "stream",
     "text": [
      " 10%|█         | 16/160 [07:02<1:06:15, 27.61s/it]"
     ]
    },
    {
     "name": "stdout",
     "output_type": "stream",
     "text": [
      "Processed batch 16/160\n"
     ]
    },
    {
     "name": "stderr",
     "output_type": "stream",
     "text": [
      " 11%|█         | 17/160 [07:30<1:06:15, 27.80s/it]"
     ]
    },
    {
     "name": "stdout",
     "output_type": "stream",
     "text": [
      "Processed batch 17/160\n"
     ]
    },
    {
     "name": "stderr",
     "output_type": "stream",
     "text": [
      " 11%|█▏        | 18/160 [07:51<1:00:47, 25.68s/it]"
     ]
    },
    {
     "name": "stdout",
     "output_type": "stream",
     "text": [
      "Processed batch 18/160\n"
     ]
    },
    {
     "name": "stderr",
     "output_type": "stream",
     "text": [
      " 12%|█▏        | 19/160 [08:04<51:32, 21.93s/it]  "
     ]
    },
    {
     "name": "stdout",
     "output_type": "stream",
     "text": [
      "Processed batch 19/160\n"
     ]
    },
    {
     "name": "stderr",
     "output_type": "stream",
     "text": [
      " 12%|█▎        | 20/160 [08:16<44:14, 18.96s/it]"
     ]
    },
    {
     "name": "stdout",
     "output_type": "stream",
     "text": [
      "Processed batch 20/160\n"
     ]
    },
    {
     "name": "stderr",
     "output_type": "stream",
     "text": [
      " 13%|█▎        | 21/160 [08:29<39:12, 16.93s/it]"
     ]
    },
    {
     "name": "stdout",
     "output_type": "stream",
     "text": [
      "Processed batch 21/160\n"
     ]
    },
    {
     "name": "stderr",
     "output_type": "stream",
     "text": [
      " 14%|█▍        | 22/160 [08:41<35:59, 15.65s/it]"
     ]
    },
    {
     "name": "stdout",
     "output_type": "stream",
     "text": [
      "Processed batch 22/160\n"
     ]
    },
    {
     "name": "stderr",
     "output_type": "stream",
     "text": [
      " 14%|█▍        | 23/160 [08:54<33:30, 14.68s/it]"
     ]
    },
    {
     "name": "stdout",
     "output_type": "stream",
     "text": [
      "Processed batch 23/160\n"
     ]
    },
    {
     "name": "stderr",
     "output_type": "stream",
     "text": [
      " 15%|█▌        | 24/160 [09:06<32:01, 14.13s/it]"
     ]
    },
    {
     "name": "stdout",
     "output_type": "stream",
     "text": [
      "Processed batch 24/160\n"
     ]
    },
    {
     "name": "stderr",
     "output_type": "stream",
     "text": [
      " 16%|█▌        | 25/160 [09:19<30:54, 13.74s/it]"
     ]
    },
    {
     "name": "stdout",
     "output_type": "stream",
     "text": [
      "Processed batch 25/160\n"
     ]
    },
    {
     "name": "stderr",
     "output_type": "stream",
     "text": [
      " 16%|█▋        | 26/160 [09:32<29:43, 13.31s/it]"
     ]
    },
    {
     "name": "stdout",
     "output_type": "stream",
     "text": [
      "Processed batch 26/160\n"
     ]
    },
    {
     "name": "stderr",
     "output_type": "stream",
     "text": [
      " 17%|█▋        | 27/160 [09:44<29:05, 13.12s/it]"
     ]
    },
    {
     "name": "stdout",
     "output_type": "stream",
     "text": [
      "Processed batch 27/160\n"
     ]
    },
    {
     "name": "stderr",
     "output_type": "stream",
     "text": [
      " 18%|█▊        | 28/160 [09:58<29:02, 13.20s/it]"
     ]
    },
    {
     "name": "stdout",
     "output_type": "stream",
     "text": [
      "Processed batch 28/160\n"
     ]
    },
    {
     "name": "stderr",
     "output_type": "stream",
     "text": [
      " 18%|█▊        | 29/160 [10:10<28:30, 13.06s/it]"
     ]
    },
    {
     "name": "stdout",
     "output_type": "stream",
     "text": [
      "Processed batch 29/160\n"
     ]
    },
    {
     "name": "stderr",
     "output_type": "stream",
     "text": [
      " 19%|█▉        | 30/160 [10:23<28:00, 12.92s/it]"
     ]
    },
    {
     "name": "stdout",
     "output_type": "stream",
     "text": [
      "Processed batch 30/160\n"
     ]
    },
    {
     "name": "stderr",
     "output_type": "stream",
     "text": [
      " 19%|█▉        | 31/160 [10:36<27:46, 12.92s/it]"
     ]
    },
    {
     "name": "stdout",
     "output_type": "stream",
     "text": [
      "Processed batch 31/160\n"
     ]
    },
    {
     "name": "stderr",
     "output_type": "stream",
     "text": [
      " 20%|██        | 32/160 [10:49<27:35, 12.93s/it]"
     ]
    },
    {
     "name": "stdout",
     "output_type": "stream",
     "text": [
      "Processed batch 32/160\n"
     ]
    },
    {
     "name": "stderr",
     "output_type": "stream",
     "text": [
      " 21%|██        | 33/160 [11:02<27:30, 13.00s/it]"
     ]
    },
    {
     "name": "stdout",
     "output_type": "stream",
     "text": [
      "Processed batch 33/160\n"
     ]
    },
    {
     "name": "stderr",
     "output_type": "stream",
     "text": [
      " 21%|██▏       | 34/160 [11:15<27:23, 13.04s/it]"
     ]
    },
    {
     "name": "stdout",
     "output_type": "stream",
     "text": [
      "Processed batch 34/160\n"
     ]
    },
    {
     "name": "stderr",
     "output_type": "stream",
     "text": [
      " 22%|██▏       | 35/160 [11:28<27:11, 13.05s/it]"
     ]
    },
    {
     "name": "stdout",
     "output_type": "stream",
     "text": [
      "Processed batch 35/160\n"
     ]
    },
    {
     "name": "stderr",
     "output_type": "stream",
     "text": [
      " 22%|██▎       | 36/160 [11:42<27:17, 13.20s/it]"
     ]
    },
    {
     "name": "stdout",
     "output_type": "stream",
     "text": [
      "Processed batch 36/160\n"
     ]
    },
    {
     "name": "stderr",
     "output_type": "stream",
     "text": [
      " 23%|██▎       | 37/160 [11:55<27:05, 13.22s/it]"
     ]
    },
    {
     "name": "stdout",
     "output_type": "stream",
     "text": [
      "Processed batch 37/160\n"
     ]
    },
    {
     "name": "stderr",
     "output_type": "stream",
     "text": [
      " 24%|██▍       | 38/160 [12:08<26:33, 13.06s/it]"
     ]
    },
    {
     "name": "stdout",
     "output_type": "stream",
     "text": [
      "Processed batch 38/160\n"
     ]
    },
    {
     "name": "stderr",
     "output_type": "stream",
     "text": [
      " 24%|██▍       | 39/160 [12:21<26:18, 13.05s/it]"
     ]
    },
    {
     "name": "stdout",
     "output_type": "stream",
     "text": [
      "Processed batch 39/160\n"
     ]
    },
    {
     "name": "stderr",
     "output_type": "stream",
     "text": [
      " 25%|██▌       | 40/160 [12:33<25:40, 12.84s/it]"
     ]
    },
    {
     "name": "stdout",
     "output_type": "stream",
     "text": [
      "Processed batch 40/160\n"
     ]
    },
    {
     "name": "stderr",
     "output_type": "stream",
     "text": [
      " 26%|██▌       | 41/160 [12:46<25:14, 12.73s/it]"
     ]
    },
    {
     "name": "stdout",
     "output_type": "stream",
     "text": [
      "Processed batch 41/160\n"
     ]
    },
    {
     "name": "stderr",
     "output_type": "stream",
     "text": [
      " 26%|██▋       | 42/160 [12:58<24:52, 12.65s/it]"
     ]
    },
    {
     "name": "stdout",
     "output_type": "stream",
     "text": [
      "Processed batch 42/160\n"
     ]
    },
    {
     "name": "stderr",
     "output_type": "stream",
     "text": [
      " 27%|██▋       | 43/160 [13:11<24:50, 12.74s/it]"
     ]
    },
    {
     "name": "stdout",
     "output_type": "stream",
     "text": [
      "Processed batch 43/160\n"
     ]
    },
    {
     "name": "stderr",
     "output_type": "stream",
     "text": [
      " 28%|██▊       | 44/160 [13:23<24:12, 12.52s/it]"
     ]
    },
    {
     "name": "stdout",
     "output_type": "stream",
     "text": [
      "Processed batch 44/160\n"
     ]
    },
    {
     "name": "stderr",
     "output_type": "stream",
     "text": [
      " 28%|██▊       | 45/160 [13:36<24:03, 12.55s/it]"
     ]
    },
    {
     "name": "stdout",
     "output_type": "stream",
     "text": [
      "Processed batch 45/160\n"
     ]
    },
    {
     "name": "stderr",
     "output_type": "stream",
     "text": [
      " 29%|██▉       | 46/160 [13:48<23:35, 12.42s/it]"
     ]
    },
    {
     "name": "stdout",
     "output_type": "stream",
     "text": [
      "Processed batch 46/160\n"
     ]
    },
    {
     "name": "stderr",
     "output_type": "stream",
     "text": [
      " 29%|██▉       | 47/160 [14:01<23:51, 12.67s/it]"
     ]
    },
    {
     "name": "stdout",
     "output_type": "stream",
     "text": [
      "Processed batch 47/160\n"
     ]
    },
    {
     "name": "stderr",
     "output_type": "stream",
     "text": [
      " 30%|███       | 48/160 [14:14<23:42, 12.70s/it]"
     ]
    },
    {
     "name": "stdout",
     "output_type": "stream",
     "text": [
      "Processed batch 48/160\n"
     ]
    },
    {
     "name": "stderr",
     "output_type": "stream",
     "text": [
      " 31%|███       | 49/160 [14:27<23:32, 12.73s/it]"
     ]
    },
    {
     "name": "stdout",
     "output_type": "stream",
     "text": [
      "Processed batch 49/160\n"
     ]
    },
    {
     "name": "stderr",
     "output_type": "stream",
     "text": [
      " 31%|███▏      | 50/160 [14:39<23:16, 12.70s/it]"
     ]
    },
    {
     "name": "stdout",
     "output_type": "stream",
     "text": [
      "Processed batch 50/160\n"
     ]
    },
    {
     "name": "stderr",
     "output_type": "stream",
     "text": [
      " 32%|███▏      | 51/160 [14:52<23:10, 12.76s/it]"
     ]
    },
    {
     "name": "stdout",
     "output_type": "stream",
     "text": [
      "Processed batch 51/160\n"
     ]
    },
    {
     "name": "stderr",
     "output_type": "stream",
     "text": [
      " 32%|███▎      | 52/160 [15:05<23:15, 12.93s/it]"
     ]
    },
    {
     "name": "stdout",
     "output_type": "stream",
     "text": [
      "Processed batch 52/160\n"
     ]
    },
    {
     "name": "stderr",
     "output_type": "stream",
     "text": [
      " 33%|███▎      | 53/160 [15:19<23:09, 12.99s/it]"
     ]
    },
    {
     "name": "stdout",
     "output_type": "stream",
     "text": [
      "Processed batch 53/160\n"
     ]
    },
    {
     "name": "stderr",
     "output_type": "stream",
     "text": [
      " 34%|███▍      | 54/160 [15:32<23:14, 13.16s/it]"
     ]
    },
    {
     "name": "stdout",
     "output_type": "stream",
     "text": [
      "Processed batch 54/160\n"
     ]
    },
    {
     "name": "stderr",
     "output_type": "stream",
     "text": [
      " 34%|███▍      | 55/160 [15:45<22:59, 13.13s/it]"
     ]
    },
    {
     "name": "stdout",
     "output_type": "stream",
     "text": [
      "Processed batch 55/160\n"
     ]
    },
    {
     "name": "stderr",
     "output_type": "stream",
     "text": [
      " 35%|███▌      | 56/160 [15:59<23:02, 13.30s/it]"
     ]
    },
    {
     "name": "stdout",
     "output_type": "stream",
     "text": [
      "Processed batch 56/160\n"
     ]
    },
    {
     "name": "stderr",
     "output_type": "stream",
     "text": [
      " 36%|███▌      | 57/160 [16:12<22:47, 13.28s/it]"
     ]
    },
    {
     "name": "stdout",
     "output_type": "stream",
     "text": [
      "Processed batch 57/160\n"
     ]
    },
    {
     "name": "stderr",
     "output_type": "stream",
     "text": [
      " 36%|███▋      | 58/160 [16:25<22:24, 13.18s/it]"
     ]
    },
    {
     "name": "stdout",
     "output_type": "stream",
     "text": [
      "Processed batch 58/160\n"
     ]
    },
    {
     "name": "stderr",
     "output_type": "stream",
     "text": [
      " 37%|███▋      | 59/160 [16:38<21:54, 13.01s/it]"
     ]
    },
    {
     "name": "stdout",
     "output_type": "stream",
     "text": [
      "Processed batch 59/160\n"
     ]
    },
    {
     "name": "stderr",
     "output_type": "stream",
     "text": [
      " 38%|███▊      | 60/160 [16:50<21:35, 12.96s/it]"
     ]
    },
    {
     "name": "stdout",
     "output_type": "stream",
     "text": [
      "Processed batch 60/160\n"
     ]
    },
    {
     "name": "stderr",
     "output_type": "stream",
     "text": [
      " 38%|███▊      | 61/160 [17:03<21:05, 12.79s/it]"
     ]
    },
    {
     "name": "stdout",
     "output_type": "stream",
     "text": [
      "Processed batch 61/160\n"
     ]
    },
    {
     "name": "stderr",
     "output_type": "stream",
     "text": [
      " 39%|███▉      | 62/160 [17:16<21:00, 12.86s/it]"
     ]
    },
    {
     "name": "stdout",
     "output_type": "stream",
     "text": [
      "Processed batch 62/160\n"
     ]
    },
    {
     "name": "stderr",
     "output_type": "stream",
     "text": [
      " 39%|███▉      | 63/160 [17:29<20:59, 12.98s/it]"
     ]
    },
    {
     "name": "stdout",
     "output_type": "stream",
     "text": [
      "Processed batch 63/160\n"
     ]
    },
    {
     "name": "stderr",
     "output_type": "stream",
     "text": [
      " 40%|████      | 64/160 [17:42<20:48, 13.00s/it]"
     ]
    },
    {
     "name": "stdout",
     "output_type": "stream",
     "text": [
      "Processed batch 64/160\n"
     ]
    },
    {
     "name": "stderr",
     "output_type": "stream",
     "text": [
      " 41%|████      | 65/160 [17:55<20:20, 12.85s/it]"
     ]
    },
    {
     "name": "stdout",
     "output_type": "stream",
     "text": [
      "Processed batch 65/160\n"
     ]
    },
    {
     "name": "stderr",
     "output_type": "stream",
     "text": [
      " 41%|████▏     | 66/160 [18:07<19:57, 12.74s/it]"
     ]
    },
    {
     "name": "stdout",
     "output_type": "stream",
     "text": [
      "Processed batch 66/160\n"
     ]
    },
    {
     "name": "stderr",
     "output_type": "stream",
     "text": [
      " 42%|████▏     | 67/160 [18:21<20:04, 12.95s/it]"
     ]
    },
    {
     "name": "stdout",
     "output_type": "stream",
     "text": [
      "Processed batch 67/160\n"
     ]
    },
    {
     "name": "stderr",
     "output_type": "stream",
     "text": [
      " 42%|████▎     | 68/160 [18:33<19:27, 12.69s/it]"
     ]
    },
    {
     "name": "stdout",
     "output_type": "stream",
     "text": [
      "Processed batch 68/160\n"
     ]
    },
    {
     "name": "stderr",
     "output_type": "stream",
     "text": [
      " 43%|████▎     | 69/160 [18:45<19:08, 12.62s/it]"
     ]
    },
    {
     "name": "stdout",
     "output_type": "stream",
     "text": [
      "Processed batch 69/160\n"
     ]
    },
    {
     "name": "stderr",
     "output_type": "stream",
     "text": [
      " 44%|████▍     | 70/160 [18:58<18:57, 12.64s/it]"
     ]
    },
    {
     "name": "stdout",
     "output_type": "stream",
     "text": [
      "Processed batch 70/160\n"
     ]
    },
    {
     "name": "stderr",
     "output_type": "stream",
     "text": [
      " 44%|████▍     | 71/160 [19:11<18:51, 12.71s/it]"
     ]
    },
    {
     "name": "stdout",
     "output_type": "stream",
     "text": [
      "Processed batch 71/160\n"
     ]
    },
    {
     "name": "stderr",
     "output_type": "stream",
     "text": [
      " 45%|████▌     | 72/160 [19:23<18:36, 12.69s/it]"
     ]
    },
    {
     "name": "stdout",
     "output_type": "stream",
     "text": [
      "Processed batch 72/160\n"
     ]
    },
    {
     "name": "stderr",
     "output_type": "stream",
     "text": [
      " 46%|████▌     | 73/160 [19:36<18:28, 12.74s/it]"
     ]
    },
    {
     "name": "stdout",
     "output_type": "stream",
     "text": [
      "Processed batch 73/160\n"
     ]
    },
    {
     "name": "stderr",
     "output_type": "stream",
     "text": [
      " 46%|████▋     | 74/160 [19:49<18:14, 12.73s/it]"
     ]
    },
    {
     "name": "stdout",
     "output_type": "stream",
     "text": [
      "Processed batch 74/160\n"
     ]
    },
    {
     "name": "stderr",
     "output_type": "stream",
     "text": [
      " 47%|████▋     | 75/160 [20:03<18:24, 12.99s/it]"
     ]
    },
    {
     "name": "stdout",
     "output_type": "stream",
     "text": [
      "Processed batch 75/160\n"
     ]
    },
    {
     "name": "stderr",
     "output_type": "stream",
     "text": [
      " 48%|████▊     | 76/160 [20:16<18:29, 13.21s/it]"
     ]
    },
    {
     "name": "stdout",
     "output_type": "stream",
     "text": [
      "Processed batch 76/160\n"
     ]
    },
    {
     "name": "stderr",
     "output_type": "stream",
     "text": [
      " 48%|████▊     | 77/160 [20:30<18:18, 13.24s/it]"
     ]
    },
    {
     "name": "stdout",
     "output_type": "stream",
     "text": [
      "Processed batch 77/160\n"
     ]
    },
    {
     "name": "stderr",
     "output_type": "stream",
     "text": [
      " 49%|████▉     | 78/160 [20:43<18:18, 13.39s/it]"
     ]
    },
    {
     "name": "stdout",
     "output_type": "stream",
     "text": [
      "Processed batch 78/160\n"
     ]
    },
    {
     "name": "stderr",
     "output_type": "stream",
     "text": [
      " 49%|████▉     | 79/160 [20:56<17:42, 13.11s/it]"
     ]
    },
    {
     "name": "stdout",
     "output_type": "stream",
     "text": [
      "Processed batch 79/160\n"
     ]
    },
    {
     "name": "stderr",
     "output_type": "stream",
     "text": [
      " 50%|█████     | 80/160 [21:09<17:30, 13.13s/it]"
     ]
    },
    {
     "name": "stdout",
     "output_type": "stream",
     "text": [
      "Processed batch 80/160\n"
     ]
    },
    {
     "name": "stderr",
     "output_type": "stream",
     "text": [
      " 51%|█████     | 81/160 [21:21<16:55, 12.86s/it]"
     ]
    },
    {
     "name": "stdout",
     "output_type": "stream",
     "text": [
      "Processed batch 81/160\n"
     ]
    },
    {
     "name": "stderr",
     "output_type": "stream",
     "text": [
      " 51%|█████▏    | 82/160 [21:34<16:45, 12.88s/it]"
     ]
    },
    {
     "name": "stdout",
     "output_type": "stream",
     "text": [
      "Processed batch 82/160\n"
     ]
    },
    {
     "name": "stderr",
     "output_type": "stream",
     "text": [
      " 52%|█████▏    | 83/160 [21:47<16:31, 12.88s/it]"
     ]
    },
    {
     "name": "stdout",
     "output_type": "stream",
     "text": [
      "Processed batch 83/160\n"
     ]
    },
    {
     "name": "stderr",
     "output_type": "stream",
     "text": [
      " 52%|█████▎    | 84/160 [22:00<16:15, 12.83s/it]"
     ]
    },
    {
     "name": "stdout",
     "output_type": "stream",
     "text": [
      "Processed batch 84/160\n"
     ]
    },
    {
     "name": "stderr",
     "output_type": "stream",
     "text": [
      " 53%|█████▎    | 85/160 [22:12<15:56, 12.76s/it]"
     ]
    },
    {
     "name": "stdout",
     "output_type": "stream",
     "text": [
      "Processed batch 85/160\n"
     ]
    },
    {
     "name": "stderr",
     "output_type": "stream",
     "text": [
      " 54%|█████▍    | 86/160 [22:25<15:40, 12.72s/it]"
     ]
    },
    {
     "name": "stdout",
     "output_type": "stream",
     "text": [
      "Processed batch 86/160\n"
     ]
    },
    {
     "name": "stderr",
     "output_type": "stream",
     "text": [
      " 54%|█████▍    | 87/160 [22:38<15:29, 12.74s/it]"
     ]
    },
    {
     "name": "stdout",
     "output_type": "stream",
     "text": [
      "Processed batch 87/160\n"
     ]
    },
    {
     "name": "stderr",
     "output_type": "stream",
     "text": [
      " 55%|█████▌    | 88/160 [22:50<15:04, 12.56s/it]"
     ]
    },
    {
     "name": "stdout",
     "output_type": "stream",
     "text": [
      "Processed batch 88/160\n"
     ]
    },
    {
     "name": "stderr",
     "output_type": "stream",
     "text": [
      " 56%|█████▌    | 89/160 [23:03<14:57, 12.64s/it]"
     ]
    },
    {
     "name": "stdout",
     "output_type": "stream",
     "text": [
      "Processed batch 89/160\n"
     ]
    },
    {
     "name": "stderr",
     "output_type": "stream",
     "text": [
      " 56%|█████▋    | 90/160 [23:15<14:31, 12.45s/it]"
     ]
    },
    {
     "name": "stdout",
     "output_type": "stream",
     "text": [
      "Processed batch 90/160\n"
     ]
    },
    {
     "name": "stderr",
     "output_type": "stream",
     "text": [
      " 57%|█████▋    | 91/160 [23:28<14:36, 12.70s/it]"
     ]
    },
    {
     "name": "stdout",
     "output_type": "stream",
     "text": [
      "Processed batch 91/160\n"
     ]
    },
    {
     "name": "stderr",
     "output_type": "stream",
     "text": [
      " 57%|█████▊    | 92/160 [23:41<14:34, 12.86s/it]"
     ]
    },
    {
     "name": "stdout",
     "output_type": "stream",
     "text": [
      "Processed batch 92/160\n"
     ]
    },
    {
     "name": "stderr",
     "output_type": "stream",
     "text": [
      " 58%|█████▊    | 93/160 [23:54<14:15, 12.77s/it]"
     ]
    },
    {
     "name": "stdout",
     "output_type": "stream",
     "text": [
      "Processed batch 93/160\n"
     ]
    },
    {
     "name": "stderr",
     "output_type": "stream",
     "text": [
      " 59%|█████▉    | 94/160 [24:07<14:04, 12.79s/it]"
     ]
    },
    {
     "name": "stdout",
     "output_type": "stream",
     "text": [
      "Processed batch 94/160\n"
     ]
    },
    {
     "name": "stderr",
     "output_type": "stream",
     "text": [
      " 59%|█████▉    | 95/160 [24:20<13:57, 12.89s/it]"
     ]
    },
    {
     "name": "stdout",
     "output_type": "stream",
     "text": [
      "Processed batch 95/160\n"
     ]
    },
    {
     "name": "stderr",
     "output_type": "stream",
     "text": [
      " 60%|██████    | 96/160 [24:32<13:41, 12.84s/it]"
     ]
    },
    {
     "name": "stdout",
     "output_type": "stream",
     "text": [
      "Processed batch 96/160\n"
     ]
    },
    {
     "name": "stderr",
     "output_type": "stream",
     "text": [
      " 61%|██████    | 97/160 [24:45<13:28, 12.83s/it]"
     ]
    },
    {
     "name": "stdout",
     "output_type": "stream",
     "text": [
      "Processed batch 97/160\n"
     ]
    },
    {
     "name": "stderr",
     "output_type": "stream",
     "text": [
      " 61%|██████▏   | 98/160 [24:58<13:10, 12.75s/it]"
     ]
    },
    {
     "name": "stdout",
     "output_type": "stream",
     "text": [
      "Processed batch 98/160\n"
     ]
    },
    {
     "name": "stderr",
     "output_type": "stream",
     "text": [
      " 62%|██████▏   | 99/160 [25:10<12:53, 12.68s/it]"
     ]
    },
    {
     "name": "stdout",
     "output_type": "stream",
     "text": [
      "Processed batch 99/160\n"
     ]
    },
    {
     "name": "stderr",
     "output_type": "stream",
     "text": [
      " 62%|██████▎   | 100/160 [25:23<12:42, 12.71s/it]"
     ]
    },
    {
     "name": "stdout",
     "output_type": "stream",
     "text": [
      "Processed batch 100/160\n"
     ]
    },
    {
     "name": "stderr",
     "output_type": "stream",
     "text": [
      " 63%|██████▎   | 101/160 [25:36<12:36, 12.82s/it]"
     ]
    },
    {
     "name": "stdout",
     "output_type": "stream",
     "text": [
      "Processed batch 101/160\n"
     ]
    },
    {
     "name": "stderr",
     "output_type": "stream",
     "text": [
      " 64%|██████▍   | 102/160 [25:50<12:35, 13.03s/it]"
     ]
    },
    {
     "name": "stdout",
     "output_type": "stream",
     "text": [
      "Processed batch 102/160\n"
     ]
    },
    {
     "name": "stderr",
     "output_type": "stream",
     "text": [
      " 64%|██████▍   | 103/160 [26:03<12:23, 13.04s/it]"
     ]
    },
    {
     "name": "stdout",
     "output_type": "stream",
     "text": [
      "Processed batch 103/160\n"
     ]
    },
    {
     "name": "stderr",
     "output_type": "stream",
     "text": [
      " 65%|██████▌   | 104/160 [26:16<12:09, 13.03s/it]"
     ]
    },
    {
     "name": "stdout",
     "output_type": "stream",
     "text": [
      "Processed batch 104/160\n"
     ]
    },
    {
     "name": "stderr",
     "output_type": "stream",
     "text": [
      " 66%|██████▌   | 105/160 [26:29<11:56, 13.03s/it]"
     ]
    },
    {
     "name": "stdout",
     "output_type": "stream",
     "text": [
      "Processed batch 105/160\n"
     ]
    },
    {
     "name": "stderr",
     "output_type": "stream",
     "text": [
      " 66%|██████▋   | 106/160 [26:42<11:40, 12.97s/it]"
     ]
    },
    {
     "name": "stdout",
     "output_type": "stream",
     "text": [
      "Processed batch 106/160\n"
     ]
    },
    {
     "name": "stderr",
     "output_type": "stream",
     "text": [
      " 67%|██████▋   | 107/160 [26:55<11:30, 13.03s/it]"
     ]
    },
    {
     "name": "stdout",
     "output_type": "stream",
     "text": [
      "Processed batch 107/160\n"
     ]
    },
    {
     "name": "stderr",
     "output_type": "stream",
     "text": [
      " 68%|██████▊   | 108/160 [27:07<11:09, 12.87s/it]"
     ]
    },
    {
     "name": "stdout",
     "output_type": "stream",
     "text": [
      "Processed batch 108/160\n"
     ]
    },
    {
     "name": "stderr",
     "output_type": "stream",
     "text": [
      " 68%|██████▊   | 109/160 [27:20<10:57, 12.90s/it]"
     ]
    },
    {
     "name": "stdout",
     "output_type": "stream",
     "text": [
      "Processed batch 109/160\n"
     ]
    },
    {
     "name": "stderr",
     "output_type": "stream",
     "text": [
      " 69%|██████▉   | 110/160 [27:33<10:49, 13.00s/it]"
     ]
    },
    {
     "name": "stdout",
     "output_type": "stream",
     "text": [
      "Processed batch 110/160\n"
     ]
    },
    {
     "name": "stderr",
     "output_type": "stream",
     "text": [
      " 69%|██████▉   | 111/160 [27:46<10:36, 12.98s/it]"
     ]
    },
    {
     "name": "stdout",
     "output_type": "stream",
     "text": [
      "Processed batch 111/160\n"
     ]
    },
    {
     "name": "stderr",
     "output_type": "stream",
     "text": [
      " 70%|███████   | 112/160 [27:59<10:12, 12.76s/it]"
     ]
    },
    {
     "name": "stdout",
     "output_type": "stream",
     "text": [
      "Processed batch 112/160\n"
     ]
    },
    {
     "name": "stderr",
     "output_type": "stream",
     "text": [
      " 71%|███████   | 113/160 [28:11<09:52, 12.62s/it]"
     ]
    },
    {
     "name": "stdout",
     "output_type": "stream",
     "text": [
      "Processed batch 113/160\n"
     ]
    },
    {
     "name": "stderr",
     "output_type": "stream",
     "text": [
      " 71%|███████▏  | 114/160 [28:24<09:42, 12.66s/it]"
     ]
    },
    {
     "name": "stdout",
     "output_type": "stream",
     "text": [
      "Processed batch 114/160\n"
     ]
    },
    {
     "name": "stderr",
     "output_type": "stream",
     "text": [
      " 72%|███████▏  | 115/160 [28:36<09:23, 12.53s/it]"
     ]
    },
    {
     "name": "stdout",
     "output_type": "stream",
     "text": [
      "Processed batch 115/160\n"
     ]
    },
    {
     "name": "stderr",
     "output_type": "stream",
     "text": [
      " 72%|███████▎  | 116/160 [28:49<09:13, 12.59s/it]"
     ]
    },
    {
     "name": "stdout",
     "output_type": "stream",
     "text": [
      "Processed batch 116/160\n"
     ]
    },
    {
     "name": "stderr",
     "output_type": "stream",
     "text": [
      " 73%|███████▎  | 117/160 [29:01<08:58, 12.52s/it]"
     ]
    },
    {
     "name": "stdout",
     "output_type": "stream",
     "text": [
      "Processed batch 117/160\n"
     ]
    },
    {
     "name": "stderr",
     "output_type": "stream",
     "text": [
      " 74%|███████▍  | 118/160 [29:14<08:46, 12.53s/it]"
     ]
    },
    {
     "name": "stdout",
     "output_type": "stream",
     "text": [
      "Processed batch 118/160\n"
     ]
    },
    {
     "name": "stderr",
     "output_type": "stream",
     "text": [
      " 74%|███████▍  | 119/160 [29:26<08:36, 12.59s/it]"
     ]
    },
    {
     "name": "stdout",
     "output_type": "stream",
     "text": [
      "Processed batch 119/160\n"
     ]
    },
    {
     "name": "stderr",
     "output_type": "stream",
     "text": [
      " 75%|███████▌  | 120/160 [29:38<08:18, 12.47s/it]"
     ]
    },
    {
     "name": "stdout",
     "output_type": "stream",
     "text": [
      "Processed batch 120/160\n"
     ]
    },
    {
     "name": "stderr",
     "output_type": "stream",
     "text": [
      " 76%|███████▌  | 121/160 [29:51<08:06, 12.47s/it]"
     ]
    },
    {
     "name": "stdout",
     "output_type": "stream",
     "text": [
      "Processed batch 121/160\n"
     ]
    },
    {
     "name": "stderr",
     "output_type": "stream",
     "text": [
      " 76%|███████▋  | 122/160 [30:04<08:00, 12.64s/it]"
     ]
    },
    {
     "name": "stdout",
     "output_type": "stream",
     "text": [
      "Processed batch 122/160\n"
     ]
    },
    {
     "name": "stderr",
     "output_type": "stream",
     "text": [
      " 77%|███████▋  | 123/160 [30:16<07:44, 12.57s/it]"
     ]
    },
    {
     "name": "stdout",
     "output_type": "stream",
     "text": [
      "Processed batch 123/160\n"
     ]
    },
    {
     "name": "stderr",
     "output_type": "stream",
     "text": [
      " 78%|███████▊  | 124/160 [30:29<07:31, 12.53s/it]"
     ]
    },
    {
     "name": "stdout",
     "output_type": "stream",
     "text": [
      "Processed batch 124/160\n"
     ]
    },
    {
     "name": "stderr",
     "output_type": "stream",
     "text": [
      " 78%|███████▊  | 125/160 [30:41<07:18, 12.53s/it]"
     ]
    },
    {
     "name": "stdout",
     "output_type": "stream",
     "text": [
      "Processed batch 125/160\n"
     ]
    },
    {
     "name": "stderr",
     "output_type": "stream",
     "text": [
      " 79%|███████▉  | 126/160 [30:54<07:06, 12.55s/it]"
     ]
    },
    {
     "name": "stdout",
     "output_type": "stream",
     "text": [
      "Processed batch 126/160\n"
     ]
    },
    {
     "name": "stderr",
     "output_type": "stream",
     "text": [
      " 79%|███████▉  | 127/160 [31:08<07:04, 12.87s/it]"
     ]
    },
    {
     "name": "stdout",
     "output_type": "stream",
     "text": [
      "Processed batch 127/160\n"
     ]
    },
    {
     "name": "stderr",
     "output_type": "stream",
     "text": [
      " 80%|████████  | 128/160 [31:20<06:49, 12.80s/it]"
     ]
    },
    {
     "name": "stdout",
     "output_type": "stream",
     "text": [
      "Processed batch 128/160\n"
     ]
    },
    {
     "name": "stderr",
     "output_type": "stream",
     "text": [
      " 81%|████████  | 129/160 [31:33<06:33, 12.68s/it]"
     ]
    },
    {
     "name": "stdout",
     "output_type": "stream",
     "text": [
      "Processed batch 129/160\n"
     ]
    },
    {
     "name": "stderr",
     "output_type": "stream",
     "text": [
      " 81%|████████▏ | 130/160 [31:45<06:22, 12.74s/it]"
     ]
    },
    {
     "name": "stdout",
     "output_type": "stream",
     "text": [
      "Processed batch 130/160\n"
     ]
    },
    {
     "name": "stderr",
     "output_type": "stream",
     "text": [
      " 82%|████████▏ | 131/160 [31:58<06:05, 12.59s/it]"
     ]
    },
    {
     "name": "stdout",
     "output_type": "stream",
     "text": [
      "Processed batch 131/160\n"
     ]
    },
    {
     "name": "stderr",
     "output_type": "stream",
     "text": [
      " 82%|████████▎ | 132/160 [32:10<05:51, 12.57s/it]"
     ]
    },
    {
     "name": "stdout",
     "output_type": "stream",
     "text": [
      "Processed batch 132/160\n"
     ]
    },
    {
     "name": "stderr",
     "output_type": "stream",
     "text": [
      " 83%|████████▎ | 133/160 [32:23<05:37, 12.51s/it]"
     ]
    },
    {
     "name": "stdout",
     "output_type": "stream",
     "text": [
      "Processed batch 133/160\n"
     ]
    },
    {
     "name": "stderr",
     "output_type": "stream",
     "text": [
      " 84%|████████▍ | 134/160 [32:35<05:24, 12.46s/it]"
     ]
    },
    {
     "name": "stdout",
     "output_type": "stream",
     "text": [
      "Processed batch 134/160\n"
     ]
    },
    {
     "name": "stderr",
     "output_type": "stream",
     "text": [
      " 84%|████████▍ | 135/160 [32:48<05:14, 12.56s/it]"
     ]
    },
    {
     "name": "stdout",
     "output_type": "stream",
     "text": [
      "Processed batch 135/160\n"
     ]
    },
    {
     "name": "stderr",
     "output_type": "stream",
     "text": [
      " 85%|████████▌ | 136/160 [33:00<04:59, 12.49s/it]"
     ]
    },
    {
     "name": "stdout",
     "output_type": "stream",
     "text": [
      "Processed batch 136/160\n"
     ]
    },
    {
     "name": "stderr",
     "output_type": "stream",
     "text": [
      " 86%|████████▌ | 137/160 [33:13<04:51, 12.66s/it]"
     ]
    },
    {
     "name": "stdout",
     "output_type": "stream",
     "text": [
      "Processed batch 137/160\n"
     ]
    },
    {
     "name": "stderr",
     "output_type": "stream",
     "text": [
      " 86%|████████▋ | 138/160 [33:26<04:41, 12.80s/it]"
     ]
    },
    {
     "name": "stdout",
     "output_type": "stream",
     "text": [
      "Processed batch 138/160\n"
     ]
    },
    {
     "name": "stderr",
     "output_type": "stream",
     "text": [
      " 87%|████████▋ | 139/160 [33:39<04:29, 12.81s/it]"
     ]
    },
    {
     "name": "stdout",
     "output_type": "stream",
     "text": [
      "Processed batch 139/160\n"
     ]
    },
    {
     "name": "stderr",
     "output_type": "stream",
     "text": [
      " 88%|████████▊ | 140/160 [33:51<04:11, 12.58s/it]"
     ]
    },
    {
     "name": "stdout",
     "output_type": "stream",
     "text": [
      "Processed batch 140/160\n"
     ]
    },
    {
     "name": "stderr",
     "output_type": "stream",
     "text": [
      " 88%|████████▊ | 141/160 [34:04<03:58, 12.56s/it]"
     ]
    },
    {
     "name": "stdout",
     "output_type": "stream",
     "text": [
      "Processed batch 141/160\n"
     ]
    },
    {
     "name": "stderr",
     "output_type": "stream",
     "text": [
      " 89%|████████▉ | 142/160 [34:16<03:44, 12.46s/it]"
     ]
    },
    {
     "name": "stdout",
     "output_type": "stream",
     "text": [
      "Processed batch 142/160\n"
     ]
    },
    {
     "name": "stderr",
     "output_type": "stream",
     "text": [
      " 89%|████████▉ | 143/160 [34:29<03:34, 12.64s/it]"
     ]
    },
    {
     "name": "stdout",
     "output_type": "stream",
     "text": [
      "Processed batch 143/160\n"
     ]
    },
    {
     "name": "stderr",
     "output_type": "stream",
     "text": [
      " 90%|█████████ | 144/160 [34:42<03:22, 12.68s/it]"
     ]
    },
    {
     "name": "stdout",
     "output_type": "stream",
     "text": [
      "Processed batch 144/160\n"
     ]
    },
    {
     "name": "stderr",
     "output_type": "stream",
     "text": [
      " 91%|█████████ | 145/160 [34:54<03:10, 12.69s/it]"
     ]
    },
    {
     "name": "stdout",
     "output_type": "stream",
     "text": [
      "Processed batch 145/160\n"
     ]
    },
    {
     "name": "stderr",
     "output_type": "stream",
     "text": [
      " 91%|█████████▏| 146/160 [35:07<02:56, 12.58s/it]"
     ]
    },
    {
     "name": "stdout",
     "output_type": "stream",
     "text": [
      "Processed batch 146/160\n"
     ]
    },
    {
     "name": "stderr",
     "output_type": "stream",
     "text": [
      " 92%|█████████▏| 147/160 [35:19<02:41, 12.41s/it]"
     ]
    },
    {
     "name": "stdout",
     "output_type": "stream",
     "text": [
      "Processed batch 147/160\n"
     ]
    },
    {
     "name": "stderr",
     "output_type": "stream",
     "text": [
      " 92%|█████████▎| 148/160 [35:32<02:30, 12.57s/it]"
     ]
    },
    {
     "name": "stdout",
     "output_type": "stream",
     "text": [
      "Processed batch 148/160\n"
     ]
    },
    {
     "name": "stderr",
     "output_type": "stream",
     "text": [
      " 93%|█████████▎| 149/160 [35:45<02:19, 12.72s/it]"
     ]
    },
    {
     "name": "stdout",
     "output_type": "stream",
     "text": [
      "Processed batch 149/160\n"
     ]
    },
    {
     "name": "stderr",
     "output_type": "stream",
     "text": [
      " 94%|█████████▍| 150/160 [35:58<02:07, 12.74s/it]"
     ]
    },
    {
     "name": "stdout",
     "output_type": "stream",
     "text": [
      "Processed batch 150/160\n"
     ]
    },
    {
     "name": "stderr",
     "output_type": "stream",
     "text": [
      " 94%|█████████▍| 151/160 [36:10<01:54, 12.77s/it]"
     ]
    },
    {
     "name": "stdout",
     "output_type": "stream",
     "text": [
      "Processed batch 151/160\n"
     ]
    },
    {
     "name": "stderr",
     "output_type": "stream",
     "text": [
      " 95%|█████████▌| 152/160 [36:23<01:41, 12.71s/it]"
     ]
    },
    {
     "name": "stdout",
     "output_type": "stream",
     "text": [
      "Processed batch 152/160\n"
     ]
    },
    {
     "name": "stderr",
     "output_type": "stream",
     "text": [
      " 96%|█████████▌| 153/160 [36:36<01:29, 12.75s/it]"
     ]
    },
    {
     "name": "stdout",
     "output_type": "stream",
     "text": [
      "Processed batch 153/160\n"
     ]
    },
    {
     "name": "stderr",
     "output_type": "stream",
     "text": [
      " 96%|█████████▋| 154/160 [36:48<01:15, 12.65s/it]"
     ]
    },
    {
     "name": "stdout",
     "output_type": "stream",
     "text": [
      "Processed batch 154/160\n"
     ]
    },
    {
     "name": "stderr",
     "output_type": "stream",
     "text": [
      " 97%|█████████▋| 155/160 [37:00<01:02, 12.50s/it]"
     ]
    },
    {
     "name": "stdout",
     "output_type": "stream",
     "text": [
      "Processed batch 155/160\n"
     ]
    },
    {
     "name": "stderr",
     "output_type": "stream",
     "text": [
      " 98%|█████████▊| 156/160 [37:13<00:50, 12.64s/it]"
     ]
    },
    {
     "name": "stdout",
     "output_type": "stream",
     "text": [
      "Processed batch 156/160\n"
     ]
    },
    {
     "name": "stderr",
     "output_type": "stream",
     "text": [
      " 98%|█████████▊| 157/160 [37:26<00:37, 12.62s/it]"
     ]
    },
    {
     "name": "stdout",
     "output_type": "stream",
     "text": [
      "Processed batch 157/160\n"
     ]
    },
    {
     "name": "stderr",
     "output_type": "stream",
     "text": [
      " 99%|█████████▉| 158/160 [37:38<00:25, 12.59s/it]"
     ]
    },
    {
     "name": "stdout",
     "output_type": "stream",
     "text": [
      "Processed batch 158/160\n"
     ]
    },
    {
     "name": "stderr",
     "output_type": "stream",
     "text": [
      " 99%|█████████▉| 159/160 [37:51<00:12, 12.69s/it]"
     ]
    },
    {
     "name": "stdout",
     "output_type": "stream",
     "text": [
      "Processed batch 159/160\n"
     ]
    },
    {
     "name": "stderr",
     "output_type": "stream",
     "text": [
      "100%|██████████| 160/160 [37:55<00:00, 14.22s/it]"
     ]
    },
    {
     "name": "stdout",
     "output_type": "stream",
     "text": [
      "Processed batch 160/160\n",
      "\n",
      "Final processed DataFrame:\n"
     ]
    },
    {
     "name": "stderr",
     "output_type": "stream",
     "text": [
      "\n"
     ]
    },
    {
     "data": {
      "text/html": [
       "<div>\n",
       "<style scoped>\n",
       "    .dataframe tbody tr th:only-of-type {\n",
       "        vertical-align: middle;\n",
       "    }\n",
       "\n",
       "    .dataframe tbody tr th {\n",
       "        vertical-align: top;\n",
       "    }\n",
       "\n",
       "    .dataframe thead th {\n",
       "        text-align: right;\n",
       "    }\n",
       "</style>\n",
       "<table border=\"1\" class=\"dataframe\">\n",
       "  <thead>\n",
       "    <tr style=\"text-align: right;\">\n",
       "      <th></th>\n",
       "      <th>text</th>\n",
       "      <th>toxic</th>\n",
       "      <th>cleaned_text</th>\n",
       "      <th>lemmatized_text</th>\n",
       "    </tr>\n",
       "  </thead>\n",
       "  <tbody>\n",
       "    <tr>\n",
       "      <th>0</th>\n",
       "      <td>Explanation\\nWhy the edits made under my usern...</td>\n",
       "      <td>0</td>\n",
       "      <td>explanation why the edits made under my userna...</td>\n",
       "      <td>explanation why the edit make under my usernam...</td>\n",
       "    </tr>\n",
       "    <tr>\n",
       "      <th>1</th>\n",
       "      <td>D'aww! He matches this background colour I'm s...</td>\n",
       "      <td>0</td>\n",
       "      <td>daww he matches this background colour im seem...</td>\n",
       "      <td>daww he match this background colour I m seemi...</td>\n",
       "    </tr>\n",
       "    <tr>\n",
       "      <th>2</th>\n",
       "      <td>Hey man, I'm really not trying to edit war. It...</td>\n",
       "      <td>0</td>\n",
       "      <td>hey man im really not trying to edit war its j...</td>\n",
       "      <td>hey man I m really not try to edit war its jus...</td>\n",
       "    </tr>\n",
       "    <tr>\n",
       "      <th>3</th>\n",
       "      <td>\"\\nMore\\nI can't make any real suggestions on ...</td>\n",
       "      <td>0</td>\n",
       "      <td>more i cant make any real suggestions on impro...</td>\n",
       "      <td>more I can not make any real suggestion on imp...</td>\n",
       "    </tr>\n",
       "    <tr>\n",
       "      <th>4</th>\n",
       "      <td>You, sir, are my hero. Any chance you remember...</td>\n",
       "      <td>0</td>\n",
       "      <td>you sir are my hero any chance you remember wh...</td>\n",
       "      <td>you sir be my hero any chance you remember wha...</td>\n",
       "    </tr>\n",
       "  </tbody>\n",
       "</table>\n",
       "</div>"
      ],
      "text/plain": [
       "                                                text  toxic  \\\n",
       "0  Explanation\\nWhy the edits made under my usern...      0   \n",
       "1  D'aww! He matches this background colour I'm s...      0   \n",
       "2  Hey man, I'm really not trying to edit war. It...      0   \n",
       "3  \"\\nMore\\nI can't make any real suggestions on ...      0   \n",
       "4  You, sir, are my hero. Any chance you remember...      0   \n",
       "\n",
       "                                        cleaned_text  \\\n",
       "0  explanation why the edits made under my userna...   \n",
       "1  daww he matches this background colour im seem...   \n",
       "2  hey man im really not trying to edit war its j...   \n",
       "3  more i cant make any real suggestions on impro...   \n",
       "4  you sir are my hero any chance you remember wh...   \n",
       "\n",
       "                                     lemmatized_text  \n",
       "0  explanation why the edit make under my usernam...  \n",
       "1  daww he match this background colour I m seemi...  \n",
       "2  hey man I m really not try to edit war its jus...  \n",
       "3  more I can not make any real suggestion on imp...  \n",
       "4  you sir be my hero any chance you remember wha...  "
      ]
     },
     "metadata": {},
     "output_type": "display_data"
    }
   ],
   "source": [
    "# Загрузка SpaCy English модели\n",
    "\n",
    "nlp = spacy.load('en_core_web_sm')\n",
    "\n",
    "\n",
    "# Функция очистки текста\n",
    "\n",
    "def clean_text(text):\n",
    "    text = text.lower()\n",
    "    text = re.sub(r\"[^\\w\\s'’]\", '', text)\n",
    "    text = re.sub(r\"[^a-zA-Z\\s]\", '', text)\n",
    "    text = re.sub(r'\\s+', ' ', text).strip()\n",
    "    return text\n",
    "\n",
    "# Функция лемматизации\n",
    "\n",
    "def lemmatize_with_pos_spacy(text):\n",
    "    doc = nlp(text)\n",
    "    lemmatized_words = [token.lemma_ for token in doc]\n",
    "    lemmatized_text = ' '.join(lemmatized_words)\n",
    "    return lemmatized_text\n",
    "\n",
    "# Обработка исходного текста батчами \n",
    "\n",
    "batch_size = 1000\n",
    "num_batches = len(df_tweets) // batch_size + 1\n",
    "for batch_num in tqdm(range(num_batches)):\n",
    "    batch_start = batch_num * batch_size\n",
    "    batch_end = (batch_num + 1) * batch_size\n",
    "    batch_df = df_tweets.iloc[batch_start:batch_end]\n",
    "    \n",
    "    # Очистка и лемматизация\n",
    "\n",
    "    batch_df['cleaned_text'] = batch_df['text'].apply(clean_text)\n",
    "    batch_df['lemmatized_text'] = batch_df['cleaned_text'].apply(lemmatize_with_pos_spacy)\n",
    "    \n",
    "    # Вывод статуса\n",
    "\n",
    "    print(f\"Processed batch {batch_num + 1}/{num_batches}\")\n",
    "    \n",
    "    # Объединение батчей в единый датафрейм\n",
    "\n",
    "    if batch_num == 0:\n",
    "        final_df = batch_df.copy()\n",
    "    else:\n",
    "        final_df = pd.concat([final_df, batch_df], ignore_index=True)\n",
    "\n",
    "# Вывод финального датафрейма\n",
    "\n",
    "print(\"\\nFinal processed DataFrame:\")\n",
    "display(final_df.head());\n"
   ]
  },
  {
   "cell_type": "code",
   "execution_count": 7,
   "metadata": {},
   "outputs": [],
   "source": [
    "# Для удобства создадим отдельные переменные для входных и целевого параметров\n",
    "X = final_df['lemmatized_text']\n",
    "y = final_df['toxic']\n"
   ]
  },
  {
   "cell_type": "code",
   "execution_count": 8,
   "metadata": {},
   "outputs": [],
   "source": [
    "# Разделение данных на тренировочную и тестовую выборки\n",
    "# важно использовать stratify параметр из-за преобладания одного из типов комментариев\n",
    "\n",
    "X_learn, X_test, y_learn, y_test = train_test_split(X, y, test_size=0.1, random_state=42, stratify = y)\n",
    "X_train, X_val, y_train, y_val = train_test_split(X_learn, y_learn, test_size=0.1, random_state=42, stratify = y_learn)"
   ]
  },
  {
   "cell_type": "code",
   "execution_count": 9,
   "metadata": {},
   "outputs": [
    {
     "name": "stderr",
     "output_type": "stream",
     "text": [
      "[nltk_data] Downloading package stopwords to /home/jovyan/nltk_data...\n",
      "[nltk_data]   Package stopwords is already up-to-date!\n"
     ]
    },
    {
     "name": "stdout",
     "output_type": "stream",
     "text": [
      "Примеры отдельных признаков:\n",
      "['absolutely', 'marcolfuck', 'communist', 'polite', 'restatement', 'performance', 'unreliable', 'professional', 'soap', 'australian', 'military', 'wine', 'fbi', 'notability', 'alone', 'sentiment', 'punishment', 'tend', 'cover', 'abuse']\n"
     ]
    }
   ],
   "source": [
    "# Преобразование текстовых данных с помощью TF-IDF\n",
    "\n",
    "nltk.download('stopwords')\n",
    "stopwords = set(nltk_stopwords.words('english'))\n",
    "tfidf_vectorizer = TfidfVectorizer(max_features=5000, stop_words = stopwords)\n",
    "X_train_vect = tfidf_vectorizer.fit_transform(X_train)\n",
    "X_val_vect = tfidf_vectorizer.transform(X_val)\n",
    "X_test_vect = tfidf_vectorizer.transform(X_test)\n",
    "\n",
    "feature_names = tfidf_vectorizer.get_feature_names()\n",
    "\n",
    "# Вывод имен признаков\n",
    "\n",
    "print(\"Примеры отдельных признаков:\")\n",
    "print(random.sample(feature_names, 20))\n"
   ]
  },
  {
   "cell_type": "markdown",
   "metadata": {},
   "source": [
    "### Выводы\n",
    "\n",
    "Загружены и проанализированы данные, проведен поиск пропусков и дубликатов. \n",
    "Исследовано соотношение типов комментариев, созданы тестовые и тренировочные наборы данных. \n",
    "Проведена векторизация текста с использованием TF-IDF."
   ]
  },
  {
   "cell_type": "markdown",
   "metadata": {},
   "source": [
    "## Обучение"
   ]
  },
  {
   "cell_type": "markdown",
   "metadata": {},
   "source": [
    "### LogisticRegression model"
   ]
  },
  {
   "cell_type": "code",
   "execution_count": 10,
   "metadata": {},
   "outputs": [
    {
     "name": "stdout",
     "output_type": "stream",
     "text": [
      "Train F1-score LogisticRegression: 0.812433918375978\n",
      "Val F1-score LogisticRegression: 0.7700534759358288\n"
     ]
    }
   ],
   "source": [
    "# Инициализация LogisticRegression \n",
    "\n",
    "classifier = LogisticRegression(max_iter=10000, C=10, random_state=42) \n",
    "\n",
    "# Обучение\n",
    "\n",
    "classifier.fit(X_train_vect, y_train)\n",
    "\n",
    "# Предсказание\n",
    "\n",
    "y_train_pred = classifier.predict(X_train_vect)\n",
    "y_val_pred = classifier.predict(X_val_vect)\n",
    "\n",
    "# Расчет F1 score для тренировочного и валидационного набора данных\n",
    "\n",
    "train_f1 = f1_score(y_train, y_train_pred)\n",
    "val_f1 = f1_score(y_val, y_val_pred)\n",
    "\n",
    "print(f\"Train F1-score LogisticRegression: {train_f1}\")\n",
    "print(f\"Val F1-score LogisticRegression: {val_f1}\")"
   ]
  },
  {
   "cell_type": "markdown",
   "metadata": {},
   "source": [
    "### CatBoostClassifier model"
   ]
  },
  {
   "cell_type": "code",
   "execution_count": 11,
   "metadata": {},
   "outputs": [
    {
     "name": "stdout",
     "output_type": "stream",
     "text": [
      "0:\tlearn: 0.5926359\ttotal: 1.96s\tremaining: 32m 37s\n",
      "100:\tlearn: 0.1660385\ttotal: 2m 14s\tremaining: 20m 1s\n",
      "200:\tlearn: 0.1454112\ttotal: 4m 21s\tremaining: 17m 19s\n",
      "300:\tlearn: 0.1338678\ttotal: 6m 26s\tremaining: 14m 57s\n",
      "400:\tlearn: 0.1260997\ttotal: 8m 31s\tremaining: 12m 43s\n",
      "500:\tlearn: 0.1205954\ttotal: 10m 34s\tremaining: 10m 32s\n",
      "600:\tlearn: 0.1162443\ttotal: 12m 39s\tremaining: 8m 24s\n",
      "700:\tlearn: 0.1128917\ttotal: 14m 42s\tremaining: 6m 16s\n",
      "800:\tlearn: 0.1110489\ttotal: 16m 43s\tremaining: 4m 9s\n",
      "900:\tlearn: 0.1096299\ttotal: 18m 43s\tremaining: 2m 3s\n",
      "999:\tlearn: 0.1082586\ttotal: 20m 43s\tremaining: 0us\n",
      "Train F1-score CatBoostClassifier: 0.8005774025633174\n",
      "Val F1-score CatBoostClassifier: 0.7584025306445235\n"
     ]
    }
   ],
   "source": [
    "# Инициализация CatBoostClassifier\n",
    "\n",
    "cat_classifier = CatBoostClassifier(\n",
    "    iterations=1000, \n",
    "    learning_rate=0.1, \n",
    "    depth=6, \n",
    "    l2_leaf_reg=10, \n",
    "    verbose=100,\n",
    "    random_state = 42\n",
    ")\n",
    "\n",
    "# Обучение\n",
    "\n",
    "cat_classifier.fit(X_train_vect, y_train)\n",
    "\n",
    "# Предсказание\n",
    "\n",
    "y_train_pred = cat_classifier.predict(X_train_vect)\n",
    "y_val_pred = cat_classifier.predict(X_val_vect)\n",
    "\n",
    "# Расчет F1 score для тренировочного и валидационного набора данных\n",
    "\n",
    "train_f1 = f1_score(y_train, y_train_pred)\n",
    "val_f1 = f1_score(y_val, y_val_pred)\n",
    "\n",
    "print(f\"Train F1-score CatBoostClassifier: {train_f1}\")\n",
    "print(f\"Val F1-score CatBoostClassifier: {val_f1}\")"
   ]
  },
  {
   "cell_type": "markdown",
   "metadata": {},
   "source": [
    "### DummyClassifier model"
   ]
  },
  {
   "cell_type": "code",
   "execution_count": 12,
   "metadata": {},
   "outputs": [
    {
     "name": "stdout",
     "output_type": "stream",
     "text": [
      "Train F1-score DummyClassifier: 0.10296743797256734\n",
      "Val F1-score DummyClassifier: 0.11547659719849676\n"
     ]
    }
   ],
   "source": [
    "# DummyClassifier инициализация\n",
    "\n",
    "dummy_clf = DummyClassifier(strategy = 'stratified')\n",
    "\n",
    "# Обучение\n",
    "\n",
    "dummy_clf.fit(X_train_vect, y_train)\n",
    "\n",
    "# Предсказание\n",
    "\n",
    "y_val_pred = dummy_clf.predict(X_val_vect)\n",
    "y_train_pred = dummy_clf.predict(X_train_vect)\n",
    "\n",
    "\n",
    "# Расчет F1 score для тренировочного и валидационного набора данных\n",
    "\n",
    "train_f1 = f1_score(y_train, y_train_pred)\n",
    "val_f1 = f1_score(y_val, y_val_pred)\n",
    "\n",
    "print(f\"Train F1-score DummyClassifier: {train_f1}\")\n",
    "print(f\"Val F1-score DummyClassifier: {val_f1}\")"
   ]
  },
  {
   "cell_type": "markdown",
   "metadata": {},
   "source": [
    "### Промежуточные выводы\n",
    "\n",
    "Были обучены 2 модели классификаторов: LogisticRegression и CatBoostClassifier. Модели продемонстрировали схожие значения метрики f1-score на тренировочных и валидационных выборках: LogisticRegression 0.77/0.74 и CatBoostClassifier 0.8/0.76, соответственно. DummyClassifier продемонстрировал 0.10/0.11. CatBoostClassifier f1-score превзошел требуемый порог 0.75 на валидационной выборке."
   ]
  },
  {
   "cell_type": "markdown",
   "metadata": {},
   "source": [
    "### Оценка выбранной модели"
   ]
  },
  {
   "cell_type": "code",
   "execution_count": 13,
   "metadata": {},
   "outputs": [
    {
     "name": "stdout",
     "output_type": "stream",
     "text": [
      "Test F1-score CatBoostClassifier: 0.7614321162708259\n"
     ]
    }
   ],
   "source": [
    "# Предсказание CatBoostClassifier для тестового набора данных\n",
    "\n",
    "y_test_pred = cat_classifier.predict(X_test_vect)\n",
    "\n",
    "# Расчет F1-score CatBoostClassifier для тестового набора данных\n",
    "\n",
    "test_f1 = f1_score(y_test, y_test_pred)\n",
    "\n",
    "print(f\"Test F1-score CatBoostClassifier: {test_f1}\")"
   ]
  },
  {
   "cell_type": "code",
   "execution_count": 14,
   "metadata": {},
   "outputs": [
    {
     "data": {
      "image/png": "[encoded data removed]",
      "text/plain": [
       "<Figure size 576x432 with 1 Axes>"
      ]
     },
     "metadata": {
      "needs_background": "light"
     },
     "output_type": "display_data"
    },
    {
     "name": "stdout",
     "output_type": "stream",
     "text": [
      "Classification Report:\n",
      "               precision    recall  f1-score   support\n",
      "\n",
      "           0       0.96      0.99      0.98     14311\n",
      "           1       0.89      0.66      0.76      1619\n",
      "\n",
      "    accuracy                           0.96     15930\n",
      "   macro avg       0.93      0.83      0.87     15930\n",
      "weighted avg       0.96      0.96      0.95     15930\n",
      "\n"
     ]
    },
    {
     "data": {
      "image/png": "[encoded data removed]",
      "text/plain": [
       "<Figure size 576x432 with 1 Axes>"
      ]
     },
     "metadata": {
      "needs_background": "light"
     },
     "output_type": "display_data"
    }
   ],
   "source": [
    "# Оценка выбранной CatBoostClassifier модели \n",
    "\n",
    "y_pred = y_test_pred\n",
    "\n",
    "# Сформируем отчет и confusion matrix CatBoostClassifier модели на тестовой выборке\n",
    "\n",
    "conf_matrix = confusion_matrix(y_test, y_pred)\n",
    "class_report = classification_report(y_test, y_pred)\n",
    "\n",
    "# Построим confusion matrix\n",
    "\n",
    "plt.figure(figsize=(8, 6))\n",
    "sns.heatmap(conf_matrix, annot=True, fmt='d', cmap='Blues', cbar=False)\n",
    "plt.title('Confusion Matrix')\n",
    "plt.xlabel('Predicted Label')\n",
    "plt.ylabel('True Label')\n",
    "plt.show()\n",
    "\n",
    "# Вывод отчета\n",
    "\n",
    "print('Classification Report:\\n', class_report)\n",
    "\n",
    "# Построим ROC curve\n",
    "\n",
    "y_probs = cat_classifier.predict_proba(X_test_vect)[:, 1]\n",
    "fpr, tpr, thresholds = roc_curve(y_test, y_probs)\n",
    "roc_auc = auc(fpr, tpr)\n",
    "\n",
    "plt.figure(figsize=(8, 6))\n",
    "plt.plot(fpr, tpr, color='blue', lw=2, label='ROC curve (AUC = {:.2f})'.format(roc_auc))\n",
    "plt.plot([0, 1], [0, 1], color='gray', linestyle='--')\n",
    "plt.xlim([0.0, 1.0])\n",
    "plt.ylim([0.0, 1.05])\n",
    "plt.xlabel('False Positive Rate')\n",
    "plt.ylabel('True Positive Rate')\n",
    "plt.title('Receiver Operating Characteristic (ROC) Curve')\n",
    "plt.legend(loc='lower right')\n",
    "plt.show()"
   ]
  },
  {
   "cell_type": "markdown",
   "metadata": {},
   "source": [
    "### Выводы\n",
    "Выбранная модель CatBoostClassifier продемонстрировала F1-score 0.76 на тестовой выборке, что лучше, чем пороговое значение 0.75. Также были построены confusion matrix, classification report и ROC curve для этой модели. "
   ]
  },
  {
   "cell_type": "markdown",
   "metadata": {},
   "source": [
    "## Выводы\n",
    "\n",
    "Были загружен и изучен датасет с комментариями с разметкой токсичности как целевой признак. \n",
    "\n",
    "Данные подверглись очистке, лемматизации и векторизации с использованием TF-IDF.\n",
    "\n",
    "Были обучены 2 модели классификаторов (LogisticRegression и CatBoostClassifier), последняя удовлетворила требуемому порогу f1-score 0.75, продемонстрировав 0.76 на валидационной выборке. \n",
    "\n",
    "На тестовой выборке выбранная модель CatBoostClassifier также продемонстрировала f1-score 0.76, что лучше порогового значения 0.75.\n",
    "\n",
    "Обученная модель сможет лечь в основу инструмента для поиску и модерации комментариев для интернет-магазина Викишоп. \n"
   ]
  }
 ],
 "metadata": {
  "ExecuteTimeLog": [
   {
    "duration": 49,
    "start_time": "2024-03-13T18:52:00.162Z"
   },
   {
    "duration": 432,
    "start_time": "2024-03-13T18:52:02.954Z"
   },
   {
    "duration": 73,
    "start_time": "2024-03-13T18:52:03.880Z"
   },
   {
    "duration": 12,
    "start_time": "2024-03-13T18:52:22.442Z"
   },
   {
    "duration": 2577,
    "start_time": "2024-03-13T18:52:28.391Z"
   },
   {
    "duration": 915,
    "start_time": "2024-03-13T18:52:41.552Z"
   },
   {
    "duration": 939,
    "start_time": "2024-03-13T18:56:15.103Z"
   },
   {
    "duration": 15,
    "start_time": "2024-03-13T18:57:29.620Z"
   },
   {
    "duration": 42,
    "start_time": "2024-03-13T18:58:23.093Z"
   },
   {
    "duration": 92,
    "start_time": "2024-03-13T18:58:32.930Z"
   },
   {
    "duration": 52,
    "start_time": "2024-03-13T18:59:02.776Z"
   },
   {
    "duration": 8,
    "start_time": "2024-03-13T18:59:14.546Z"
   },
   {
    "duration": 2251,
    "start_time": "2024-03-13T18:59:30.436Z"
   },
   {
    "duration": 1025,
    "start_time": "2024-03-13T18:59:32.690Z"
   },
   {
    "duration": 2241,
    "start_time": "2024-03-13T19:03:51.925Z"
   },
   {
    "duration": 1003,
    "start_time": "2024-03-13T19:03:54.169Z"
   },
   {
    "duration": 2315,
    "start_time": "2024-03-13T19:04:37.510Z"
   },
   {
    "duration": 920,
    "start_time": "2024-03-13T19:04:41.322Z"
   },
   {
    "duration": 3614,
    "start_time": "2024-03-13T19:04:43.086Z"
   },
   {
    "duration": 2259,
    "start_time": "2024-03-13T19:05:42.303Z"
   },
   {
    "duration": 957,
    "start_time": "2024-03-13T19:05:44.564Z"
   },
   {
    "duration": 2013,
    "start_time": "2024-03-13T19:05:45.523Z"
   },
   {
    "duration": 17184,
    "start_time": "2024-03-13T19:05:47.538Z"
   },
   {
    "duration": 390,
    "start_time": "2024-03-13T19:06:04.724Z"
   },
   {
    "duration": 0,
    "start_time": "2024-03-13T19:06:05.115Z"
   },
   {
    "duration": 2194,
    "start_time": "2024-03-13T19:08:21.367Z"
   },
   {
    "duration": 1013,
    "start_time": "2024-03-13T19:08:23.563Z"
   },
   {
    "duration": 3669,
    "start_time": "2024-03-13T19:08:24.578Z"
   },
   {
    "duration": 2966,
    "start_time": "2024-03-13T19:08:28.248Z"
   },
   {
    "duration": 349,
    "start_time": "2024-03-13T19:08:31.216Z"
   },
   {
    "duration": 0,
    "start_time": "2024-03-13T19:08:31.566Z"
   },
   {
    "duration": 982,
    "start_time": "2024-03-13T19:09:06.523Z"
   },
   {
    "duration": 884,
    "start_time": "2024-03-13T19:09:39.147Z"
   },
   {
    "duration": 2240,
    "start_time": "2024-03-13T19:09:50.244Z"
   },
   {
    "duration": 992,
    "start_time": "2024-03-13T19:09:52.486Z"
   },
   {
    "duration": 3689,
    "start_time": "2024-03-13T19:09:53.480Z"
   },
   {
    "duration": 2516,
    "start_time": "2024-03-13T19:09:57.170Z"
   },
   {
    "duration": 365,
    "start_time": "2024-03-13T19:09:59.688Z"
   },
   {
    "duration": 0,
    "start_time": "2024-03-13T19:10:00.055Z"
   },
   {
    "duration": 2266,
    "start_time": "2024-03-13T19:11:45.223Z"
   },
   {
    "duration": 1043,
    "start_time": "2024-03-13T19:11:47.491Z"
   },
   {
    "duration": 10932,
    "start_time": "2024-03-13T19:11:48.536Z"
   },
   {
    "duration": 2550,
    "start_time": "2024-03-13T19:11:59.471Z"
   },
   {
    "duration": 371,
    "start_time": "2024-03-13T19:12:02.023Z"
   },
   {
    "duration": 0,
    "start_time": "2024-03-13T19:12:02.396Z"
   },
   {
    "duration": 10,
    "start_time": "2024-03-13T19:12:54.702Z"
   },
   {
    "duration": 17,
    "start_time": "2024-03-13T19:13:02.474Z"
   },
   {
    "duration": 5,
    "start_time": "2024-03-13T19:13:04.823Z"
   },
   {
    "duration": 4,
    "start_time": "2024-03-13T19:13:08.743Z"
   },
   {
    "duration": 2217,
    "start_time": "2024-03-13T19:14:26.566Z"
   },
   {
    "duration": 2467,
    "start_time": "2024-03-13T19:14:28.785Z"
   },
   {
    "duration": 11051,
    "start_time": "2024-03-13T19:14:31.253Z"
   },
   {
    "duration": 3,
    "start_time": "2024-03-13T19:14:42.306Z"
   },
   {
    "duration": 16997,
    "start_time": "2024-03-13T19:14:42.315Z"
   },
   {
    "duration": 396,
    "start_time": "2024-03-13T19:14:59.315Z"
   },
   {
    "duration": 0,
    "start_time": "2024-03-13T19:14:59.714Z"
   },
   {
    "duration": 2174,
    "start_time": "2024-03-13T19:25:41.698Z"
   },
   {
    "duration": 2466,
    "start_time": "2024-03-13T19:25:43.875Z"
   },
   {
    "duration": 14614,
    "start_time": "2024-03-13T19:25:46.343Z"
   },
   {
    "duration": 5,
    "start_time": "2024-03-13T19:26:00.959Z"
   },
   {
    "duration": 16968,
    "start_time": "2024-03-13T19:26:00.966Z"
   },
   {
    "duration": 358,
    "start_time": "2024-03-13T19:26:17.935Z"
   },
   {
    "duration": 0,
    "start_time": "2024-03-13T19:26:18.295Z"
   },
   {
    "duration": 2237,
    "start_time": "2024-03-13T19:26:41.537Z"
   },
   {
    "duration": 1032,
    "start_time": "2024-03-13T19:26:43.776Z"
   },
   {
    "duration": 11802,
    "start_time": "2024-03-13T19:26:44.810Z"
   },
   {
    "duration": 4,
    "start_time": "2024-03-13T19:26:56.614Z"
   },
   {
    "duration": 2526,
    "start_time": "2024-03-13T19:26:56.620Z"
   },
   {
    "duration": 374,
    "start_time": "2024-03-13T19:26:59.148Z"
   },
   {
    "duration": 0,
    "start_time": "2024-03-13T19:26:59.524Z"
   },
   {
    "duration": 2170,
    "start_time": "2024-03-13T19:29:38.232Z"
   },
   {
    "duration": 2413,
    "start_time": "2024-03-13T19:29:40.404Z"
   },
   {
    "duration": 16086,
    "start_time": "2024-03-13T19:29:42.819Z"
   },
   {
    "duration": 8,
    "start_time": "2024-03-13T19:29:58.907Z"
   },
   {
    "duration": 2535,
    "start_time": "2024-03-13T19:29:58.917Z"
   },
   {
    "duration": 49,
    "start_time": "2024-03-13T19:30:38.484Z"
   },
   {
    "duration": 2315,
    "start_time": "2024-03-13T19:30:49.166Z"
   },
   {
    "duration": 2433,
    "start_time": "2024-03-13T19:30:51.483Z"
   },
   {
    "duration": 15496,
    "start_time": "2024-03-13T19:30:53.918Z"
   },
   {
    "duration": 10,
    "start_time": "2024-03-13T19:31:34.064Z"
   },
   {
    "duration": 15405,
    "start_time": "2024-03-13T19:33:55.765Z"
   },
   {
    "duration": 3,
    "start_time": "2024-03-13T19:34:17.203Z"
   },
   {
    "duration": 18208,
    "start_time": "2024-03-13T19:34:28.251Z"
   },
   {
    "duration": 2425,
    "start_time": "2024-03-13T19:35:25.033Z"
   },
   {
    "duration": 2578,
    "start_time": "2024-03-13T19:35:27.460Z"
   },
   {
    "duration": 16724,
    "start_time": "2024-03-13T19:35:30.040Z"
   },
   {
    "duration": 4,
    "start_time": "2024-03-13T19:35:46.766Z"
   },
   {
    "duration": 17937,
    "start_time": "2024-03-13T19:35:46.773Z"
   },
   {
    "duration": 2324,
    "start_time": "2024-03-13T19:38:25.654Z"
   },
   {
    "duration": 2610,
    "start_time": "2024-03-13T19:38:27.980Z"
   },
   {
    "duration": 7768,
    "start_time": "2024-03-13T19:38:30.592Z"
   },
   {
    "duration": 3,
    "start_time": "2024-03-13T19:38:38.361Z"
   },
   {
    "duration": 17597,
    "start_time": "2024-03-13T19:38:38.366Z"
   },
   {
    "duration": 2190,
    "start_time": "2024-03-13T19:41:05.181Z"
   },
   {
    "duration": 2470,
    "start_time": "2024-03-13T19:41:07.372Z"
   },
   {
    "duration": 6768,
    "start_time": "2024-03-13T19:41:09.843Z"
   },
   {
    "duration": 3,
    "start_time": "2024-03-13T19:41:16.614Z"
   },
   {
    "duration": 17119,
    "start_time": "2024-03-13T19:41:16.619Z"
   },
   {
    "duration": 348,
    "start_time": "2024-03-13T19:41:33.739Z"
   },
   {
    "duration": 0,
    "start_time": "2024-03-13T19:41:34.089Z"
   },
   {
    "duration": 3,
    "start_time": "2024-03-13T19:42:23.108Z"
   },
   {
    "duration": 5,
    "start_time": "2024-03-13T19:42:27.095Z"
   },
   {
    "duration": 19,
    "start_time": "2024-03-13T19:42:35.927Z"
   },
   {
    "duration": 3,
    "start_time": "2024-03-13T19:42:43.888Z"
   },
   {
    "duration": 14,
    "start_time": "2024-03-13T19:42:46.507Z"
   },
   {
    "duration": 9,
    "start_time": "2024-03-13T19:42:51.047Z"
   },
   {
    "duration": 90,
    "start_time": "2024-03-13T19:43:14.765Z"
   },
   {
    "duration": 17,
    "start_time": "2024-03-13T19:43:36.821Z"
   },
   {
    "duration": 17,
    "start_time": "2024-03-13T19:44:02.971Z"
   },
   {
    "duration": 2143,
    "start_time": "2024-03-13T19:44:16.507Z"
   },
   {
    "duration": 968,
    "start_time": "2024-03-13T19:44:18.652Z"
   },
   {
    "duration": 7058,
    "start_time": "2024-03-13T19:44:19.622Z"
   },
   {
    "duration": 3,
    "start_time": "2024-03-13T19:44:26.682Z"
   },
   {
    "duration": 316,
    "start_time": "2024-03-13T19:44:26.687Z"
   },
   {
    "duration": 0,
    "start_time": "2024-03-13T19:44:27.004Z"
   },
   {
    "duration": 0,
    "start_time": "2024-03-13T19:44:27.006Z"
   },
   {
    "duration": 0,
    "start_time": "2024-03-13T19:44:27.007Z"
   },
   {
    "duration": 22,
    "start_time": "2024-03-13T19:45:15.201Z"
   },
   {
    "duration": 2502,
    "start_time": "2024-03-13T19:45:42.522Z"
   },
   {
    "duration": 40,
    "start_time": "2024-03-13T19:45:50.593Z"
   },
   {
    "duration": 21,
    "start_time": "2024-03-13T19:46:56.985Z"
   },
   {
    "duration": 2172,
    "start_time": "2024-03-13T19:47:49.690Z"
   },
   {
    "duration": 984,
    "start_time": "2024-03-13T19:47:51.864Z"
   },
   {
    "duration": 7588,
    "start_time": "2024-03-13T19:47:52.850Z"
   },
   {
    "duration": 0,
    "start_time": "2024-03-13T19:48:00.439Z"
   },
   {
    "duration": 0,
    "start_time": "2024-03-13T19:48:00.441Z"
   },
   {
    "duration": 0,
    "start_time": "2024-03-13T19:48:00.442Z"
   },
   {
    "duration": 0,
    "start_time": "2024-03-13T19:48:00.443Z"
   },
   {
    "duration": 2258,
    "start_time": "2024-03-13T19:48:22.818Z"
   },
   {
    "duration": 978,
    "start_time": "2024-03-13T19:48:25.077Z"
   },
   {
    "duration": 7299,
    "start_time": "2024-03-13T19:48:26.057Z"
   },
   {
    "duration": 0,
    "start_time": "2024-03-13T19:48:33.358Z"
   },
   {
    "duration": 0,
    "start_time": "2024-03-13T19:48:33.359Z"
   },
   {
    "duration": 0,
    "start_time": "2024-03-13T19:48:33.360Z"
   },
   {
    "duration": 0,
    "start_time": "2024-03-13T19:48:33.361Z"
   },
   {
    "duration": 75,
    "start_time": "2024-03-13T19:49:17.020Z"
   },
   {
    "duration": 11,
    "start_time": "2024-03-13T19:49:27.726Z"
   },
   {
    "duration": 3,
    "start_time": "2024-03-13T19:50:50.501Z"
   },
   {
    "duration": 5,
    "start_time": "2024-03-13T19:51:01.922Z"
   },
   {
    "duration": 2094,
    "start_time": "2024-03-13T19:54:18.553Z"
   },
   {
    "duration": 969,
    "start_time": "2024-03-13T19:54:20.649Z"
   },
   {
    "duration": 5,
    "start_time": "2024-03-13T19:54:21.619Z"
   },
   {
    "duration": 5,
    "start_time": "2024-03-13T19:54:21.626Z"
   },
   {
    "duration": 8172,
    "start_time": "2024-03-13T19:54:21.633Z"
   },
   {
    "duration": 0,
    "start_time": "2024-03-13T19:54:29.807Z"
   },
   {
    "duration": 0,
    "start_time": "2024-03-13T19:54:29.808Z"
   },
   {
    "duration": 0,
    "start_time": "2024-03-13T19:54:29.815Z"
   },
   {
    "duration": 0,
    "start_time": "2024-03-13T19:54:29.817Z"
   },
   {
    "duration": 0,
    "start_time": "2024-03-13T19:54:29.818Z"
   },
   {
    "duration": 5667,
    "start_time": "2024-03-13T19:54:55.807Z"
   },
   {
    "duration": 3,
    "start_time": "2024-03-13T19:55:03.925Z"
   },
   {
    "duration": 46,
    "start_time": "2024-03-13T19:55:04.521Z"
   },
   {
    "duration": 2169,
    "start_time": "2024-03-14T07:15:59.955Z"
   },
   {
    "duration": 2382,
    "start_time": "2024-03-14T07:16:02.126Z"
   },
   {
    "duration": 4,
    "start_time": "2024-03-14T07:16:04.509Z"
   },
   {
    "duration": 15,
    "start_time": "2024-03-14T07:16:04.515Z"
   },
   {
    "duration": 7138,
    "start_time": "2024-03-14T07:16:04.532Z"
   },
   {
    "duration": 3,
    "start_time": "2024-03-14T07:16:11.672Z"
   },
   {
    "duration": 8,
    "start_time": "2024-03-14T07:16:11.677Z"
   },
   {
    "duration": 16624,
    "start_time": "2024-03-14T07:16:11.687Z"
   },
   {
    "duration": 331,
    "start_time": "2024-03-14T07:16:28.312Z"
   },
   {
    "duration": 0,
    "start_time": "2024-03-14T07:16:28.645Z"
   },
   {
    "duration": 2106,
    "start_time": "2024-03-14T07:16:50.791Z"
   },
   {
    "duration": 891,
    "start_time": "2024-03-14T07:16:52.899Z"
   },
   {
    "duration": 4,
    "start_time": "2024-03-14T07:16:53.792Z"
   },
   {
    "duration": 15,
    "start_time": "2024-03-14T07:16:53.798Z"
   },
   {
    "duration": 11878,
    "start_time": "2024-03-14T07:16:53.815Z"
   },
   {
    "duration": 3,
    "start_time": "2024-03-14T07:17:05.696Z"
   },
   {
    "duration": 8,
    "start_time": "2024-03-14T07:17:05.700Z"
   },
   {
    "duration": 2360,
    "start_time": "2024-03-14T07:17:05.710Z"
   },
   {
    "duration": 380,
    "start_time": "2024-03-14T07:17:08.072Z"
   },
   {
    "duration": 0,
    "start_time": "2024-03-14T07:17:08.453Z"
   },
   {
    "duration": 2105,
    "start_time": "2024-03-14T07:17:27.478Z"
   },
   {
    "duration": 897,
    "start_time": "2024-03-14T07:17:29.585Z"
   },
   {
    "duration": 5,
    "start_time": "2024-03-14T07:17:30.485Z"
   },
   {
    "duration": 103,
    "start_time": "2024-03-14T07:17:30.492Z"
   },
   {
    "duration": 12185,
    "start_time": "2024-03-14T07:17:30.597Z"
   },
   {
    "duration": 3,
    "start_time": "2024-03-14T07:17:42.784Z"
   },
   {
    "duration": 20,
    "start_time": "2024-03-14T07:17:42.789Z"
   },
   {
    "duration": 2414,
    "start_time": "2024-03-14T07:17:42.811Z"
   },
   {
    "duration": 346,
    "start_time": "2024-03-14T07:17:45.227Z"
   },
   {
    "duration": 0,
    "start_time": "2024-03-14T07:17:45.575Z"
   },
   {
    "duration": 2083,
    "start_time": "2024-03-14T07:18:11.094Z"
   },
   {
    "duration": 1044,
    "start_time": "2024-03-14T07:18:13.179Z"
   },
   {
    "duration": 0,
    "start_time": "2024-03-14T07:18:14.227Z"
   },
   {
    "duration": 0,
    "start_time": "2024-03-14T07:18:14.229Z"
   },
   {
    "duration": 0,
    "start_time": "2024-03-14T07:18:14.230Z"
   },
   {
    "duration": 0,
    "start_time": "2024-03-14T07:18:14.232Z"
   },
   {
    "duration": 0,
    "start_time": "2024-03-14T07:18:14.233Z"
   },
   {
    "duration": 0,
    "start_time": "2024-03-14T07:18:14.234Z"
   },
   {
    "duration": 0,
    "start_time": "2024-03-14T07:18:14.235Z"
   },
   {
    "duration": 0,
    "start_time": "2024-03-14T07:18:14.236Z"
   },
   {
    "duration": 2043,
    "start_time": "2024-03-14T07:18:36.542Z"
   },
   {
    "duration": 918,
    "start_time": "2024-03-14T07:18:38.587Z"
   },
   {
    "duration": 21,
    "start_time": "2024-03-14T07:18:39.507Z"
   },
   {
    "duration": 77,
    "start_time": "2024-03-14T07:18:39.530Z"
   },
   {
    "duration": 44,
    "start_time": "2024-03-14T07:23:03.580Z"
   },
   {
    "duration": 2098,
    "start_time": "2024-03-14T07:23:13.574Z"
   },
   {
    "duration": 2311,
    "start_time": "2024-03-14T07:23:15.674Z"
   },
   {
    "duration": 6,
    "start_time": "2024-03-14T07:23:17.986Z"
   },
   {
    "duration": 25,
    "start_time": "2024-03-14T07:23:17.993Z"
   },
   {
    "duration": 55668,
    "start_time": "2024-03-14T07:23:18.020Z"
   },
   {
    "duration": 4,
    "start_time": "2024-03-14T07:24:13.689Z"
   },
   {
    "duration": 27,
    "start_time": "2024-03-14T07:24:13.694Z"
   },
   {
    "duration": 16396,
    "start_time": "2024-03-14T07:24:13.722Z"
   },
   {
    "duration": 368,
    "start_time": "2024-03-14T07:24:30.120Z"
   },
   {
    "duration": 0,
    "start_time": "2024-03-14T07:24:30.490Z"
   },
   {
    "duration": 2085,
    "start_time": "2024-03-14T07:38:47.203Z"
   },
   {
    "duration": 2460,
    "start_time": "2024-03-14T07:38:49.291Z"
   },
   {
    "duration": 6,
    "start_time": "2024-03-14T07:38:51.753Z"
   },
   {
    "duration": 40,
    "start_time": "2024-03-14T07:38:51.760Z"
   },
   {
    "duration": 39968,
    "start_time": "2024-03-14T07:38:51.802Z"
   },
   {
    "duration": 4,
    "start_time": "2024-03-14T07:39:31.772Z"
   },
   {
    "duration": 38,
    "start_time": "2024-03-14T07:39:31.777Z"
   },
   {
    "duration": 3753,
    "start_time": "2024-03-14T07:39:31.817Z"
   },
   {
    "duration": 407,
    "start_time": "2024-03-14T07:39:35.572Z"
   },
   {
    "duration": 0,
    "start_time": "2024-03-14T07:39:35.982Z"
   },
   {
    "duration": 2295,
    "start_time": "2024-03-14T07:47:27.128Z"
   },
   {
    "duration": 1020,
    "start_time": "2024-03-14T07:47:29.425Z"
   },
   {
    "duration": 7,
    "start_time": "2024-03-14T07:47:30.447Z"
   },
   {
    "duration": 70,
    "start_time": "2024-03-14T07:47:30.456Z"
   },
   {
    "duration": 42944,
    "start_time": "2024-03-14T07:47:30.528Z"
   },
   {
    "duration": 0,
    "start_time": "2024-03-14T07:48:13.475Z"
   },
   {
    "duration": 0,
    "start_time": "2024-03-14T07:48:13.476Z"
   },
   {
    "duration": 0,
    "start_time": "2024-03-14T07:48:13.477Z"
   },
   {
    "duration": 0,
    "start_time": "2024-03-14T07:48:13.479Z"
   },
   {
    "duration": 0,
    "start_time": "2024-03-14T07:48:13.480Z"
   },
   {
    "duration": 41231,
    "start_time": "2024-03-14T08:05:52.482Z"
   },
   {
    "duration": 2337,
    "start_time": "2024-03-14T08:10:51.496Z"
   },
   {
    "duration": 1014,
    "start_time": "2024-03-14T08:10:53.834Z"
   },
   {
    "duration": 3,
    "start_time": "2024-03-14T08:10:54.850Z"
   },
   {
    "duration": 18,
    "start_time": "2024-03-14T08:10:54.855Z"
   },
   {
    "duration": 5662,
    "start_time": "2024-03-14T08:10:54.877Z"
   },
   {
    "duration": 4,
    "start_time": "2024-03-14T08:11:00.540Z"
   },
   {
    "duration": 54,
    "start_time": "2024-03-14T08:11:00.545Z"
   },
   {
    "duration": 2569,
    "start_time": "2024-03-14T08:11:00.601Z"
   },
   {
    "duration": 2702,
    "start_time": "2024-03-14T08:14:00.163Z"
   },
   {
    "duration": 1055,
    "start_time": "2024-03-14T08:14:02.869Z"
   },
   {
    "duration": 4,
    "start_time": "2024-03-14T08:14:03.925Z"
   },
   {
    "duration": 6,
    "start_time": "2024-03-14T08:14:03.931Z"
   },
   {
    "duration": 5004,
    "start_time": "2024-03-14T08:14:03.940Z"
   },
   {
    "duration": 3,
    "start_time": "2024-03-14T08:14:08.946Z"
   },
   {
    "duration": 67,
    "start_time": "2024-03-14T08:14:08.950Z"
   },
   {
    "duration": 8781,
    "start_time": "2024-03-14T08:14:09.019Z"
   },
   {
    "duration": 1111411,
    "start_time": "2024-03-14T08:14:17.802Z"
   },
   {
    "duration": 1559,
    "start_time": "2024-03-14T08:32:49.214Z"
   },
   {
    "duration": 13,
    "start_time": "2024-03-14T09:26:39.211Z"
   },
   {
    "duration": 34,
    "start_time": "2024-03-14T09:26:56.996Z"
   },
   {
    "duration": 8,
    "start_time": "2024-03-14T09:29:35.349Z"
   },
   {
    "duration": 8,
    "start_time": "2024-03-14T09:46:48.635Z"
   },
   {
    "duration": 2211,
    "start_time": "2024-03-14T09:50:19.696Z"
   },
   {
    "duration": 2441,
    "start_time": "2024-03-14T09:50:21.909Z"
   },
   {
    "duration": 4,
    "start_time": "2024-03-14T09:50:24.351Z"
   },
   {
    "duration": 22,
    "start_time": "2024-03-14T09:50:24.356Z"
   },
   {
    "duration": 4740,
    "start_time": "2024-03-14T09:50:24.379Z"
   },
   {
    "duration": 3,
    "start_time": "2024-03-14T09:50:29.120Z"
   },
   {
    "duration": 30,
    "start_time": "2024-03-14T09:50:29.124Z"
   },
   {
    "duration": 16358,
    "start_time": "2024-03-14T09:50:29.155Z"
   },
   {
    "duration": 198407,
    "start_time": "2024-03-14T09:50:45.515Z"
   },
   {
    "duration": 10,
    "start_time": "2024-03-14T09:54:03.966Z"
   },
   {
    "duration": 10,
    "start_time": "2024-03-14T09:54:03.978Z"
   },
   {
    "duration": 14,
    "start_time": "2024-03-14T09:54:03.990Z"
   },
   {
    "duration": 4,
    "start_time": "2024-03-14T09:54:04.005Z"
   },
   {
    "duration": 265,
    "start_time": "2024-03-14T09:54:04.011Z"
   },
   {
    "duration": 2162,
    "start_time": "2024-03-14T09:54:58.127Z"
   },
   {
    "duration": 2451,
    "start_time": "2024-03-14T09:55:00.292Z"
   },
   {
    "duration": 5,
    "start_time": "2024-03-14T09:55:02.744Z"
   },
   {
    "duration": 10,
    "start_time": "2024-03-14T09:55:02.751Z"
   },
   {
    "duration": 10655,
    "start_time": "2024-03-14T09:55:02.764Z"
   },
   {
    "duration": 3,
    "start_time": "2024-03-14T09:55:13.421Z"
   },
   {
    "duration": 15,
    "start_time": "2024-03-14T09:55:13.425Z"
   },
   {
    "duration": 8145,
    "start_time": "2024-03-14T09:55:13.442Z"
   },
   {
    "duration": 2173,
    "start_time": "2024-03-14T09:58:40.017Z"
   },
   {
    "duration": 2368,
    "start_time": "2024-03-14T09:58:42.192Z"
   },
   {
    "duration": 4,
    "start_time": "2024-03-14T09:58:44.561Z"
   },
   {
    "duration": 7,
    "start_time": "2024-03-14T09:58:44.566Z"
   },
   {
    "duration": 5769,
    "start_time": "2024-03-14T09:58:44.576Z"
   },
   {
    "duration": 3,
    "start_time": "2024-03-14T09:58:50.346Z"
   },
   {
    "duration": 15,
    "start_time": "2024-03-14T09:58:50.351Z"
   },
   {
    "duration": 9203,
    "start_time": "2024-03-14T09:58:50.368Z"
   },
   {
    "duration": 2262,
    "start_time": "2024-03-14T10:01:29.144Z"
   },
   {
    "duration": 2417,
    "start_time": "2024-03-14T10:01:31.408Z"
   },
   {
    "duration": 4,
    "start_time": "2024-03-14T10:01:33.827Z"
   },
   {
    "duration": 10,
    "start_time": "2024-03-14T10:01:33.833Z"
   },
   {
    "duration": 6186,
    "start_time": "2024-03-14T10:01:33.845Z"
   },
   {
    "duration": 3,
    "start_time": "2024-03-14T10:01:40.033Z"
   },
   {
    "duration": 55,
    "start_time": "2024-03-14T10:01:40.037Z"
   },
   {
    "duration": 8336,
    "start_time": "2024-03-14T10:01:40.094Z"
   },
   {
    "duration": 2316,
    "start_time": "2024-03-14T11:13:14.598Z"
   },
   {
    "duration": 2475,
    "start_time": "2024-03-14T11:13:16.916Z"
   },
   {
    "duration": 4,
    "start_time": "2024-03-14T11:13:19.393Z"
   },
   {
    "duration": 11,
    "start_time": "2024-03-14T11:13:19.399Z"
   },
   {
    "duration": 5117,
    "start_time": "2024-03-14T11:13:19.411Z"
   },
   {
    "duration": 3,
    "start_time": "2024-03-14T11:13:24.530Z"
   },
   {
    "duration": 14,
    "start_time": "2024-03-14T11:13:24.534Z"
   },
   {
    "duration": 16893,
    "start_time": "2024-03-14T11:13:24.549Z"
   },
   {
    "duration": 2331,
    "start_time": "2024-03-18T17:53:56.407Z"
   },
   {
    "duration": 3384,
    "start_time": "2024-03-18T17:54:01.299Z"
   },
   {
    "duration": 4,
    "start_time": "2024-03-18T17:54:14.500Z"
   },
   {
    "duration": 6,
    "start_time": "2024-03-18T17:54:15.097Z"
   },
   {
    "duration": 2,
    "start_time": "2024-03-18T17:54:46.989Z"
   },
   {
    "duration": 135,
    "start_time": "2024-03-18T17:54:52.513Z"
   },
   {
    "duration": 92,
    "start_time": "2024-03-18T17:55:52.801Z"
   },
   {
    "duration": 89,
    "start_time": "2024-03-18T17:56:00.368Z"
   },
   {
    "duration": 114,
    "start_time": "2024-03-18T17:56:07.642Z"
   },
   {
    "duration": 106,
    "start_time": "2024-03-18T17:56:11.576Z"
   },
   {
    "duration": 83,
    "start_time": "2024-03-18T17:56:15.562Z"
   },
   {
    "duration": 90,
    "start_time": "2024-03-18T17:56:20.285Z"
   },
   {
    "duration": 2408,
    "start_time": "2024-03-18T17:56:37.422Z"
   },
   {
    "duration": 970,
    "start_time": "2024-03-18T17:56:39.832Z"
   },
   {
    "duration": 4,
    "start_time": "2024-03-18T17:56:40.804Z"
   },
   {
    "duration": 17,
    "start_time": "2024-03-18T17:56:40.809Z"
   },
   {
    "duration": 3,
    "start_time": "2024-03-18T17:56:40.827Z"
   },
   {
    "duration": 365,
    "start_time": "2024-03-18T17:56:40.832Z"
   },
   {
    "duration": 3,
    "start_time": "2024-03-18T17:56:50.930Z"
   },
   {
    "duration": 977,
    "start_time": "2024-03-18T17:56:51.915Z"
   },
   {
    "duration": 5,
    "start_time": "2024-03-18T17:56:54.405Z"
   },
   {
    "duration": 7,
    "start_time": "2024-03-18T17:56:55.338Z"
   },
   {
    "duration": 2,
    "start_time": "2024-03-18T17:57:03.904Z"
   },
   {
    "duration": 358,
    "start_time": "2024-03-18T17:57:04.666Z"
   },
   {
    "duration": 346,
    "start_time": "2024-03-18T17:57:13.080Z"
   },
   {
    "duration": 364,
    "start_time": "2024-03-18T17:57:16.293Z"
   },
   {
    "duration": 320,
    "start_time": "2024-03-18T17:57:21.720Z"
   },
   {
    "duration": 357,
    "start_time": "2024-03-18T17:57:25.090Z"
   },
   {
    "duration": 344,
    "start_time": "2024-03-18T17:57:29.003Z"
   },
   {
    "duration": 387,
    "start_time": "2024-03-18T17:57:32.752Z"
   },
   {
    "duration": 1855,
    "start_time": "2024-03-18T17:57:37.625Z"
   },
   {
    "duration": 361,
    "start_time": "2024-03-18T17:57:44.137Z"
   },
   {
    "duration": 2420,
    "start_time": "2024-03-18T17:58:15.586Z"
   },
   {
    "duration": 1010,
    "start_time": "2024-03-18T17:58:18.008Z"
   },
   {
    "duration": 11,
    "start_time": "2024-03-18T17:58:19.019Z"
   },
   {
    "duration": 6,
    "start_time": "2024-03-18T17:58:19.031Z"
   },
   {
    "duration": 6,
    "start_time": "2024-03-18T17:58:19.038Z"
   },
   {
    "duration": 3,
    "start_time": "2024-03-18T17:58:19.046Z"
   },
   {
    "duration": 388,
    "start_time": "2024-03-18T17:58:19.050Z"
   },
   {
    "duration": 11,
    "start_time": "2024-03-18T17:58:34.786Z"
   },
   {
    "duration": 2376,
    "start_time": "2024-03-18T17:58:55.421Z"
   },
   {
    "duration": 972,
    "start_time": "2024-03-18T17:58:57.800Z"
   },
   {
    "duration": 15,
    "start_time": "2024-03-18T17:58:58.774Z"
   },
   {
    "duration": 15,
    "start_time": "2024-03-18T17:58:58.790Z"
   },
   {
    "duration": 44,
    "start_time": "2024-03-18T17:58:58.806Z"
   },
   {
    "duration": 3,
    "start_time": "2024-03-18T17:58:58.852Z"
   },
   {
    "duration": 3185,
    "start_time": "2024-03-18T17:58:58.856Z"
   },
   {
    "duration": 2486,
    "start_time": "2024-03-18T17:59:36.451Z"
   },
   {
    "duration": 935,
    "start_time": "2024-03-18T17:59:38.940Z"
   },
   {
    "duration": 17,
    "start_time": "2024-03-18T17:59:39.880Z"
   },
   {
    "duration": 32,
    "start_time": "2024-03-18T17:59:39.898Z"
   },
   {
    "duration": 77,
    "start_time": "2024-03-18T17:59:39.932Z"
   },
   {
    "duration": 3,
    "start_time": "2024-03-18T17:59:40.010Z"
   },
   {
    "duration": 10763,
    "start_time": "2024-03-18T17:59:40.014Z"
   },
   {
    "duration": 3,
    "start_time": "2024-03-18T18:00:56.554Z"
   },
   {
    "duration": 12064,
    "start_time": "2024-03-18T18:00:58.725Z"
   },
   {
    "duration": 22693,
    "start_time": "2024-03-18T18:01:40.949Z"
   },
   {
    "duration": 11954,
    "start_time": "2024-03-18T18:02:24.785Z"
   },
   {
    "duration": 22632,
    "start_time": "2024-03-18T18:03:02.257Z"
   },
   {
    "duration": 25209,
    "start_time": "2024-03-18T18:03:30.128Z"
   },
   {
    "duration": 136,
    "start_time": "2024-03-18T18:05:24.771Z"
   },
   {
    "duration": 2297,
    "start_time": "2024-03-18T18:09:47.636Z"
   },
   {
    "duration": 930,
    "start_time": "2024-03-18T18:09:49.935Z"
   },
   {
    "duration": 16,
    "start_time": "2024-03-18T18:09:50.867Z"
   },
   {
    "duration": 13,
    "start_time": "2024-03-18T18:09:50.885Z"
   },
   {
    "duration": 51,
    "start_time": "2024-03-18T18:09:50.900Z"
   },
   {
    "duration": 20,
    "start_time": "2024-03-18T18:09:50.953Z"
   },
   {
    "duration": 829,
    "start_time": "2024-03-18T18:09:50.974Z"
   },
   {
    "duration": 228048,
    "start_time": "2024-03-18T18:09:51.804Z"
   },
   {
    "duration": 227910,
    "start_time": "2024-03-18T18:15:26.161Z"
   },
   {
    "duration": 229084,
    "start_time": "2024-03-18T18:19:45.771Z"
   },
   {
    "duration": 230566,
    "start_time": "2024-03-18T18:24:09.414Z"
   },
   {
    "duration": 227990,
    "start_time": "2024-03-18T18:28:49.420Z"
   },
   {
    "duration": 226429,
    "start_time": "2024-03-18T18:33:49.751Z"
   },
   {
    "duration": 2308,
    "start_time": "2024-03-18T18:38:34.004Z"
   },
   {
    "duration": 985,
    "start_time": "2024-03-18T18:38:38.417Z"
   },
   {
    "duration": 10,
    "start_time": "2024-03-18T18:38:41.700Z"
   },
   {
    "duration": 5,
    "start_time": "2024-03-18T18:38:44.150Z"
   },
   {
    "duration": 6,
    "start_time": "2024-03-18T18:38:44.729Z"
   },
   {
    "duration": 3,
    "start_time": "2024-03-18T18:38:45.634Z"
   },
   {
    "duration": 709,
    "start_time": "2024-03-18T18:39:05.122Z"
   },
   {
    "duration": 131805,
    "start_time": "2024-03-18T18:39:08.434Z"
   },
   {
    "duration": 2370,
    "start_time": "2024-03-18T18:46:07.282Z"
   },
   {
    "duration": 974,
    "start_time": "2024-03-18T18:46:11.624Z"
   },
   {
    "duration": 21,
    "start_time": "2024-03-18T18:46:17.749Z"
   },
   {
    "duration": 26,
    "start_time": "2024-03-18T18:46:20.733Z"
   },
   {
    "duration": 85,
    "start_time": "2024-03-18T18:46:22.538Z"
   },
   {
    "duration": 282,
    "start_time": "2024-03-18T18:46:24.544Z"
   },
   {
    "duration": 520,
    "start_time": "2024-03-18T18:46:27.627Z"
   },
   {
    "duration": 143101,
    "start_time": "2024-03-18T18:46:31.732Z"
   },
   {
    "duration": 276,
    "start_time": "2024-03-18T18:49:19.780Z"
   },
   {
    "duration": 2433,
    "start_time": "2024-03-18T18:50:00.810Z"
   },
   {
    "duration": 1040,
    "start_time": "2024-03-18T18:50:03.245Z"
   },
   {
    "duration": 17,
    "start_time": "2024-03-18T18:50:04.287Z"
   },
   {
    "duration": 31,
    "start_time": "2024-03-18T18:50:04.306Z"
   },
   {
    "duration": 92,
    "start_time": "2024-03-18T18:50:04.339Z"
   },
   {
    "duration": 352,
    "start_time": "2024-03-18T18:50:04.432Z"
   },
   {
    "duration": 483,
    "start_time": "2024-03-18T18:50:04.786Z"
   },
   {
    "duration": 2352,
    "start_time": "2024-03-18T18:50:29.658Z"
   },
   {
    "duration": 963,
    "start_time": "2024-03-18T18:50:32.012Z"
   },
   {
    "duration": 16,
    "start_time": "2024-03-18T18:50:32.977Z"
   },
   {
    "duration": 56,
    "start_time": "2024-03-18T18:50:32.994Z"
   },
   {
    "duration": 106,
    "start_time": "2024-03-18T18:50:33.052Z"
   },
   {
    "duration": 274,
    "start_time": "2024-03-18T18:50:33.160Z"
   },
   {
    "duration": 459,
    "start_time": "2024-03-18T18:50:33.436Z"
   },
   {
    "duration": 1290974,
    "start_time": "2024-03-18T18:50:33.897Z"
   },
   {
    "duration": 337,
    "start_time": "2024-03-18T19:15:15.702Z"
   },
   {
    "duration": 302,
    "start_time": "2024-03-18T19:15:33.025Z"
   },
   {
    "duration": 428,
    "start_time": "2024-03-18T19:15:38.086Z"
   },
   {
    "duration": 129126,
    "start_time": "2024-03-18T19:15:43.511Z"
   },
   {
    "duration": 31,
    "start_time": "2024-03-18T19:19:12.003Z"
   },
   {
    "duration": 25,
    "start_time": "2024-03-18T19:19:14.463Z"
   },
   {
    "duration": 71,
    "start_time": "2024-03-18T19:19:15.028Z"
   },
   {
    "duration": 17,
    "start_time": "2024-03-18T19:19:21.929Z"
   },
   {
    "duration": 308,
    "start_time": "2024-03-18T19:20:58.321Z"
   },
   {
    "duration": 3,
    "start_time": "2024-03-18T19:21:17.574Z"
   },
   {
    "duration": 158,
    "start_time": "2024-03-18T19:21:24.297Z"
   },
   {
    "duration": 2451,
    "start_time": "2024-03-18T19:22:27.815Z"
   },
   {
    "duration": 1028,
    "start_time": "2024-03-18T19:22:30.270Z"
   },
   {
    "duration": 19,
    "start_time": "2024-03-18T19:22:31.300Z"
   },
   {
    "duration": 93,
    "start_time": "2024-03-18T19:22:31.320Z"
   },
   {
    "duration": 110,
    "start_time": "2024-03-18T19:22:31.415Z"
   },
   {
    "duration": 142,
    "start_time": "2024-03-18T19:22:31.526Z"
   },
   {
    "duration": 0,
    "start_time": "2024-03-18T19:22:31.670Z"
   },
   {
    "duration": 0,
    "start_time": "2024-03-18T19:22:31.672Z"
   },
   {
    "duration": 0,
    "start_time": "2024-03-18T19:22:31.673Z"
   },
   {
    "duration": 1580,
    "start_time": "2024-03-18T19:23:19.745Z"
   },
   {
    "duration": 8433,
    "start_time": "2024-03-18T19:23:36.327Z"
   },
   {
    "duration": 2306,
    "start_time": "2024-03-19T10:23:11.982Z"
   },
   {
    "duration": 2453,
    "start_time": "2024-03-19T10:23:16.389Z"
   },
   {
    "duration": 16,
    "start_time": "2024-03-19T10:23:35.123Z"
   },
   {
    "duration": 25,
    "start_time": "2024-03-19T10:23:37.782Z"
   },
   {
    "duration": 72,
    "start_time": "2024-03-19T10:23:38.105Z"
   },
   {
    "duration": 63,
    "start_time": "2024-03-19T10:23:39.814Z"
   },
   {
    "duration": 23862,
    "start_time": "2024-03-19T10:23:44.433Z"
   },
   {
    "duration": 2516,
    "start_time": "2024-03-19T10:34:22.157Z"
   },
   {
    "duration": 923,
    "start_time": "2024-03-19T10:34:24.675Z"
   },
   {
    "duration": 19,
    "start_time": "2024-03-19T10:34:25.599Z"
   },
   {
    "duration": 22,
    "start_time": "2024-03-19T10:34:25.620Z"
   },
   {
    "duration": 85,
    "start_time": "2024-03-19T10:34:25.643Z"
   },
   {
    "duration": 91,
    "start_time": "2024-03-19T10:34:25.730Z"
   },
   {
    "duration": 164,
    "start_time": "2024-03-19T10:34:35.435Z"
   },
   {
    "duration": 2446,
    "start_time": "2024-03-19T10:35:47.149Z"
   },
   {
    "duration": 908,
    "start_time": "2024-03-19T10:35:49.597Z"
   },
   {
    "duration": 21,
    "start_time": "2024-03-19T10:35:50.507Z"
   },
   {
    "duration": 44,
    "start_time": "2024-03-19T10:35:50.530Z"
   },
   {
    "duration": 85,
    "start_time": "2024-03-19T10:35:50.575Z"
   },
   {
    "duration": 68,
    "start_time": "2024-03-19T10:35:50.662Z"
   },
   {
    "duration": 14542,
    "start_time": "2024-03-19T10:35:50.731Z"
   },
   {
    "duration": 76,
    "start_time": "2024-03-19T10:36:05.275Z"
   },
   {
    "duration": 0,
    "start_time": "2024-03-19T10:36:05.353Z"
   },
   {
    "duration": 2715,
    "start_time": "2024-03-19T10:37:47.287Z"
   },
   {
    "duration": 904,
    "start_time": "2024-03-19T10:37:50.004Z"
   },
   {
    "duration": 15,
    "start_time": "2024-03-19T10:37:50.914Z"
   },
   {
    "duration": 35,
    "start_time": "2024-03-19T10:37:50.930Z"
   },
   {
    "duration": 112,
    "start_time": "2024-03-19T10:37:50.967Z"
   },
   {
    "duration": 67,
    "start_time": "2024-03-19T10:37:51.081Z"
   },
   {
    "duration": 2736,
    "start_time": "2024-03-19T10:41:35.099Z"
   },
   {
    "duration": 968,
    "start_time": "2024-03-19T10:41:37.838Z"
   },
   {
    "duration": 17,
    "start_time": "2024-03-19T10:41:38.808Z"
   },
   {
    "duration": 36,
    "start_time": "2024-03-19T10:41:38.827Z"
   },
   {
    "duration": 78,
    "start_time": "2024-03-19T10:41:38.865Z"
   },
   {
    "duration": 80,
    "start_time": "2024-03-19T10:41:38.945Z"
   },
   {
    "duration": 8220,
    "start_time": "2024-03-19T10:41:39.027Z"
   },
   {
    "duration": 6494,
    "start_time": "2024-03-19T10:41:47.249Z"
   },
   {
    "duration": 84,
    "start_time": "2024-03-19T10:41:53.745Z"
   },
   {
    "duration": 0,
    "start_time": "2024-03-19T10:41:53.830Z"
   },
   {
    "duration": 0,
    "start_time": "2024-03-19T10:41:53.832Z"
   },
   {
    "duration": 68,
    "start_time": "2024-03-19T10:42:15.640Z"
   },
   {
    "duration": 8152,
    "start_time": "2024-03-19T10:42:16.738Z"
   },
   {
    "duration": 32,
    "start_time": "2024-03-19T10:42:31.071Z"
   },
   {
    "duration": 7590,
    "start_time": "2024-03-19T10:42:33.884Z"
   },
   {
    "duration": 7400,
    "start_time": "2024-03-19T10:42:41.476Z"
   },
   {
    "duration": 2843,
    "start_time": "2024-03-19T10:43:59.714Z"
   },
   {
    "duration": 942,
    "start_time": "2024-03-19T10:44:02.560Z"
   },
   {
    "duration": 22,
    "start_time": "2024-03-19T10:44:03.504Z"
   },
   {
    "duration": 27,
    "start_time": "2024-03-19T10:44:03.529Z"
   },
   {
    "duration": 83,
    "start_time": "2024-03-19T10:44:03.558Z"
   },
   {
    "duration": 82,
    "start_time": "2024-03-19T10:44:03.643Z"
   },
   {
    "duration": 8609,
    "start_time": "2024-03-19T10:44:03.727Z"
   },
   {
    "duration": 15194,
    "start_time": "2024-03-19T10:44:12.338Z"
   },
   {
    "duration": 2748,
    "start_time": "2024-03-19T10:45:59.728Z"
   },
   {
    "duration": 921,
    "start_time": "2024-03-19T10:46:02.478Z"
   },
   {
    "duration": 21,
    "start_time": "2024-03-19T10:46:03.401Z"
   },
   {
    "duration": 31,
    "start_time": "2024-03-19T10:46:03.424Z"
   },
   {
    "duration": 88,
    "start_time": "2024-03-19T10:46:03.458Z"
   },
   {
    "duration": 76,
    "start_time": "2024-03-19T10:46:03.548Z"
   },
   {
    "duration": 8528,
    "start_time": "2024-03-19T10:46:03.625Z"
   },
   {
    "duration": 15247,
    "start_time": "2024-03-19T10:46:12.154Z"
   },
   {
    "duration": 1711048,
    "start_time": "2024-03-19T10:46:27.402Z"
   },
   {
    "duration": 4,
    "start_time": "2024-03-19T11:19:28.845Z"
   },
   {
    "duration": 2243,
    "start_time": "2024-03-19T11:21:47.548Z"
   },
   {
    "duration": 1017,
    "start_time": "2024-03-19T11:21:51.351Z"
   },
   {
    "duration": 26,
    "start_time": "2024-03-19T11:22:07.529Z"
   },
   {
    "duration": 1371,
    "start_time": "2024-03-19T11:22:24.252Z"
   },
   {
    "duration": 652,
    "start_time": "2024-03-19T11:22:30.094Z"
   },
   {
    "duration": 22,
    "start_time": "2024-03-19T11:24:15.479Z"
   },
   {
    "duration": 2572,
    "start_time": "2024-03-19T11:24:41.420Z"
   },
   {
    "duration": 1012,
    "start_time": "2024-03-19T11:24:44.859Z"
   },
   {
    "duration": 26,
    "start_time": "2024-03-19T11:24:47.997Z"
   },
   {
    "duration": 278,
    "start_time": "2024-03-19T11:24:49.571Z"
   },
   {
    "duration": 25,
    "start_time": "2024-03-19T11:25:10.235Z"
   },
   {
    "duration": 52,
    "start_time": "2024-03-19T11:28:23.032Z"
   },
   {
    "duration": 2638,
    "start_time": "2024-03-19T11:28:33.818Z"
   },
   {
    "duration": 2451,
    "start_time": "2024-03-19T11:28:36.458Z"
   },
   {
    "duration": 28,
    "start_time": "2024-03-19T11:28:38.910Z"
   },
   {
    "duration": 5239,
    "start_time": "2024-03-19T11:28:38.940Z"
   },
   {
    "duration": 3,
    "start_time": "2024-03-19T11:28:44.181Z"
   },
   {
    "duration": 78,
    "start_time": "2024-03-19T11:28:44.186Z"
   },
   {
    "duration": 8,
    "start_time": "2024-03-19T11:29:17.668Z"
   },
   {
    "duration": 85,
    "start_time": "2024-03-19T11:30:12.788Z"
   },
   {
    "duration": 80,
    "start_time": "2024-03-19T11:31:31.243Z"
   },
   {
    "duration": 29,
    "start_time": "2024-03-19T11:32:14.092Z"
   },
   {
    "duration": 29,
    "start_time": "2024-03-19T11:32:24.439Z"
   },
   {
    "duration": 87,
    "start_time": "2024-03-19T11:33:47.480Z"
   },
   {
    "duration": 1610,
    "start_time": "2024-03-19T11:41:04.457Z"
   },
   {
    "duration": 1014,
    "start_time": "2024-03-19T11:41:06.069Z"
   },
   {
    "duration": 30,
    "start_time": "2024-03-19T11:41:07.085Z"
   },
   {
    "duration": 80,
    "start_time": "2024-03-19T11:41:07.117Z"
   },
   {
    "duration": 192,
    "start_time": "2024-03-19T11:41:07.199Z"
   },
   {
    "duration": 3,
    "start_time": "2024-03-19T11:41:07.393Z"
   },
   {
    "duration": 77,
    "start_time": "2024-03-19T11:41:07.397Z"
   },
   {
    "duration": 8702,
    "start_time": "2024-03-19T11:41:07.475Z"
   },
   {
    "duration": 8629,
    "start_time": "2024-03-19T11:41:22.613Z"
   },
   {
    "duration": 8864,
    "start_time": "2024-03-19T11:42:36.734Z"
   },
   {
    "duration": 8854,
    "start_time": "2024-03-19T11:43:11.332Z"
   },
   {
    "duration": 1697,
    "start_time": "2024-03-19T11:44:04.281Z"
   },
   {
    "duration": 1021,
    "start_time": "2024-03-19T11:44:05.980Z"
   },
   {
    "duration": 27,
    "start_time": "2024-03-19T11:44:07.002Z"
   },
   {
    "duration": 91,
    "start_time": "2024-03-19T11:44:07.031Z"
   },
   {
    "duration": 192,
    "start_time": "2024-03-19T11:44:07.124Z"
   },
   {
    "duration": 2,
    "start_time": "2024-03-19T11:44:07.318Z"
   },
   {
    "duration": 82,
    "start_time": "2024-03-19T11:44:07.322Z"
   },
   {
    "duration": 8701,
    "start_time": "2024-03-19T11:44:07.406Z"
   },
   {
    "duration": 7906,
    "start_time": "2024-03-19T11:45:38.668Z"
   },
   {
    "duration": 6318,
    "start_time": "2024-03-19T11:46:10.001Z"
   },
   {
    "duration": 1570,
    "start_time": "2024-03-19T11:48:10.464Z"
   },
   {
    "duration": 1035,
    "start_time": "2024-03-19T11:48:12.036Z"
   },
   {
    "duration": 26,
    "start_time": "2024-03-19T11:48:13.073Z"
   },
   {
    "duration": 98,
    "start_time": "2024-03-19T11:48:13.101Z"
   },
   {
    "duration": 181,
    "start_time": "2024-03-19T11:48:13.200Z"
   },
   {
    "duration": 3,
    "start_time": "2024-03-19T11:48:13.383Z"
   },
   {
    "duration": 92,
    "start_time": "2024-03-19T11:48:13.387Z"
   },
   {
    "duration": 8184,
    "start_time": "2024-03-19T11:48:13.481Z"
   },
   {
    "duration": 6309,
    "start_time": "2024-03-19T11:48:21.667Z"
   },
   {
    "duration": 1591071,
    "start_time": "2024-03-19T11:48:27.978Z"
   },
   {
    "duration": 1675,
    "start_time": "2024-03-19T12:51:14.120Z"
   },
   {
    "duration": 1027,
    "start_time": "2024-03-19T12:51:15.797Z"
   },
   {
    "duration": 27,
    "start_time": "2024-03-19T12:51:16.825Z"
   },
   {
    "duration": 93,
    "start_time": "2024-03-19T12:51:16.854Z"
   },
   {
    "duration": 181,
    "start_time": "2024-03-19T12:51:16.948Z"
   },
   {
    "duration": 2,
    "start_time": "2024-03-19T12:51:17.131Z"
   },
   {
    "duration": 67,
    "start_time": "2024-03-19T12:51:17.135Z"
   },
   {
    "duration": 8084,
    "start_time": "2024-03-19T12:51:17.203Z"
   },
   {
    "duration": 6480,
    "start_time": "2024-03-19T12:51:25.289Z"
   },
   {
    "duration": 172611,
    "start_time": "2024-03-19T12:51:31.771Z"
   },
   {
    "duration": 57,
    "start_time": "2024-03-19T12:54:24.384Z"
   },
   {
    "duration": 55,
    "start_time": "2024-03-19T12:54:43.935Z"
   },
   {
    "duration": 54,
    "start_time": "2024-03-19T12:54:46.503Z"
   },
   {
    "duration": 1640,
    "start_time": "2024-03-19T12:55:53.347Z"
   },
   {
    "duration": 998,
    "start_time": "2024-03-19T12:55:54.989Z"
   },
   {
    "duration": 29,
    "start_time": "2024-03-19T12:55:55.989Z"
   },
   {
    "duration": 90,
    "start_time": "2024-03-19T12:55:56.019Z"
   },
   {
    "duration": 183,
    "start_time": "2024-03-19T12:55:56.111Z"
   },
   {
    "duration": 3,
    "start_time": "2024-03-19T12:55:56.295Z"
   },
   {
    "duration": 80,
    "start_time": "2024-03-19T12:55:56.299Z"
   },
   {
    "duration": 8239,
    "start_time": "2024-03-19T12:55:56.381Z"
   },
   {
    "duration": 6389,
    "start_time": "2024-03-19T12:56:04.622Z"
   },
   {
    "duration": 1593337,
    "start_time": "2024-03-19T12:56:11.012Z"
   },
   {
    "duration": 53,
    "start_time": "2024-03-19T13:22:44.351Z"
   },
   {
    "duration": 1445,
    "start_time": "2024-03-19T16:26:56.898Z"
   },
   {
    "duration": 3341,
    "start_time": "2024-03-19T16:26:58.344Z"
   },
   {
    "duration": 23,
    "start_time": "2024-03-19T16:27:01.687Z"
   },
   {
    "duration": 135,
    "start_time": "2024-03-19T16:27:01.712Z"
   },
   {
    "duration": 90,
    "start_time": "2024-03-19T16:27:01.849Z"
   },
   {
    "duration": 0,
    "start_time": "2024-03-19T16:27:01.941Z"
   },
   {
    "duration": 0,
    "start_time": "2024-03-19T16:27:01.942Z"
   },
   {
    "duration": 0,
    "start_time": "2024-03-19T16:27:01.944Z"
   },
   {
    "duration": 0,
    "start_time": "2024-03-19T16:27:01.946Z"
   },
   {
    "duration": 0,
    "start_time": "2024-03-19T16:27:01.947Z"
   },
   {
    "duration": 0,
    "start_time": "2024-03-19T16:27:01.948Z"
   },
   {
    "duration": 1425,
    "start_time": "2024-03-19T16:27:22.555Z"
   },
   {
    "duration": 912,
    "start_time": "2024-03-19T16:27:23.986Z"
   },
   {
    "duration": 21,
    "start_time": "2024-03-19T16:27:24.900Z"
   },
   {
    "duration": 80,
    "start_time": "2024-03-19T16:27:24.923Z"
   },
   {
    "duration": 98,
    "start_time": "2024-03-19T16:27:25.005Z"
   },
   {
    "duration": 2,
    "start_time": "2024-03-19T16:27:25.105Z"
   },
   {
    "duration": 67,
    "start_time": "2024-03-19T16:27:25.108Z"
   },
   {
    "duration": 323,
    "start_time": "2024-03-19T16:27:25.176Z"
   },
   {
    "duration": 0,
    "start_time": "2024-03-19T16:27:25.500Z"
   },
   {
    "duration": 0,
    "start_time": "2024-03-19T16:27:25.501Z"
   },
   {
    "duration": 0,
    "start_time": "2024-03-19T16:27:25.502Z"
   },
   {
    "duration": 2577,
    "start_time": "2024-03-19T16:27:58.151Z"
   },
   {
    "duration": 9767,
    "start_time": "2024-03-19T16:28:15.313Z"
   },
   {
    "duration": 3012,
    "start_time": "2024-03-19T16:28:46.680Z"
   },
   {
    "duration": 955,
    "start_time": "2024-03-19T16:28:49.694Z"
   },
   {
    "duration": 23,
    "start_time": "2024-03-19T16:28:50.651Z"
   },
   {
    "duration": 81,
    "start_time": "2024-03-19T16:28:50.676Z"
   },
   {
    "duration": 178,
    "start_time": "2024-03-19T16:28:50.758Z"
   },
   {
    "duration": 3,
    "start_time": "2024-03-19T16:28:50.938Z"
   },
   {
    "duration": 86,
    "start_time": "2024-03-19T16:28:50.943Z"
   },
   {
    "duration": 7913,
    "start_time": "2024-03-19T16:28:51.031Z"
   },
   {
    "duration": 6407,
    "start_time": "2024-03-19T16:28:58.945Z"
   },
   {
    "duration": 1551734,
    "start_time": "2024-03-19T16:29:05.354Z"
   },
   {
    "duration": 48,
    "start_time": "2024-03-19T16:54:57.090Z"
   },
   {
    "duration": 1873,
    "start_time": "2024-03-19T18:09:39.045Z"
   },
   {
    "duration": 2439,
    "start_time": "2024-03-19T18:09:40.920Z"
   },
   {
    "duration": 27,
    "start_time": "2024-03-19T18:09:43.361Z"
   },
   {
    "duration": 79,
    "start_time": "2024-03-19T18:09:43.390Z"
   },
   {
    "duration": 181,
    "start_time": "2024-03-19T18:09:43.471Z"
   },
   {
    "duration": 1683,
    "start_time": "2024-03-19T18:13:33.195Z"
   },
   {
    "duration": 1017,
    "start_time": "2024-03-19T18:13:34.880Z"
   },
   {
    "duration": 25,
    "start_time": "2024-03-19T18:13:35.899Z"
   },
   {
    "duration": 76,
    "start_time": "2024-03-19T18:13:35.926Z"
   },
   {
    "duration": 183,
    "start_time": "2024-03-19T18:13:36.014Z"
   },
   {
    "duration": 3940,
    "start_time": "2024-03-19T18:13:36.199Z"
   },
   {
    "duration": 1625,
    "start_time": "2024-03-19T18:14:23.546Z"
   },
   {
    "duration": 996,
    "start_time": "2024-03-19T18:14:25.173Z"
   },
   {
    "duration": 26,
    "start_time": "2024-03-19T18:14:26.170Z"
   },
   {
    "duration": 90,
    "start_time": "2024-03-19T18:14:26.198Z"
   },
   {
    "duration": 181,
    "start_time": "2024-03-19T18:14:26.290Z"
   },
   {
    "duration": 4824,
    "start_time": "2024-03-19T18:14:26.473Z"
   },
   {
    "duration": 3,
    "start_time": "2024-03-19T18:14:31.299Z"
   },
   {
    "duration": 1600,
    "start_time": "2024-03-19T18:18:03.874Z"
   },
   {
    "duration": 1056,
    "start_time": "2024-03-19T18:18:05.475Z"
   },
   {
    "duration": 27,
    "start_time": "2024-03-19T18:18:06.532Z"
   },
   {
    "duration": 106,
    "start_time": "2024-03-19T18:18:06.560Z"
   },
   {
    "duration": 189,
    "start_time": "2024-03-19T18:18:06.668Z"
   },
   {
    "duration": 4809,
    "start_time": "2024-03-19T18:18:06.859Z"
   },
   {
    "duration": 365,
    "start_time": "2024-03-19T18:18:44.216Z"
   },
   {
    "duration": 1217,
    "start_time": "2024-03-19T18:18:59.074Z"
   },
   {
    "duration": 6,
    "start_time": "2024-03-19T18:19:06.408Z"
   },
   {
    "duration": 1630,
    "start_time": "2024-03-19T18:22:23.358Z"
   },
   {
    "duration": 1036,
    "start_time": "2024-03-19T18:22:24.990Z"
   },
   {
    "duration": 27,
    "start_time": "2024-03-19T18:22:26.028Z"
   },
   {
    "duration": 82,
    "start_time": "2024-03-19T18:22:26.057Z"
   },
   {
    "duration": 187,
    "start_time": "2024-03-19T18:22:26.140Z"
   },
   {
    "duration": 5045,
    "start_time": "2024-03-19T18:22:26.329Z"
   },
   {
    "duration": 1446,
    "start_time": "2024-03-19T18:22:31.376Z"
   },
   {
    "duration": 1573,
    "start_time": "2024-03-19T18:23:22.275Z"
   },
   {
    "duration": 1063,
    "start_time": "2024-03-19T18:23:23.850Z"
   },
   {
    "duration": 26,
    "start_time": "2024-03-19T18:23:24.915Z"
   },
   {
    "duration": 92,
    "start_time": "2024-03-19T18:23:24.943Z"
   },
   {
    "duration": 185,
    "start_time": "2024-03-19T18:23:25.037Z"
   },
   {
    "duration": 4944,
    "start_time": "2024-03-19T18:23:25.224Z"
   },
   {
    "duration": 6,
    "start_time": "2024-03-19T18:24:12.626Z"
   },
   {
    "duration": 1619,
    "start_time": "2024-03-19T18:27:46.943Z"
   },
   {
    "duration": 1037,
    "start_time": "2024-03-19T18:27:48.563Z"
   },
   {
    "duration": 29,
    "start_time": "2024-03-19T18:27:49.602Z"
   },
   {
    "duration": 86,
    "start_time": "2024-03-19T18:27:49.633Z"
   },
   {
    "duration": 171,
    "start_time": "2024-03-19T18:27:49.721Z"
   },
   {
    "duration": 5055,
    "start_time": "2024-03-19T18:27:49.893Z"
   },
   {
    "duration": 1717,
    "start_time": "2024-03-19T18:28:44.281Z"
   },
   {
    "duration": 1051,
    "start_time": "2024-03-19T18:28:46.000Z"
   },
   {
    "duration": 26,
    "start_time": "2024-03-19T18:28:47.053Z"
   },
   {
    "duration": 91,
    "start_time": "2024-03-19T18:28:47.081Z"
   },
   {
    "duration": 182,
    "start_time": "2024-03-19T18:28:47.174Z"
   },
   {
    "duration": 1654,
    "start_time": "2024-03-19T18:42:04.980Z"
   },
   {
    "duration": 1049,
    "start_time": "2024-03-19T18:42:06.636Z"
   },
   {
    "duration": 31,
    "start_time": "2024-03-19T18:42:07.687Z"
   },
   {
    "duration": 95,
    "start_time": "2024-03-19T18:42:07.720Z"
   },
   {
    "duration": 200,
    "start_time": "2024-03-19T18:42:07.817Z"
   },
   {
    "duration": 18021,
    "start_time": "2024-03-19T18:42:08.019Z"
   },
   {
    "duration": 1652,
    "start_time": "2024-03-19T18:42:44.990Z"
   },
   {
    "duration": 1053,
    "start_time": "2024-03-19T18:42:46.644Z"
   },
   {
    "duration": 31,
    "start_time": "2024-03-19T18:42:47.699Z"
   },
   {
    "duration": 84,
    "start_time": "2024-03-19T18:42:47.733Z"
   },
   {
    "duration": 187,
    "start_time": "2024-03-19T18:42:47.819Z"
   },
   {
    "duration": 149309,
    "start_time": "2024-03-19T18:42:48.008Z"
   },
   {
    "duration": 1570,
    "start_time": "2024-03-19T18:49:47.153Z"
   },
   {
    "duration": 1031,
    "start_time": "2024-03-19T18:49:48.725Z"
   },
   {
    "duration": 25,
    "start_time": "2024-03-19T18:49:49.758Z"
   },
   {
    "duration": 91,
    "start_time": "2024-03-19T18:49:49.785Z"
   },
   {
    "duration": 181,
    "start_time": "2024-03-19T18:49:49.879Z"
   },
   {
    "duration": 4574,
    "start_time": "2024-03-19T18:49:50.062Z"
   },
   {
    "duration": 1739,
    "start_time": "2024-03-19T18:51:30.571Z"
   },
   {
    "duration": 1146,
    "start_time": "2024-03-19T18:51:32.312Z"
   },
   {
    "duration": 27,
    "start_time": "2024-03-19T18:51:33.460Z"
   },
   {
    "duration": 111,
    "start_time": "2024-03-19T18:51:33.489Z"
   },
   {
    "duration": 181,
    "start_time": "2024-03-19T18:51:33.602Z"
   },
   {
    "duration": 1683,
    "start_time": "2024-03-19T18:53:03.698Z"
   },
   {
    "duration": 1107,
    "start_time": "2024-03-19T18:53:05.383Z"
   },
   {
    "duration": 31,
    "start_time": "2024-03-19T18:53:06.492Z"
   },
   {
    "duration": 93,
    "start_time": "2024-03-19T18:53:06.525Z"
   },
   {
    "duration": 181,
    "start_time": "2024-03-19T18:53:06.620Z"
   },
   {
    "duration": 1648,
    "start_time": "2024-03-19T18:55:34.791Z"
   },
   {
    "duration": 1018,
    "start_time": "2024-03-19T18:55:36.441Z"
   },
   {
    "duration": 26,
    "start_time": "2024-03-19T18:55:37.461Z"
   },
   {
    "duration": 90,
    "start_time": "2024-03-19T18:55:37.489Z"
   },
   {
    "duration": 199,
    "start_time": "2024-03-19T18:55:37.581Z"
   },
   {
    "duration": 1643,
    "start_time": "2024-03-19T18:58:02.646Z"
   },
   {
    "duration": 1040,
    "start_time": "2024-03-19T18:58:04.291Z"
   },
   {
    "duration": 26,
    "start_time": "2024-03-19T18:58:05.334Z"
   },
   {
    "duration": 92,
    "start_time": "2024-03-19T18:58:05.362Z"
   },
   {
    "duration": 179,
    "start_time": "2024-03-19T18:58:05.457Z"
   },
   {
    "duration": 1570,
    "start_time": "2024-03-19T19:00:26.175Z"
   },
   {
    "duration": 1025,
    "start_time": "2024-03-19T19:00:27.747Z"
   },
   {
    "duration": 24,
    "start_time": "2024-03-19T19:00:28.774Z"
   },
   {
    "duration": 92,
    "start_time": "2024-03-19T19:00:28.800Z"
   },
   {
    "duration": 183,
    "start_time": "2024-03-19T19:00:28.894Z"
   },
   {
    "duration": 146319,
    "start_time": "2024-03-19T19:00:29.079Z"
   },
   {
    "duration": 15,
    "start_time": "2024-03-19T19:02:55.400Z"
   },
   {
    "duration": 19,
    "start_time": "2024-03-19T19:02:55.418Z"
   },
   {
    "duration": 716,
    "start_time": "2024-03-19T19:02:55.439Z"
   },
   {
    "duration": 484,
    "start_time": "2024-03-19T19:02:56.157Z"
   },
   {
    "duration": 167932,
    "start_time": "2024-03-19T19:02:56.643Z"
   },
   {
    "duration": 10,
    "start_time": "2024-03-19T19:05:44.576Z"
   },
   {
    "duration": 5,
    "start_time": "2024-03-19T19:06:42.501Z"
   },
   {
    "duration": 4,
    "start_time": "2024-03-19T19:06:48.771Z"
   },
   {
    "duration": 1761,
    "start_time": "2024-03-19T19:08:45.300Z"
   },
   {
    "duration": 1030,
    "start_time": "2024-03-19T19:08:47.063Z"
   },
   {
    "duration": 30,
    "start_time": "2024-03-19T19:08:48.095Z"
   },
   {
    "duration": 99,
    "start_time": "2024-03-19T19:08:48.127Z"
   },
   {
    "duration": 187,
    "start_time": "2024-03-19T19:08:48.228Z"
   },
   {
    "duration": 728200,
    "start_time": "2024-03-19T19:08:48.417Z"
   },
   {
    "duration": 3,
    "start_time": "2024-03-19T19:20:56.619Z"
   },
   {
    "duration": 33,
    "start_time": "2024-03-19T19:20:56.624Z"
   },
   {
    "duration": 2476,
    "start_time": "2024-03-19T19:20:56.659Z"
   },
   {
    "duration": 2400,
    "start_time": "2024-03-19T19:20:59.137Z"
   },
   {
    "duration": 575957,
    "start_time": "2024-03-19T19:21:01.539Z"
   },
   {
    "duration": 27,
    "start_time": "2024-03-19T19:30:37.498Z"
   },
   {
    "duration": 1674,
    "start_time": "2024-03-19T19:32:09.426Z"
   },
   {
    "duration": 1013,
    "start_time": "2024-03-19T19:32:11.102Z"
   },
   {
    "duration": 25,
    "start_time": "2024-03-19T19:32:12.117Z"
   },
   {
    "duration": 88,
    "start_time": "2024-03-19T19:32:12.144Z"
   },
   {
    "duration": 186,
    "start_time": "2024-03-19T19:32:12.234Z"
   },
   {
    "duration": 2210363,
    "start_time": "2024-03-19T19:32:12.422Z"
   },
   {
    "duration": 4,
    "start_time": "2024-03-19T20:09:02.786Z"
   },
   {
    "duration": 73,
    "start_time": "2024-03-19T20:09:02.791Z"
   },
   {
    "duration": 7310,
    "start_time": "2024-03-19T20:09:02.865Z"
   },
   {
    "duration": 8020,
    "start_time": "2024-03-19T20:09:10.178Z"
   },
   {
    "duration": 1333568,
    "start_time": "2024-03-19T20:09:18.200Z"
   },
   {
    "duration": 55,
    "start_time": "2024-03-19T20:31:31.770Z"
   },
   {
    "duration": 184,
    "start_time": "2024-03-19T20:48:01.051Z"
   },
   {
    "duration": 4259,
    "start_time": "2024-03-19T20:59:17.018Z"
   },
   {
    "duration": 944,
    "start_time": "2024-03-19T20:59:21.279Z"
   },
   {
    "duration": 25,
    "start_time": "2024-03-19T20:59:22.224Z"
   },
   {
    "duration": 87,
    "start_time": "2024-03-19T20:59:22.251Z"
   },
   {
    "duration": 103,
    "start_time": "2024-03-19T20:59:22.340Z"
   },
   {
    "duration": 2236236,
    "start_time": "2024-03-19T20:59:22.445Z"
   },
   {
    "duration": 3,
    "start_time": "2024-03-19T21:36:38.683Z"
   },
   {
    "duration": 122,
    "start_time": "2024-03-19T21:36:38.688Z"
   },
   {
    "duration": 7337,
    "start_time": "2024-03-19T21:36:38.815Z"
   },
   {
    "duration": 1961,
    "start_time": "2024-03-19T21:36:46.154Z"
   },
   {
    "duration": 1364168,
    "start_time": "2024-03-19T21:36:48.117Z"
   },
   {
    "duration": 59,
    "start_time": "2024-03-19T21:59:32.287Z"
   },
   {
    "duration": 98,
    "start_time": "2024-03-19T21:59:32.347Z"
   },
   {
    "duration": 360,
    "start_time": "2024-03-19T22:04:07.892Z"
   },
   {
    "duration": 57,
    "start_time": "2024-03-19T22:04:31.879Z"
   },
   {
    "duration": 516,
    "start_time": "2024-03-19T22:05:34.927Z"
   },
   {
    "duration": 317,
    "start_time": "2024-03-19T22:06:33.531Z"
   },
   {
    "duration": 489,
    "start_time": "2024-03-19T22:06:55.866Z"
   },
   {
    "duration": 444,
    "start_time": "2024-03-19T22:09:38.351Z"
   },
   {
    "duration": 464,
    "start_time": "2024-03-19T22:09:43.853Z"
   },
   {
    "duration": 69,
    "start_time": "2024-03-19T22:16:40.694Z"
   },
   {
    "duration": 5951,
    "start_time": "2024-03-20T09:41:19.342Z"
   },
   {
    "duration": 2299,
    "start_time": "2024-03-20T09:41:25.295Z"
   },
   {
    "duration": 24,
    "start_time": "2024-03-20T09:41:27.595Z"
   },
   {
    "duration": 86,
    "start_time": "2024-03-20T09:41:27.621Z"
   },
   {
    "duration": 103,
    "start_time": "2024-03-20T09:41:27.709Z"
   },
   {
    "duration": 2276429,
    "start_time": "2024-03-20T09:41:27.813Z"
   },
   {
    "duration": 3,
    "start_time": "2024-03-20T10:19:24.243Z"
   },
   {
    "duration": 129,
    "start_time": "2024-03-20T10:19:24.248Z"
   },
   {
    "duration": 6631,
    "start_time": "2024-03-20T10:19:24.379Z"
   },
   {
    "duration": 3568,
    "start_time": "2024-03-20T10:19:31.017Z"
   },
   {
    "duration": 1247842,
    "start_time": "2024-03-20T10:19:34.587Z"
   },
   {
    "duration": 48,
    "start_time": "2024-03-20T10:40:22.430Z"
   },
   {
    "duration": 94,
    "start_time": "2024-03-20T10:40:22.480Z"
   },
   {
    "duration": 475,
    "start_time": "2024-03-20T10:40:22.576Z"
   }
  ],
  "kernelspec": {
   "display_name": "Python 3 (ipykernel)",
   "language": "python",
   "name": "python3"
  },
  "language_info": {
   "codemirror_mode": {
    "name": "ipython",
    "version": 3
   },
   "file_extension": ".py",
   "mimetype": "text/x-python",
   "name": "python",
   "nbconvert_exporter": "python",
   "pygments_lexer": "ipython3",
   "version": "3.12.2"
  },
  "toc": {
   "base_numbering": 1,
   "nav_menu": {},
   "number_sections": true,
   "sideBar": true,
   "skip_h1_title": true,
   "title_cell": "Содержание",
   "title_sidebar": "Contents",
   "toc_cell": true,
   "toc_position": {
    "height": "calc(100% - 180px)",
    "left": "10px",
    "top": "150px",
    "width": "302.391px"
   },
   "toc_section_display": true,
   "toc_window_display": false
  }
 },
 "nbformat": 4,
 "nbformat_minor": 4
}
